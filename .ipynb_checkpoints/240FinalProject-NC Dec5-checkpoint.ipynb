{
 "cells": [
  {
   "cell_type": "code",
   "execution_count": 78,
   "metadata": {},
   "outputs": [],
   "source": [
    "import numpy as np\n",
    "import pandas as pd\n",
    "import matplotlib.pyplot as plt\n",
    "import seaborn as sns\n",
    "import math\n",
    "import calendar\n",
    "from datetime import date, timedelta\n",
    "# import package to ignore warning\n",
    "import warnings\n",
    "warnings.filterwarnings('ignore')"
   ]
  },
  {
   "cell_type": "code",
   "execution_count": 79,
   "metadata": {},
   "outputs": [],
   "source": [
    "# import data\n",
    "train = pd.read_csv('train.csv', index_col = 0)\n",
    "test = pd.read_csv('test.csv', index_col = 0)"
   ]
  },
  {
   "cell_type": "code",
   "execution_count": 80,
   "metadata": {},
   "outputs": [],
   "source": [
    "# drop rows which include San Jose and SJOS - San Jose (train set do not contain)\n",
    "test = test.drop(test[test['Area'] == 'San Jose'].index)\n",
    "test = test.drop(test[test['Area'] == 'SJOS - San Jose'].index)"
   ]
  },
  {
   "cell_type": "code",
   "execution_count": 81,
   "metadata": {},
   "outputs": [],
   "source": [
    "# drop rows in test sets with 'Freq_B', 'Freq_Q', \n",
    "test = test.drop(test[test['Freq'] == 'B'].index)\n",
    "test = test.drop(test[test['Freq'] == 'Q'].index)"
   ]
  },
  {
   "cell_type": "code",
   "execution_count": 82,
   "metadata": {},
   "outputs": [],
   "source": [
    "# since test set does not have month of accpet date in Oct, add a Oct column in test set equal to 0\n",
    "test[\"Month_Accept_Date_Oct\"] = [0] * len(test)"
   ]
  },
  {
   "cell_type": "code",
   "execution_count": 83,
   "metadata": {},
   "outputs": [],
   "source": [
    "# drop columns which information already showen in other freatures\n",
    "train = train.drop(columns = ['YrBlt','Closing_Date','Accept_Date','Listing_Date'])\n",
    "test = test.drop(columns = ['YrBlt','Closing_Date','Accept_Date','Listing_Date'])"
   ]
  },
  {
   "cell_type": "code",
   "execution_count": 84,
   "metadata": {},
   "outputs": [],
   "source": [
    "# split train set into x and y\n",
    "y_train = train['SP']\n",
    "x_train = train.drop(columns = ['SP'])\n",
    "x_train = pd.get_dummies(x_train)"
   ]
  },
  {
   "cell_type": "code",
   "execution_count": 85,
   "metadata": {},
   "outputs": [],
   "source": [
    "# import package for random forest\n",
    "from sklearn.model_selection import GridSearchCV\n",
    "from sklearn.ensemble import RandomForestRegressor"
   ]
  },
  {
   "cell_type": "code",
   "execution_count": 96,
   "metadata": {},
   "outputs": [],
   "source": [
    "# grid search for best parameter\n",
    "grid_values = {'max_features': np.linspace(1,56,56, dtype='int32'),\n",
    "              'min_samples_leaf': [5],\n",
    "              'n_estimators': [500],\n",
    "              'random_state': [88]} "
   ]
  },
  {
   "cell_type": "code",
   "execution_count": 97,
   "metadata": {
    "scrolled": true
   },
   "outputs": [
    {
     "data": {
      "text/plain": [
       "GridSearchCV(cv=5, estimator=RandomForestRegressor(),\n",
       "             param_grid={'max_features': array([ 1,  2,  3,  4,  5,  6,  7,  8,  9, 10, 11, 12, 13, 14, 15, 16, 17,\n",
       "       18, 19, 20, 21, 22, 23, 24, 25, 26, 27, 28, 29, 30, 31, 32, 33, 34,\n",
       "       35, 36, 37, 38, 39, 40, 41, 42, 43, 44, 45, 46, 47, 48, 49, 50, 51,\n",
       "       52, 53, 54, 55, 56], dtype=int32),\n",
       "                         'min_samples_leaf': [5], 'n_estimators': [500],\n",
       "                         'random_state': [88]},\n",
       "             scoring='neg_root_mean_squared_error')"
      ]
     },
     "execution_count": 97,
     "metadata": {},
     "output_type": "execute_result"
    }
   ],
   "source": [
    "# build random forest model\n",
    "rf = RandomForestRegressor() \n",
    "rf_cv = GridSearchCV(rf, param_grid = grid_values, scoring='neg_root_mean_squared_error', cv=5)\n",
    "rf_cv.fit(x_train, y_train)"
   ]
  },
  {
   "cell_type": "code",
   "execution_count": 112,
   "metadata": {},
   "outputs": [
    {
     "data": {
      "text/plain": [
       "(1.0, 56.0)"
      ]
     },
     "execution_count": 112,
     "metadata": {},
     "output_type": "execute_result"
    },
    {
     "data": {
      "image/png": "[encoded data removed]",
      "text/plain": [
       "<Figure size 432x288 with 1 Axes>"
      ]
     },
     "metadata": {
      "needs_background": "light"
     },
     "output_type": "display_data"
    }
   ],
   "source": [
    "# plot mrse coressonding to different max features\n",
    "max_features = rf_cv.cv_results_['param_max_features'].data\n",
    "mrse = (-1) * rf_cv.cv_results_['mean_test_score']\n",
    "\n",
    "plt.xlabel('max features', fontsize=16)\n",
    "plt.ylabel('root_mean_squared_error', fontsize=16)\n",
    "plt.scatter(max_features, mrse, s=30)\n",
    "plt.plot(max_features, mrse, linewidth=3)\n",
    "plt.grid(True, which='both')\n",
    "plt.xlim([1, 56])"
   ]
  },
  {
   "cell_type": "code",
   "execution_count": 106,
   "metadata": {},
   "outputs": [
    {
     "name": "stdout",
     "output_type": "stream",
     "text": [
      "{'max_features': 32, 'min_samples_leaf': 5, 'n_estimators': 500, 'random_state': 88}\n"
     ]
    }
   ],
   "source": [
    "# print the best parameter\n",
    "print(rf_cv.best_params_)"
   ]
  },
  {
   "cell_type": "code",
   "execution_count": 107,
   "metadata": {},
   "outputs": [
    {
     "data": {
      "text/html": [
       "<div>\n",
       "<style scoped>\n",
       "    .dataframe tbody tr th:only-of-type {\n",
       "        vertical-align: middle;\n",
       "    }\n",
       "\n",
       "    .dataframe tbody tr th {\n",
       "        vertical-align: top;\n",
       "    }\n",
       "\n",
       "    .dataframe thead th {\n",
       "        text-align: right;\n",
       "    }\n",
       "</style>\n",
       "<table border=\"1\" class=\"dataframe\">\n",
       "  <thead>\n",
       "    <tr style=\"text-align: right;\">\n",
       "      <th></th>\n",
       "      <th>Feature</th>\n",
       "      <th>Importance score</th>\n",
       "    </tr>\n",
       "  </thead>\n",
       "  <tbody>\n",
       "    <tr>\n",
       "      <th>0</th>\n",
       "      <td>DOM</td>\n",
       "      <td>1.5</td>\n",
       "    </tr>\n",
       "    <tr>\n",
       "      <th>1</th>\n",
       "      <td>LP</td>\n",
       "      <td>75.1</td>\n",
       "    </tr>\n",
       "    <tr>\n",
       "      <th>2</th>\n",
       "      <td>SqFt</td>\n",
       "      <td>11.9</td>\n",
       "    </tr>\n",
       "    <tr>\n",
       "      <th>3</th>\n",
       "      <td>BR</td>\n",
       "      <td>0.6</td>\n",
       "    </tr>\n",
       "    <tr>\n",
       "      <th>4</th>\n",
       "      <td>Bth</td>\n",
       "      <td>0.4</td>\n",
       "    </tr>\n",
       "    <tr>\n",
       "      <th>5</th>\n",
       "      <td>GarSp</td>\n",
       "      <td>2.2</td>\n",
       "    </tr>\n",
       "    <tr>\n",
       "      <th>6</th>\n",
       "      <td>HOA_Fee</td>\n",
       "      <td>2.3</td>\n",
       "    </tr>\n",
       "    <tr>\n",
       "      <th>7</th>\n",
       "      <td>Age</td>\n",
       "      <td>0.6</td>\n",
       "    </tr>\n",
       "    <tr>\n",
       "      <th>8</th>\n",
       "      <td>Zip</td>\n",
       "      <td>0.3</td>\n",
       "    </tr>\n",
       "    <tr>\n",
       "      <th>9</th>\n",
       "      <td>Week_in_month_Accept_Date</td>\n",
       "      <td>0.1</td>\n",
       "    </tr>\n",
       "    <tr>\n",
       "      <th>10</th>\n",
       "      <td>Week_in_month_Listing_Date</td>\n",
       "      <td>0.1</td>\n",
       "    </tr>\n",
       "    <tr>\n",
       "      <th>11</th>\n",
       "      <td>BT_CO</td>\n",
       "      <td>3.1</td>\n",
       "    </tr>\n",
       "    <tr>\n",
       "      <th>12</th>\n",
       "      <td>BT_SFH</td>\n",
       "      <td>1.1</td>\n",
       "    </tr>\n",
       "    <tr>\n",
       "      <th>13</th>\n",
       "      <td>BT_TH</td>\n",
       "      <td>0.1</td>\n",
       "    </tr>\n",
       "    <tr>\n",
       "      <th>14</th>\n",
       "      <td>Gar_N</td>\n",
       "      <td>0.0</td>\n",
       "    </tr>\n",
       "    <tr>\n",
       "      <th>15</th>\n",
       "      <td>Gar_Y</td>\n",
       "      <td>0.1</td>\n",
       "    </tr>\n",
       "    <tr>\n",
       "      <th>16</th>\n",
       "      <td>Freq_A</td>\n",
       "      <td>0.0</td>\n",
       "    </tr>\n",
       "    <tr>\n",
       "      <th>17</th>\n",
       "      <td>Freq_M</td>\n",
       "      <td>0.0</td>\n",
       "    </tr>\n",
       "    <tr>\n",
       "      <th>18</th>\n",
       "      <td>Area_All Other Counties/States</td>\n",
       "      <td>0.0</td>\n",
       "    </tr>\n",
       "    <tr>\n",
       "      <th>19</th>\n",
       "      <td>Area_Almaden Valley</td>\n",
       "      <td>0.0</td>\n",
       "    </tr>\n",
       "    <tr>\n",
       "      <th>20</th>\n",
       "      <td>Area_Alum Rock</td>\n",
       "      <td>0.2</td>\n",
       "    </tr>\n",
       "    <tr>\n",
       "      <th>21</th>\n",
       "      <td>Area_Berryessa</td>\n",
       "      <td>0.0</td>\n",
       "    </tr>\n",
       "    <tr>\n",
       "      <th>22</th>\n",
       "      <td>Area_Blossom Valley</td>\n",
       "      <td>0.0</td>\n",
       "    </tr>\n",
       "    <tr>\n",
       "      <th>23</th>\n",
       "      <td>Area_Cambrian</td>\n",
       "      <td>0.0</td>\n",
       "    </tr>\n",
       "    <tr>\n",
       "      <th>24</th>\n",
       "      <td>Area_Campbell</td>\n",
       "      <td>0.0</td>\n",
       "    </tr>\n",
       "    <tr>\n",
       "      <th>25</th>\n",
       "      <td>Area_Central San Jose</td>\n",
       "      <td>0.0</td>\n",
       "    </tr>\n",
       "    <tr>\n",
       "      <th>26</th>\n",
       "      <td>Area_Cupertino</td>\n",
       "      <td>0.0</td>\n",
       "    </tr>\n",
       "    <tr>\n",
       "      <th>27</th>\n",
       "      <td>Area_Evergreen</td>\n",
       "      <td>0.0</td>\n",
       "    </tr>\n",
       "    <tr>\n",
       "      <th>28</th>\n",
       "      <td>Area_Santa Clara County</td>\n",
       "      <td>0.0</td>\n",
       "    </tr>\n",
       "    <tr>\n",
       "      <th>29</th>\n",
       "      <td>Area_Santa Teresa</td>\n",
       "      <td>0.0</td>\n",
       "    </tr>\n",
       "    <tr>\n",
       "      <th>30</th>\n",
       "      <td>Area_South San Jose</td>\n",
       "      <td>0.1</td>\n",
       "    </tr>\n",
       "    <tr>\n",
       "      <th>31</th>\n",
       "      <td>Area_Willow Glen</td>\n",
       "      <td>0.0</td>\n",
       "    </tr>\n",
       "    <tr>\n",
       "      <th>32</th>\n",
       "      <td>Month_Accept_Date_Apr</td>\n",
       "      <td>0.0</td>\n",
       "    </tr>\n",
       "    <tr>\n",
       "      <th>33</th>\n",
       "      <td>Month_Accept_Date_Aug</td>\n",
       "      <td>0.0</td>\n",
       "    </tr>\n",
       "    <tr>\n",
       "      <th>34</th>\n",
       "      <td>Month_Accept_Date_Dec</td>\n",
       "      <td>0.0</td>\n",
       "    </tr>\n",
       "    <tr>\n",
       "      <th>35</th>\n",
       "      <td>Month_Accept_Date_Feb</td>\n",
       "      <td>0.0</td>\n",
       "    </tr>\n",
       "    <tr>\n",
       "      <th>36</th>\n",
       "      <td>Month_Accept_Date_Jan</td>\n",
       "      <td>0.0</td>\n",
       "    </tr>\n",
       "    <tr>\n",
       "      <th>37</th>\n",
       "      <td>Month_Accept_Date_Jul</td>\n",
       "      <td>0.0</td>\n",
       "    </tr>\n",
       "    <tr>\n",
       "      <th>38</th>\n",
       "      <td>Month_Accept_Date_Jun</td>\n",
       "      <td>0.0</td>\n",
       "    </tr>\n",
       "    <tr>\n",
       "      <th>39</th>\n",
       "      <td>Month_Accept_Date_Mar</td>\n",
       "      <td>0.0</td>\n",
       "    </tr>\n",
       "    <tr>\n",
       "      <th>40</th>\n",
       "      <td>Month_Accept_Date_May</td>\n",
       "      <td>0.0</td>\n",
       "    </tr>\n",
       "    <tr>\n",
       "      <th>41</th>\n",
       "      <td>Month_Accept_Date_Nov</td>\n",
       "      <td>0.0</td>\n",
       "    </tr>\n",
       "    <tr>\n",
       "      <th>42</th>\n",
       "      <td>Month_Accept_Date_Oct</td>\n",
       "      <td>0.0</td>\n",
       "    </tr>\n",
       "    <tr>\n",
       "      <th>43</th>\n",
       "      <td>Month_Accept_Date_Sep</td>\n",
       "      <td>0.0</td>\n",
       "    </tr>\n",
       "    <tr>\n",
       "      <th>44</th>\n",
       "      <td>Month_Listing_Date_Apr</td>\n",
       "      <td>0.0</td>\n",
       "    </tr>\n",
       "    <tr>\n",
       "      <th>45</th>\n",
       "      <td>Month_Listing_Date_Aug</td>\n",
       "      <td>0.0</td>\n",
       "    </tr>\n",
       "    <tr>\n",
       "      <th>46</th>\n",
       "      <td>Month_Listing_Date_Dec</td>\n",
       "      <td>0.0</td>\n",
       "    </tr>\n",
       "    <tr>\n",
       "      <th>47</th>\n",
       "      <td>Month_Listing_Date_Feb</td>\n",
       "      <td>0.0</td>\n",
       "    </tr>\n",
       "    <tr>\n",
       "      <th>48</th>\n",
       "      <td>Month_Listing_Date_Jan</td>\n",
       "      <td>0.0</td>\n",
       "    </tr>\n",
       "    <tr>\n",
       "      <th>49</th>\n",
       "      <td>Month_Listing_Date_Jul</td>\n",
       "      <td>0.0</td>\n",
       "    </tr>\n",
       "    <tr>\n",
       "      <th>50</th>\n",
       "      <td>Month_Listing_Date_Jun</td>\n",
       "      <td>0.0</td>\n",
       "    </tr>\n",
       "    <tr>\n",
       "      <th>51</th>\n",
       "      <td>Month_Listing_Date_Mar</td>\n",
       "      <td>0.0</td>\n",
       "    </tr>\n",
       "    <tr>\n",
       "      <th>52</th>\n",
       "      <td>Month_Listing_Date_May</td>\n",
       "      <td>0.0</td>\n",
       "    </tr>\n",
       "    <tr>\n",
       "      <th>53</th>\n",
       "      <td>Month_Listing_Date_Nov</td>\n",
       "      <td>0.0</td>\n",
       "    </tr>\n",
       "    <tr>\n",
       "      <th>54</th>\n",
       "      <td>Month_Listing_Date_Oct</td>\n",
       "      <td>0.0</td>\n",
       "    </tr>\n",
       "    <tr>\n",
       "      <th>55</th>\n",
       "      <td>Month_Listing_Date_Sep</td>\n",
       "      <td>0.0</td>\n",
       "    </tr>\n",
       "  </tbody>\n",
       "</table>\n",
       "</div>"
      ],
      "text/plain": [
       "                           Feature  Importance score\n",
       "0                              DOM               1.5\n",
       "1                               LP              75.1\n",
       "2                             SqFt              11.9\n",
       "3                               BR               0.6\n",
       "4                              Bth               0.4\n",
       "5                            GarSp               2.2\n",
       "6                          HOA_Fee               2.3\n",
       "7                              Age               0.6\n",
       "8                              Zip               0.3\n",
       "9        Week_in_month_Accept_Date               0.1\n",
       "10      Week_in_month_Listing_Date               0.1\n",
       "11                           BT_CO               3.1\n",
       "12                          BT_SFH               1.1\n",
       "13                           BT_TH               0.1\n",
       "14                           Gar_N               0.0\n",
       "15                           Gar_Y               0.1\n",
       "16                          Freq_A               0.0\n",
       "17                          Freq_M               0.0\n",
       "18  Area_All Other Counties/States               0.0\n",
       "19             Area_Almaden Valley               0.0\n",
       "20                  Area_Alum Rock               0.2\n",
       "21                  Area_Berryessa               0.0\n",
       "22             Area_Blossom Valley               0.0\n",
       "23                   Area_Cambrian               0.0\n",
       "24                   Area_Campbell               0.0\n",
       "25           Area_Central San Jose               0.0\n",
       "26                  Area_Cupertino               0.0\n",
       "27                  Area_Evergreen               0.0\n",
       "28         Area_Santa Clara County               0.0\n",
       "29               Area_Santa Teresa               0.0\n",
       "30             Area_South San Jose               0.1\n",
       "31                Area_Willow Glen               0.0\n",
       "32           Month_Accept_Date_Apr               0.0\n",
       "33           Month_Accept_Date_Aug               0.0\n",
       "34           Month_Accept_Date_Dec               0.0\n",
       "35           Month_Accept_Date_Feb               0.0\n",
       "36           Month_Accept_Date_Jan               0.0\n",
       "37           Month_Accept_Date_Jul               0.0\n",
       "38           Month_Accept_Date_Jun               0.0\n",
       "39           Month_Accept_Date_Mar               0.0\n",
       "40           Month_Accept_Date_May               0.0\n",
       "41           Month_Accept_Date_Nov               0.0\n",
       "42           Month_Accept_Date_Oct               0.0\n",
       "43           Month_Accept_Date_Sep               0.0\n",
       "44          Month_Listing_Date_Apr               0.0\n",
       "45          Month_Listing_Date_Aug               0.0\n",
       "46          Month_Listing_Date_Dec               0.0\n",
       "47          Month_Listing_Date_Feb               0.0\n",
       "48          Month_Listing_Date_Jan               0.0\n",
       "49          Month_Listing_Date_Jul               0.0\n",
       "50          Month_Listing_Date_Jun               0.0\n",
       "51          Month_Listing_Date_Mar               0.0\n",
       "52          Month_Listing_Date_May               0.0\n",
       "53          Month_Listing_Date_Nov               0.0\n",
       "54          Month_Listing_Date_Oct               0.0\n",
       "55          Month_Listing_Date_Sep               0.0"
      ]
     },
     "execution_count": 107,
     "metadata": {},
     "output_type": "execute_result"
    }
   ],
   "source": [
    "# print feature importance\n",
    "pd.DataFrame({'Feature' : x_train.columns, \n",
    "              'Importance score': 100 * rf_cv.best_estimator_.feature_importances_}).round(1)"
   ]
  },
  {
   "cell_type": "code",
   "execution_count": 109,
   "metadata": {},
   "outputs": [
    {
     "data": {
      "text/plain": [
       "array([906257.08434951, 848541.85612544, 831129.51387532, ...,\n",
       "       730374.16472708, 675649.04240696, 701431.60837784])"
      ]
     },
     "execution_count": 109,
     "metadata": {},
     "output_type": "execute_result"
    }
   ],
   "source": [
    "# get dummies of test set\n",
    "x_test = test.drop(columns = ['SP'])\n",
    "x_test = pd.get_dummies(x_test)"
   ]
  },
  {
   "cell_type": "code",
   "execution_count": 115,
   "metadata": {},
   "outputs": [
    {
     "data": {
      "text/plain": [
       "array([906257.08434951, 848541.85612544, 831129.51387532, ...,\n",
       "       730374.16472708, 675649.04240696, 701431.60837784])"
      ]
     },
     "execution_count": 115,
     "metadata": {},
     "output_type": "execute_result"
    }
   ],
   "source": [
    "# predict test set using best model we get\n",
    "y_test = test['SP']\n",
    "y_pred = rf_cv.best_estimator_.predict(x_test)\n",
    "y_pred"
   ]
  },
  {
   "cell_type": "code",
   "execution_count": 116,
   "metadata": {},
   "outputs": [
    {
     "name": "stdout",
     "output_type": "stream",
     "text": [
      "OSR2 0.9084423028423874\n",
      "RMSE 56178.47744988093\n",
      "MAE 36888.182607889765\n"
     ]
    }
   ],
   "source": [
    "# calculate OSR2, MSE, MAE\n",
    "def OSR2(y_train, y_test, y_pred):\n",
    "    \n",
    "    SSE = np.sum((y_test - y_pred)**2)\n",
    "    SST = np.sum((y_test - np.mean(y_train))**2)\n",
    "                 \n",
    "    return (1 - SSE/SST)\n",
    "\n",
    "def MAE(y_test, y_pred):\n",
    "    \n",
    "    return (np.mean(abs(y_test - y_pred)))\n",
    "\n",
    "def RMSE(y_test, y_pred):\n",
    "    \n",
    "    return np.sqrt(np.mean((y_test - y_pred)**2))\n",
    "\n",
    "# calculate OSR2, RMSE, and MAE for random forest\n",
    "print('OSR2', OSR2(y_train, y_test,y_pred))\n",
    "print('RMSE', RMSE(y_test, y_pred))\n",
    "print('MAE', MAE(y_test, y_pred))"
   ]
  },
  {
   "cell_type": "code",
   "execution_count": 117,
   "metadata": {},
   "outputs": [],
   "source": [
    "import pickle\n",
    "filename = 'RF.sav'\n",
    "pickle.dump(rf_cv.best_estimator_,open(filename,'wb'))"
   ]
  },
  {
   "cell_type": "code",
   "execution_count": null,
   "metadata": {},
   "outputs": [],
   "source": []
  }
 ],
 "metadata": {
  "kernelspec": {
   "display_name": "Python 3",
   "language": "python",
   "name": "python3"
  },
  "language_info": {
   "codemirror_mode": {
    "name": "ipython",
    "version": 3
   },
   "file_extension": ".py",
   "mimetype": "text/x-python",
   "name": "python",
   "nbconvert_exporter": "python",
   "pygments_lexer": "ipython3",
   "version": "3.7.3"
  }
 },
 "nbformat": 4,
 "nbformat_minor": 5
}

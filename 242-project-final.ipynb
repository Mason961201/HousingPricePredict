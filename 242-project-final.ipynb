{
 "cells": [
  {
   "cell_type": "markdown",
   "metadata": {},
   "source": [
    "# Data Pre-processing"
   ]
  },
  {
   "cell_type": "markdown",
   "metadata": {},
   "source": [
    "### Step 1 -  Load data and Load packages"
   ]
  },
  {
   "cell_type": "code",
   "execution_count": 1,
   "metadata": {},
   "outputs": [],
   "source": [
    "import numpy as np\n",
    "import pandas as pd\n",
    "import matplotlib.pyplot as plt\n",
    "import seaborn as sns\n",
    "import math\n",
    "import calendar\n",
    "from datetime import date, timedelta\n",
    "# import package to ignore warning\n",
    "import warnings\n",
    "warnings.filterwarnings('ignore')"
   ]
  },
  {
   "cell_type": "code",
   "execution_count": 2,
   "metadata": {},
   "outputs": [],
   "source": [
    "# import data\n",
    "df = pd.read_csv('df.csv', index_col = 0)\n",
    "df.columns = df.columns.str.replace(' ', '_')"
   ]
  },
  {
   "cell_type": "code",
   "execution_count": 3,
   "metadata": {},
   "outputs": [
    {
     "data": {
      "text/plain": [
       "Index(['MLS_No', 'Status', 'Address', 'Unit', 'DOM', 'City', 'LP', 'SP', 'BT',\n",
       "       'SqFt', 'BR', 'Bth', 'Gar', 'GarSp', 'YrBlt', 'HOA_Fee', 'Freq',\n",
       "       'Closing_Date', 'Age', 'Area', 'Zip'],\n",
       "      dtype='object')"
      ]
     },
     "execution_count": 3,
     "metadata": {},
     "output_type": "execute_result"
    }
   ],
   "source": [
    "df.columns"
   ]
  },
  {
   "cell_type": "markdown",
   "metadata": {},
   "source": [
    "### Step 2 - Remove irrelevant columns\n",
    "We decide to drop irrelevant columns where 'MLS No' and 'Address' are unique of each property, and'Status' and 'City' are same for all properties. And since the type of the values 'Unit' are hard to unify and there are too many missing value for 'Unit', we also decide to drop it."
   ]
  },
  {
   "cell_type": "code",
   "execution_count": 4,
   "metadata": {
    "id": "nCgvKPx9-mmu"
   },
   "outputs": [],
   "source": [
    "# we first remove irrelevant columns from our data set\n",
    "df = df.drop(columns = ['MLS_No', 'Status', 'Address', 'Unit','City'])"
   ]
  },
  {
   "cell_type": "markdown",
   "metadata": {},
   "source": [
    "### Step 3 - Identify Categorical and Numerical categories "
   ]
  },
  {
   "cell_type": "code",
   "execution_count": 5,
   "metadata": {},
   "outputs": [],
   "source": [
    "num = ['DOM', 'LP', 'SP', 'SqFt', 'Age', 'HOA_Fee']"
   ]
  },
  {
   "cell_type": "markdown",
   "metadata": {},
   "source": [
    "### Step 4 - Convert data type"
   ]
  },
  {
   "cell_type": "code",
   "execution_count": 6,
   "metadata": {},
   "outputs": [
    {
     "name": "stdout",
     "output_type": "stream",
     "text": [
      "<class 'pandas.core.frame.DataFrame'>\n",
      "Int64Index: 10000 entries, 0 to 9999\n",
      "Data columns (total 16 columns):\n",
      " #   Column        Non-Null Count  Dtype  \n",
      "---  ------        --------------  -----  \n",
      " 0   DOM           10000 non-null  int64  \n",
      " 1   LP            10000 non-null  object \n",
      " 2   SP            10000 non-null  object \n",
      " 3   BT            10000 non-null  object \n",
      " 4   SqFt          10000 non-null  int64  \n",
      " 5   BR            10000 non-null  int64  \n",
      " 6   Bth           10000 non-null  int64  \n",
      " 7   Gar           8103 non-null   object \n",
      " 8   GarSp         9990 non-null   float64\n",
      " 9   YrBlt         9995 non-null   float64\n",
      " 10  HOA_Fee       6013 non-null   object \n",
      " 11  Freq          2658 non-null   object \n",
      " 12  Closing_Date  10000 non-null  object \n",
      " 13  Age           9990 non-null   float64\n",
      " 14  Area          10000 non-null  object \n",
      " 15  Zip           10000 non-null  object \n",
      "dtypes: float64(3), int64(4), object(9)\n",
      "memory usage: 1.3+ MB\n"
     ]
    }
   ],
   "source": [
    "df.info()"
   ]
  },
  {
   "cell_type": "code",
   "execution_count": 7,
   "metadata": {},
   "outputs": [],
   "source": [
    "# change the type of LP, SP, HOA Fee to numeric\n",
    "def remove(text):\n",
    "    return text.replace('$','')\n",
    "def removedot(text):\n",
    "    return text.replace(',','')\n",
    "df['LP'] = pd.to_numeric(df['LP'].apply(remove).apply(removedot))\n",
    "df['SP'] = pd.to_numeric(df['SP'].apply(remove).apply(removedot))\n",
    "\n",
    "df['HOA_Fee'] = df['HOA_Fee'].str.replace(',','').apply(float)"
   ]
  },
  {
   "cell_type": "markdown",
   "metadata": {},
   "source": [
    "# Data Processing"
   ]
  },
  {
   "cell_type": "markdown",
   "metadata": {},
   "source": [
    "### Step 1 - Check data duplication"
   ]
  },
  {
   "cell_type": "code",
   "execution_count": 8,
   "metadata": {},
   "outputs": [
    {
     "name": "stdout",
     "output_type": "stream",
     "text": [
      "Number of Duplicated rows: 0\n"
     ]
    }
   ],
   "source": [
    "#check if there is duplicated line\n",
    "print('Number of Duplicated rows:',sum(df.duplicated()))"
   ]
  },
  {
   "cell_type": "markdown",
   "metadata": {},
   "source": [
    "### Step 2 - Split data set"
   ]
  },
  {
   "cell_type": "code",
   "execution_count": 9,
   "metadata": {
    "id": "TA8iqH9Kg5GC"
   },
   "outputs": [],
   "source": [
    "# Change closing date to datetime\n",
    "df['Closing_Date'] = pd.to_datetime(df['Closing_Date'])\n",
    "df = df.sort_values(by = 'Closing_Date', ignore_index=True)\n",
    "\n",
    "# pre-split of train and test set, where first 70% of data to train (by closing data) and 30% recent data to test\n",
    "train = df.iloc[0:7000]\n",
    "test = df.iloc[7000:].reset_index(drop = True)\n",
    "train.to_csv('train.csv')\n",
    "test.to_csv('test.csv')"
   ]
  },
  {
   "cell_type": "code",
   "execution_count": 10,
   "metadata": {
    "colab": {
     "base_uri": "https://localhost:8080/",
     "height": 424
    },
    "id": "cpTUoO-678cQ",
    "outputId": "26985cc0-f9d1-4445-d6b7-92b4e802723c"
   },
   "outputs": [
    {
     "data": {
      "text/html": [
       "<div>\n",
       "<style scoped>\n",
       "    .dataframe tbody tr th:only-of-type {\n",
       "        vertical-align: middle;\n",
       "    }\n",
       "\n",
       "    .dataframe tbody tr th {\n",
       "        vertical-align: top;\n",
       "    }\n",
       "\n",
       "    .dataframe thead th {\n",
       "        text-align: right;\n",
       "    }\n",
       "</style>\n",
       "<table border=\"1\" class=\"dataframe\">\n",
       "  <thead>\n",
       "    <tr style=\"text-align: right;\">\n",
       "      <th></th>\n",
       "      <th>DOM</th>\n",
       "      <th>LP</th>\n",
       "      <th>SP</th>\n",
       "      <th>BT</th>\n",
       "      <th>SqFt</th>\n",
       "      <th>BR</th>\n",
       "      <th>Bth</th>\n",
       "      <th>Gar</th>\n",
       "      <th>GarSp</th>\n",
       "      <th>YrBlt</th>\n",
       "      <th>HOA_Fee</th>\n",
       "      <th>Freq</th>\n",
       "      <th>Closing_Date</th>\n",
       "      <th>Age</th>\n",
       "      <th>Area</th>\n",
       "      <th>Zip</th>\n",
       "    </tr>\n",
       "  </thead>\n",
       "  <tbody>\n",
       "    <tr>\n",
       "      <th>0</th>\n",
       "      <td>17</td>\n",
       "      <td>769000</td>\n",
       "      <td>759000</td>\n",
       "      <td>CO</td>\n",
       "      <td>1257</td>\n",
       "      <td>2</td>\n",
       "      <td>2</td>\n",
       "      <td>Y</td>\n",
       "      <td>2.0</td>\n",
       "      <td>1999.0</td>\n",
       "      <td>341.0</td>\n",
       "      <td>NaN</td>\n",
       "      <td>2019-01-02</td>\n",
       "      <td>19.0</td>\n",
       "      <td>Santa Teresa</td>\n",
       "      <td>95138</td>\n",
       "    </tr>\n",
       "    <tr>\n",
       "      <th>1</th>\n",
       "      <td>0</td>\n",
       "      <td>750000</td>\n",
       "      <td>750000</td>\n",
       "      <td>TH</td>\n",
       "      <td>1444</td>\n",
       "      <td>2</td>\n",
       "      <td>2</td>\n",
       "      <td>Y</td>\n",
       "      <td>2.0</td>\n",
       "      <td>1979.0</td>\n",
       "      <td>350.0</td>\n",
       "      <td>NaN</td>\n",
       "      <td>2019-01-02</td>\n",
       "      <td>39.0</td>\n",
       "      <td>Berryessa</td>\n",
       "      <td>95131</td>\n",
       "    </tr>\n",
       "    <tr>\n",
       "      <th>2</th>\n",
       "      <td>7</td>\n",
       "      <td>750000</td>\n",
       "      <td>785000</td>\n",
       "      <td>TH</td>\n",
       "      <td>1655</td>\n",
       "      <td>3</td>\n",
       "      <td>2</td>\n",
       "      <td>Y</td>\n",
       "      <td>2.0</td>\n",
       "      <td>1982.0</td>\n",
       "      <td>445.0</td>\n",
       "      <td>NaN</td>\n",
       "      <td>2019-01-02</td>\n",
       "      <td>36.0</td>\n",
       "      <td>Santa Teresa</td>\n",
       "      <td>95139</td>\n",
       "    </tr>\n",
       "    <tr>\n",
       "      <th>3</th>\n",
       "      <td>15</td>\n",
       "      <td>674888</td>\n",
       "      <td>723000</td>\n",
       "      <td>DE</td>\n",
       "      <td>1408</td>\n",
       "      <td>3</td>\n",
       "      <td>3</td>\n",
       "      <td>NaN</td>\n",
       "      <td>0.0</td>\n",
       "      <td>1953.0</td>\n",
       "      <td>NaN</td>\n",
       "      <td>NaN</td>\n",
       "      <td>2019-01-02</td>\n",
       "      <td>65.0</td>\n",
       "      <td>Alum Rock</td>\n",
       "      <td>95127</td>\n",
       "    </tr>\n",
       "    <tr>\n",
       "      <th>4</th>\n",
       "      <td>51</td>\n",
       "      <td>649000</td>\n",
       "      <td>636000</td>\n",
       "      <td>CO</td>\n",
       "      <td>922</td>\n",
       "      <td>2</td>\n",
       "      <td>2</td>\n",
       "      <td>NaN</td>\n",
       "      <td>0.0</td>\n",
       "      <td>1988.0</td>\n",
       "      <td>460.0</td>\n",
       "      <td>NaN</td>\n",
       "      <td>2019-01-02</td>\n",
       "      <td>30.0</td>\n",
       "      <td>Campbell</td>\n",
       "      <td>95128</td>\n",
       "    </tr>\n",
       "    <tr>\n",
       "      <th>...</th>\n",
       "      <td>...</td>\n",
       "      <td>...</td>\n",
       "      <td>...</td>\n",
       "      <td>...</td>\n",
       "      <td>...</td>\n",
       "      <td>...</td>\n",
       "      <td>...</td>\n",
       "      <td>...</td>\n",
       "      <td>...</td>\n",
       "      <td>...</td>\n",
       "      <td>...</td>\n",
       "      <td>...</td>\n",
       "      <td>...</td>\n",
       "      <td>...</td>\n",
       "      <td>...</td>\n",
       "      <td>...</td>\n",
       "    </tr>\n",
       "    <tr>\n",
       "      <th>6995</th>\n",
       "      <td>7</td>\n",
       "      <td>985000</td>\n",
       "      <td>1108000</td>\n",
       "      <td>DE</td>\n",
       "      <td>1260</td>\n",
       "      <td>3</td>\n",
       "      <td>2</td>\n",
       "      <td>Y</td>\n",
       "      <td>2.0</td>\n",
       "      <td>1955.0</td>\n",
       "      <td>NaN</td>\n",
       "      <td>NaN</td>\n",
       "      <td>2020-12-22</td>\n",
       "      <td>65.0</td>\n",
       "      <td>Santa Clara County</td>\n",
       "      <td>95124</td>\n",
       "    </tr>\n",
       "    <tr>\n",
       "      <th>6996</th>\n",
       "      <td>4</td>\n",
       "      <td>849000</td>\n",
       "      <td>822000</td>\n",
       "      <td>CO</td>\n",
       "      <td>1622</td>\n",
       "      <td>2</td>\n",
       "      <td>2</td>\n",
       "      <td>Y</td>\n",
       "      <td>2.0</td>\n",
       "      <td>1998.0</td>\n",
       "      <td>726.0</td>\n",
       "      <td>M</td>\n",
       "      <td>2020-12-22</td>\n",
       "      <td>22.0</td>\n",
       "      <td>Central San Jose</td>\n",
       "      <td>95112</td>\n",
       "    </tr>\n",
       "    <tr>\n",
       "      <th>6997</th>\n",
       "      <td>1</td>\n",
       "      <td>715000</td>\n",
       "      <td>766000</td>\n",
       "      <td>CO</td>\n",
       "      <td>1168</td>\n",
       "      <td>2</td>\n",
       "      <td>2</td>\n",
       "      <td>Y</td>\n",
       "      <td>2.0</td>\n",
       "      <td>1996.0</td>\n",
       "      <td>260.0</td>\n",
       "      <td>M</td>\n",
       "      <td>2020-12-22</td>\n",
       "      <td>24.0</td>\n",
       "      <td>South San Jose</td>\n",
       "      <td>95136</td>\n",
       "    </tr>\n",
       "    <tr>\n",
       "      <th>6998</th>\n",
       "      <td>9</td>\n",
       "      <td>887999</td>\n",
       "      <td>894000</td>\n",
       "      <td>DE</td>\n",
       "      <td>1568</td>\n",
       "      <td>4</td>\n",
       "      <td>2</td>\n",
       "      <td>Y</td>\n",
       "      <td>2.0</td>\n",
       "      <td>1998.0</td>\n",
       "      <td>50.0</td>\n",
       "      <td>M</td>\n",
       "      <td>2020-12-22</td>\n",
       "      <td>22.0</td>\n",
       "      <td>South San Jose</td>\n",
       "      <td>95111</td>\n",
       "    </tr>\n",
       "    <tr>\n",
       "      <th>6999</th>\n",
       "      <td>6</td>\n",
       "      <td>889500</td>\n",
       "      <td>905000</td>\n",
       "      <td>CO</td>\n",
       "      <td>1464</td>\n",
       "      <td>2</td>\n",
       "      <td>2</td>\n",
       "      <td>NaN</td>\n",
       "      <td>0.0</td>\n",
       "      <td>2013.0</td>\n",
       "      <td>210.0</td>\n",
       "      <td>M</td>\n",
       "      <td>2020-12-22</td>\n",
       "      <td>8.0</td>\n",
       "      <td>Berryessa</td>\n",
       "      <td>95132</td>\n",
       "    </tr>\n",
       "  </tbody>\n",
       "</table>\n",
       "<p>7000 rows × 16 columns</p>\n",
       "</div>"
      ],
      "text/plain": [
       "      DOM      LP       SP  BT  SqFt  BR  Bth  Gar  GarSp   YrBlt  HOA_Fee  \\\n",
       "0      17  769000   759000  CO  1257   2    2    Y    2.0  1999.0    341.0   \n",
       "1       0  750000   750000  TH  1444   2    2    Y    2.0  1979.0    350.0   \n",
       "2       7  750000   785000  TH  1655   3    2    Y    2.0  1982.0    445.0   \n",
       "3      15  674888   723000  DE  1408   3    3  NaN    0.0  1953.0      NaN   \n",
       "4      51  649000   636000  CO   922   2    2  NaN    0.0  1988.0    460.0   \n",
       "...   ...     ...      ...  ..   ...  ..  ...  ...    ...     ...      ...   \n",
       "6995    7  985000  1108000  DE  1260   3    2    Y    2.0  1955.0      NaN   \n",
       "6996    4  849000   822000  CO  1622   2    2    Y    2.0  1998.0    726.0   \n",
       "6997    1  715000   766000  CO  1168   2    2    Y    2.0  1996.0    260.0   \n",
       "6998    9  887999   894000  DE  1568   4    2    Y    2.0  1998.0     50.0   \n",
       "6999    6  889500   905000  CO  1464   2    2  NaN    0.0  2013.0    210.0   \n",
       "\n",
       "     Freq Closing_Date   Age                Area    Zip  \n",
       "0     NaN   2019-01-02  19.0        Santa Teresa  95138  \n",
       "1     NaN   2019-01-02  39.0           Berryessa  95131  \n",
       "2     NaN   2019-01-02  36.0        Santa Teresa  95139  \n",
       "3     NaN   2019-01-02  65.0           Alum Rock  95127  \n",
       "4     NaN   2019-01-02  30.0            Campbell  95128  \n",
       "...   ...          ...   ...                 ...    ...  \n",
       "6995  NaN   2020-12-22  65.0  Santa Clara County  95124  \n",
       "6996    M   2020-12-22  22.0    Central San Jose  95112  \n",
       "6997    M   2020-12-22  24.0      South San Jose  95136  \n",
       "6998    M   2020-12-22  22.0      South San Jose  95111  \n",
       "6999    M   2020-12-22   8.0           Berryessa  95132  \n",
       "\n",
       "[7000 rows x 16 columns]"
      ]
     },
     "execution_count": 10,
     "metadata": {},
     "output_type": "execute_result"
    }
   ],
   "source": [
    "train"
   ]
  },
  {
   "cell_type": "code",
   "execution_count": 11,
   "metadata": {
    "colab": {
     "base_uri": "https://localhost:8080/",
     "height": 424
    },
    "id": "gknwj7Zz7nOY",
    "outputId": "b8f7cf4f-bbd4-4143-dee6-6f831582f30c"
   },
   "outputs": [
    {
     "data": {
      "text/html": [
       "<div>\n",
       "<style scoped>\n",
       "    .dataframe tbody tr th:only-of-type {\n",
       "        vertical-align: middle;\n",
       "    }\n",
       "\n",
       "    .dataframe tbody tr th {\n",
       "        vertical-align: top;\n",
       "    }\n",
       "\n",
       "    .dataframe thead th {\n",
       "        text-align: right;\n",
       "    }\n",
       "</style>\n",
       "<table border=\"1\" class=\"dataframe\">\n",
       "  <thead>\n",
       "    <tr style=\"text-align: right;\">\n",
       "      <th></th>\n",
       "      <th>DOM</th>\n",
       "      <th>LP</th>\n",
       "      <th>SP</th>\n",
       "      <th>BT</th>\n",
       "      <th>SqFt</th>\n",
       "      <th>BR</th>\n",
       "      <th>Bth</th>\n",
       "      <th>Gar</th>\n",
       "      <th>GarSp</th>\n",
       "      <th>YrBlt</th>\n",
       "      <th>HOA_Fee</th>\n",
       "      <th>Freq</th>\n",
       "      <th>Closing_Date</th>\n",
       "      <th>Age</th>\n",
       "      <th>Area</th>\n",
       "      <th>Zip</th>\n",
       "    </tr>\n",
       "  </thead>\n",
       "  <tbody>\n",
       "    <tr>\n",
       "      <th>0</th>\n",
       "      <td>12</td>\n",
       "      <td>889500</td>\n",
       "      <td>905000</td>\n",
       "      <td>CO</td>\n",
       "      <td>1464</td>\n",
       "      <td>2</td>\n",
       "      <td>2</td>\n",
       "      <td>Y</td>\n",
       "      <td>2.0</td>\n",
       "      <td>2013.0</td>\n",
       "      <td>210.0</td>\n",
       "      <td>M</td>\n",
       "      <td>2020-12-22</td>\n",
       "      <td>7.0</td>\n",
       "      <td>Berryessa</td>\n",
       "      <td>95132</td>\n",
       "    </tr>\n",
       "    <tr>\n",
       "      <th>1</th>\n",
       "      <td>6</td>\n",
       "      <td>799999</td>\n",
       "      <td>935000</td>\n",
       "      <td>DE</td>\n",
       "      <td>1398</td>\n",
       "      <td>4</td>\n",
       "      <td>2</td>\n",
       "      <td>Y</td>\n",
       "      <td>2.0</td>\n",
       "      <td>1971.0</td>\n",
       "      <td>NaN</td>\n",
       "      <td>NaN</td>\n",
       "      <td>2020-12-22</td>\n",
       "      <td>49.0</td>\n",
       "      <td>Evergreen</td>\n",
       "      <td>95148</td>\n",
       "    </tr>\n",
       "    <tr>\n",
       "      <th>2</th>\n",
       "      <td>11</td>\n",
       "      <td>799998</td>\n",
       "      <td>860000</td>\n",
       "      <td>DE</td>\n",
       "      <td>1353</td>\n",
       "      <td>3</td>\n",
       "      <td>2</td>\n",
       "      <td>Y</td>\n",
       "      <td>2.0</td>\n",
       "      <td>1971.0</td>\n",
       "      <td>NaN</td>\n",
       "      <td>NaN</td>\n",
       "      <td>2020-12-23</td>\n",
       "      <td>49.0</td>\n",
       "      <td>Alum Rock</td>\n",
       "      <td>95127</td>\n",
       "    </tr>\n",
       "    <tr>\n",
       "      <th>3</th>\n",
       "      <td>25</td>\n",
       "      <td>549000</td>\n",
       "      <td>550000</td>\n",
       "      <td>CO</td>\n",
       "      <td>1094</td>\n",
       "      <td>2</td>\n",
       "      <td>2</td>\n",
       "      <td>NaN</td>\n",
       "      <td>0.0</td>\n",
       "      <td>1991.0</td>\n",
       "      <td>463.0</td>\n",
       "      <td>M</td>\n",
       "      <td>2020-12-23</td>\n",
       "      <td>29.0</td>\n",
       "      <td>South San Jose</td>\n",
       "      <td>95122</td>\n",
       "    </tr>\n",
       "    <tr>\n",
       "      <th>4</th>\n",
       "      <td>10</td>\n",
       "      <td>949000</td>\n",
       "      <td>985000</td>\n",
       "      <td>DE</td>\n",
       "      <td>1065</td>\n",
       "      <td>3</td>\n",
       "      <td>2</td>\n",
       "      <td>Y</td>\n",
       "      <td>2.0</td>\n",
       "      <td>1971.0</td>\n",
       "      <td>NaN</td>\n",
       "      <td>NaN</td>\n",
       "      <td>2020-12-23</td>\n",
       "      <td>49.0</td>\n",
       "      <td>Blossom Valley</td>\n",
       "      <td>95123</td>\n",
       "    </tr>\n",
       "    <tr>\n",
       "      <th>...</th>\n",
       "      <td>...</td>\n",
       "      <td>...</td>\n",
       "      <td>...</td>\n",
       "      <td>...</td>\n",
       "      <td>...</td>\n",
       "      <td>...</td>\n",
       "      <td>...</td>\n",
       "      <td>...</td>\n",
       "      <td>...</td>\n",
       "      <td>...</td>\n",
       "      <td>...</td>\n",
       "      <td>...</td>\n",
       "      <td>...</td>\n",
       "      <td>...</td>\n",
       "      <td>...</td>\n",
       "      <td>...</td>\n",
       "    </tr>\n",
       "    <tr>\n",
       "      <th>2995</th>\n",
       "      <td>28</td>\n",
       "      <td>619000</td>\n",
       "      <td>620000</td>\n",
       "      <td>CO</td>\n",
       "      <td>850</td>\n",
       "      <td>2</td>\n",
       "      <td>2</td>\n",
       "      <td>Y</td>\n",
       "      <td>1.0</td>\n",
       "      <td>1992.0</td>\n",
       "      <td>349.0</td>\n",
       "      <td>M</td>\n",
       "      <td>2021-10-08</td>\n",
       "      <td>29.0</td>\n",
       "      <td>Santa Teresa</td>\n",
       "      <td>95138</td>\n",
       "    </tr>\n",
       "    <tr>\n",
       "      <th>2996</th>\n",
       "      <td>18</td>\n",
       "      <td>888000</td>\n",
       "      <td>912000</td>\n",
       "      <td>DE</td>\n",
       "      <td>1272</td>\n",
       "      <td>3</td>\n",
       "      <td>2</td>\n",
       "      <td>Y</td>\n",
       "      <td>2.0</td>\n",
       "      <td>1915.0</td>\n",
       "      <td>NaN</td>\n",
       "      <td>NaN</td>\n",
       "      <td>2021-10-08</td>\n",
       "      <td>106.0</td>\n",
       "      <td>Central San Jose</td>\n",
       "      <td>95116</td>\n",
       "    </tr>\n",
       "    <tr>\n",
       "      <th>2997</th>\n",
       "      <td>33</td>\n",
       "      <td>739950</td>\n",
       "      <td>735000</td>\n",
       "      <td>CO</td>\n",
       "      <td>1006</td>\n",
       "      <td>2</td>\n",
       "      <td>2</td>\n",
       "      <td>NaN</td>\n",
       "      <td>0.0</td>\n",
       "      <td>1991.0</td>\n",
       "      <td>400.0</td>\n",
       "      <td>M</td>\n",
       "      <td>2021-10-08</td>\n",
       "      <td>30.0</td>\n",
       "      <td>Campbell</td>\n",
       "      <td>95128</td>\n",
       "    </tr>\n",
       "    <tr>\n",
       "      <th>2998</th>\n",
       "      <td>5</td>\n",
       "      <td>667053</td>\n",
       "      <td>675000</td>\n",
       "      <td>CO</td>\n",
       "      <td>1233</td>\n",
       "      <td>2</td>\n",
       "      <td>2</td>\n",
       "      <td>Y</td>\n",
       "      <td>1.0</td>\n",
       "      <td>1985.0</td>\n",
       "      <td>535.0</td>\n",
       "      <td>M</td>\n",
       "      <td>2021-10-08</td>\n",
       "      <td>36.0</td>\n",
       "      <td>Blossom Valley</td>\n",
       "      <td>95123</td>\n",
       "    </tr>\n",
       "    <tr>\n",
       "      <th>2999</th>\n",
       "      <td>24</td>\n",
       "      <td>699000</td>\n",
       "      <td>715000</td>\n",
       "      <td>TH</td>\n",
       "      <td>1093</td>\n",
       "      <td>2</td>\n",
       "      <td>2</td>\n",
       "      <td>Y</td>\n",
       "      <td>1.0</td>\n",
       "      <td>1992.0</td>\n",
       "      <td>349.0</td>\n",
       "      <td>M</td>\n",
       "      <td>2021-10-08</td>\n",
       "      <td>29.0</td>\n",
       "      <td>Santa Teresa</td>\n",
       "      <td>95138</td>\n",
       "    </tr>\n",
       "  </tbody>\n",
       "</table>\n",
       "<p>3000 rows × 16 columns</p>\n",
       "</div>"
      ],
      "text/plain": [
       "      DOM      LP      SP  BT  SqFt  BR  Bth  Gar  GarSp   YrBlt  HOA_Fee  \\\n",
       "0      12  889500  905000  CO  1464   2    2    Y    2.0  2013.0    210.0   \n",
       "1       6  799999  935000  DE  1398   4    2    Y    2.0  1971.0      NaN   \n",
       "2      11  799998  860000  DE  1353   3    2    Y    2.0  1971.0      NaN   \n",
       "3      25  549000  550000  CO  1094   2    2  NaN    0.0  1991.0    463.0   \n",
       "4      10  949000  985000  DE  1065   3    2    Y    2.0  1971.0      NaN   \n",
       "...   ...     ...     ...  ..   ...  ..  ...  ...    ...     ...      ...   \n",
       "2995   28  619000  620000  CO   850   2    2    Y    1.0  1992.0    349.0   \n",
       "2996   18  888000  912000  DE  1272   3    2    Y    2.0  1915.0      NaN   \n",
       "2997   33  739950  735000  CO  1006   2    2  NaN    0.0  1991.0    400.0   \n",
       "2998    5  667053  675000  CO  1233   2    2    Y    1.0  1985.0    535.0   \n",
       "2999   24  699000  715000  TH  1093   2    2    Y    1.0  1992.0    349.0   \n",
       "\n",
       "     Freq Closing_Date    Age              Area    Zip  \n",
       "0       M   2020-12-22    7.0         Berryessa  95132  \n",
       "1     NaN   2020-12-22   49.0         Evergreen  95148  \n",
       "2     NaN   2020-12-23   49.0         Alum Rock  95127  \n",
       "3       M   2020-12-23   29.0    South San Jose  95122  \n",
       "4     NaN   2020-12-23   49.0    Blossom Valley  95123  \n",
       "...   ...          ...    ...               ...    ...  \n",
       "2995    M   2021-10-08   29.0      Santa Teresa  95138  \n",
       "2996  NaN   2021-10-08  106.0  Central San Jose  95116  \n",
       "2997    M   2021-10-08   30.0          Campbell  95128  \n",
       "2998    M   2021-10-08   36.0    Blossom Valley  95123  \n",
       "2999    M   2021-10-08   29.0      Santa Teresa  95138  \n",
       "\n",
       "[3000 rows x 16 columns]"
      ]
     },
     "execution_count": 11,
     "metadata": {},
     "output_type": "execute_result"
    }
   ],
   "source": [
    "test"
   ]
  },
  {
   "cell_type": "markdown",
   "metadata": {},
   "source": [
    "### Step 3 - Process missing data"
   ]
  },
  {
   "cell_type": "code",
   "execution_count": 12,
   "metadata": {},
   "outputs": [
    {
     "name": "stdout",
     "output_type": "stream",
     "text": [
      "<class 'pandas.core.frame.DataFrame'>\n",
      "Int64Index: 6990 entries, 0 to 6999\n",
      "Data columns (total 16 columns):\n",
      " #   Column        Non-Null Count  Dtype         \n",
      "---  ------        --------------  -----         \n",
      " 0   DOM           6990 non-null   int64         \n",
      " 1   LP            6990 non-null   int64         \n",
      " 2   SP            6990 non-null   int64         \n",
      " 3   BT            6990 non-null   object        \n",
      " 4   SqFt          6990 non-null   int64         \n",
      " 5   BR            6990 non-null   int64         \n",
      " 6   Bth           6990 non-null   int64         \n",
      " 7   Gar           6990 non-null   object        \n",
      " 8   GarSp         6990 non-null   float64       \n",
      " 9   YrBlt         6990 non-null   float64       \n",
      " 10  HOA_Fee       6990 non-null   float64       \n",
      " 11  Freq          6990 non-null   object        \n",
      " 12  Closing_Date  6990 non-null   datetime64[ns]\n",
      " 13  Age           6988 non-null   float64       \n",
      " 14  Area          6990 non-null   object        \n",
      " 15  Zip           6990 non-null   object        \n",
      "dtypes: datetime64[ns](1), float64(4), int64(6), object(5)\n",
      "memory usage: 1.2+ MB\n",
      "None\n"
     ]
    },
    {
     "data": {
      "text/html": [
       "<div>\n",
       "<style scoped>\n",
       "    .dataframe tbody tr th:only-of-type {\n",
       "        vertical-align: middle;\n",
       "    }\n",
       "\n",
       "    .dataframe tbody tr th {\n",
       "        vertical-align: top;\n",
       "    }\n",
       "\n",
       "    .dataframe thead th {\n",
       "        text-align: right;\n",
       "    }\n",
       "</style>\n",
       "<table border=\"1\" class=\"dataframe\">\n",
       "  <thead>\n",
       "    <tr style=\"text-align: right;\">\n",
       "      <th></th>\n",
       "      <th>DOM</th>\n",
       "      <th>LP</th>\n",
       "      <th>SP</th>\n",
       "      <th>BT</th>\n",
       "      <th>SqFt</th>\n",
       "      <th>BR</th>\n",
       "      <th>Bth</th>\n",
       "      <th>Gar</th>\n",
       "      <th>GarSp</th>\n",
       "      <th>YrBlt</th>\n",
       "      <th>HOA_Fee</th>\n",
       "      <th>Freq</th>\n",
       "      <th>Closing_Date</th>\n",
       "      <th>Age</th>\n",
       "      <th>Area</th>\n",
       "      <th>Zip</th>\n",
       "    </tr>\n",
       "  </thead>\n",
       "  <tbody>\n",
       "    <tr>\n",
       "      <th>0</th>\n",
       "      <td>17</td>\n",
       "      <td>769000</td>\n",
       "      <td>759000</td>\n",
       "      <td>CO</td>\n",
       "      <td>1257</td>\n",
       "      <td>2</td>\n",
       "      <td>2</td>\n",
       "      <td>Y</td>\n",
       "      <td>2.0</td>\n",
       "      <td>1999.0</td>\n",
       "      <td>341.0</td>\n",
       "      <td>N/A</td>\n",
       "      <td>2019-01-02</td>\n",
       "      <td>19.0</td>\n",
       "      <td>Santa Teresa</td>\n",
       "      <td>95138</td>\n",
       "    </tr>\n",
       "    <tr>\n",
       "      <th>1</th>\n",
       "      <td>0</td>\n",
       "      <td>750000</td>\n",
       "      <td>750000</td>\n",
       "      <td>TH</td>\n",
       "      <td>1444</td>\n",
       "      <td>2</td>\n",
       "      <td>2</td>\n",
       "      <td>Y</td>\n",
       "      <td>2.0</td>\n",
       "      <td>1979.0</td>\n",
       "      <td>350.0</td>\n",
       "      <td>N/A</td>\n",
       "      <td>2019-01-02</td>\n",
       "      <td>39.0</td>\n",
       "      <td>Berryessa</td>\n",
       "      <td>95131</td>\n",
       "    </tr>\n",
       "    <tr>\n",
       "      <th>2</th>\n",
       "      <td>7</td>\n",
       "      <td>750000</td>\n",
       "      <td>785000</td>\n",
       "      <td>TH</td>\n",
       "      <td>1655</td>\n",
       "      <td>3</td>\n",
       "      <td>2</td>\n",
       "      <td>Y</td>\n",
       "      <td>2.0</td>\n",
       "      <td>1982.0</td>\n",
       "      <td>445.0</td>\n",
       "      <td>N/A</td>\n",
       "      <td>2019-01-02</td>\n",
       "      <td>36.0</td>\n",
       "      <td>Santa Teresa</td>\n",
       "      <td>95139</td>\n",
       "    </tr>\n",
       "    <tr>\n",
       "      <th>3</th>\n",
       "      <td>15</td>\n",
       "      <td>674888</td>\n",
       "      <td>723000</td>\n",
       "      <td>DE</td>\n",
       "      <td>1408</td>\n",
       "      <td>3</td>\n",
       "      <td>3</td>\n",
       "      <td>N/A</td>\n",
       "      <td>0.0</td>\n",
       "      <td>1953.0</td>\n",
       "      <td>0.0</td>\n",
       "      <td>N/A</td>\n",
       "      <td>2019-01-02</td>\n",
       "      <td>65.0</td>\n",
       "      <td>Alum Rock</td>\n",
       "      <td>95127</td>\n",
       "    </tr>\n",
       "    <tr>\n",
       "      <th>4</th>\n",
       "      <td>51</td>\n",
       "      <td>649000</td>\n",
       "      <td>636000</td>\n",
       "      <td>CO</td>\n",
       "      <td>922</td>\n",
       "      <td>2</td>\n",
       "      <td>2</td>\n",
       "      <td>N/A</td>\n",
       "      <td>0.0</td>\n",
       "      <td>1988.0</td>\n",
       "      <td>460.0</td>\n",
       "      <td>N/A</td>\n",
       "      <td>2019-01-02</td>\n",
       "      <td>30.0</td>\n",
       "      <td>Campbell</td>\n",
       "      <td>95128</td>\n",
       "    </tr>\n",
       "  </tbody>\n",
       "</table>\n",
       "</div>"
      ],
      "text/plain": [
       "   DOM      LP      SP  BT  SqFt  BR  Bth  Gar  GarSp   YrBlt  HOA_Fee Freq  \\\n",
       "0   17  769000  759000  CO  1257   2    2    Y    2.0  1999.0    341.0  N/A   \n",
       "1    0  750000  750000  TH  1444   2    2    Y    2.0  1979.0    350.0  N/A   \n",
       "2    7  750000  785000  TH  1655   3    2    Y    2.0  1982.0    445.0  N/A   \n",
       "3   15  674888  723000  DE  1408   3    3  N/A    0.0  1953.0      0.0  N/A   \n",
       "4   51  649000  636000  CO   922   2    2  N/A    0.0  1988.0    460.0  N/A   \n",
       "\n",
       "  Closing_Date   Age          Area    Zip  \n",
       "0   2019-01-02  19.0  Santa Teresa  95138  \n",
       "1   2019-01-02  39.0     Berryessa  95131  \n",
       "2   2019-01-02  36.0  Santa Teresa  95139  \n",
       "3   2019-01-02  65.0     Alum Rock  95127  \n",
       "4   2019-01-02  30.0      Campbell  95128  "
      ]
     },
     "execution_count": 12,
     "metadata": {},
     "output_type": "execute_result"
    }
   ],
   "source": [
    "#Train Data\n",
    "#Garage - categorize null as a category\n",
    "train['Gar'] = train['Gar'].fillna('N/A')\n",
    "#Frequency - convert missing as a category\n",
    "train['Freq'] = train['Freq'].fillna('N/A')\n",
    "#Garage Space - drop rows with missing value\n",
    "#Year Built - drop rows with missing value\n",
    "train = train.dropna(subset=['GarSp','YrBlt'])\n",
    "\n",
    "#HOA Fee \n",
    "for i in  train.index:\n",
    "    if math.isnan(train.loc[i,'HOA_Fee']):\n",
    "        # impute using means for condo and townhouse\n",
    "        if train.loc[i,'BT'] == 'CO':\n",
    "            train.loc[i,'HOA_Fee'] = train.loc[train['BT']=='CO','HOA_Fee'].mean()\n",
    "        if train.loc[i,'BT'] == 'TH':\n",
    "            train.loc[i,'HOA_Fee'] = train.loc[train['BT']=='TH','HOA_Fee'].mean()\n",
    "        # input 0 to all other building types \n",
    "        else:\n",
    "            train.loc[i,'HOA_Fee'] = 0\n",
    "\n",
    "#summarize train data set\n",
    "print(train.info())\n",
    "#preview data set\n",
    "train.head()"
   ]
  },
  {
   "cell_type": "code",
   "execution_count": 13,
   "metadata": {},
   "outputs": [
    {
     "data": {
      "text/html": [
       "<div>\n",
       "<style scoped>\n",
       "    .dataframe tbody tr th:only-of-type {\n",
       "        vertical-align: middle;\n",
       "    }\n",
       "\n",
       "    .dataframe tbody tr th {\n",
       "        vertical-align: top;\n",
       "    }\n",
       "\n",
       "    .dataframe thead th {\n",
       "        text-align: right;\n",
       "    }\n",
       "</style>\n",
       "<table border=\"1\" class=\"dataframe\">\n",
       "  <thead>\n",
       "    <tr style=\"text-align: right;\">\n",
       "      <th></th>\n",
       "      <th>DOM</th>\n",
       "      <th>LP</th>\n",
       "      <th>SP</th>\n",
       "      <th>BT</th>\n",
       "      <th>SqFt</th>\n",
       "      <th>BR</th>\n",
       "      <th>Bth</th>\n",
       "      <th>Gar</th>\n",
       "      <th>GarSp</th>\n",
       "      <th>YrBlt</th>\n",
       "      <th>HOA_Fee</th>\n",
       "      <th>Freq</th>\n",
       "      <th>Closing_Date</th>\n",
       "      <th>Age</th>\n",
       "      <th>Area</th>\n",
       "      <th>Zip</th>\n",
       "    </tr>\n",
       "  </thead>\n",
       "  <tbody>\n",
       "    <tr>\n",
       "      <th>0</th>\n",
       "      <td>12</td>\n",
       "      <td>889500</td>\n",
       "      <td>905000</td>\n",
       "      <td>CO</td>\n",
       "      <td>1464</td>\n",
       "      <td>2</td>\n",
       "      <td>2</td>\n",
       "      <td>Y</td>\n",
       "      <td>2.0</td>\n",
       "      <td>2013.0</td>\n",
       "      <td>210.0</td>\n",
       "      <td>M</td>\n",
       "      <td>2020-12-22</td>\n",
       "      <td>7.0</td>\n",
       "      <td>Berryessa</td>\n",
       "      <td>95132</td>\n",
       "    </tr>\n",
       "    <tr>\n",
       "      <th>1</th>\n",
       "      <td>6</td>\n",
       "      <td>799999</td>\n",
       "      <td>935000</td>\n",
       "      <td>DE</td>\n",
       "      <td>1398</td>\n",
       "      <td>4</td>\n",
       "      <td>2</td>\n",
       "      <td>Y</td>\n",
       "      <td>2.0</td>\n",
       "      <td>1971.0</td>\n",
       "      <td>NaN</td>\n",
       "      <td>NaN</td>\n",
       "      <td>2020-12-22</td>\n",
       "      <td>49.0</td>\n",
       "      <td>Evergreen</td>\n",
       "      <td>95148</td>\n",
       "    </tr>\n",
       "    <tr>\n",
       "      <th>2</th>\n",
       "      <td>11</td>\n",
       "      <td>799998</td>\n",
       "      <td>860000</td>\n",
       "      <td>DE</td>\n",
       "      <td>1353</td>\n",
       "      <td>3</td>\n",
       "      <td>2</td>\n",
       "      <td>Y</td>\n",
       "      <td>2.0</td>\n",
       "      <td>1971.0</td>\n",
       "      <td>NaN</td>\n",
       "      <td>NaN</td>\n",
       "      <td>2020-12-23</td>\n",
       "      <td>49.0</td>\n",
       "      <td>Alum Rock</td>\n",
       "      <td>95127</td>\n",
       "    </tr>\n",
       "    <tr>\n",
       "      <th>3</th>\n",
       "      <td>25</td>\n",
       "      <td>549000</td>\n",
       "      <td>550000</td>\n",
       "      <td>CO</td>\n",
       "      <td>1094</td>\n",
       "      <td>2</td>\n",
       "      <td>2</td>\n",
       "      <td>NaN</td>\n",
       "      <td>0.0</td>\n",
       "      <td>1991.0</td>\n",
       "      <td>463.0</td>\n",
       "      <td>M</td>\n",
       "      <td>2020-12-23</td>\n",
       "      <td>29.0</td>\n",
       "      <td>South San Jose</td>\n",
       "      <td>95122</td>\n",
       "    </tr>\n",
       "    <tr>\n",
       "      <th>4</th>\n",
       "      <td>10</td>\n",
       "      <td>949000</td>\n",
       "      <td>985000</td>\n",
       "      <td>DE</td>\n",
       "      <td>1065</td>\n",
       "      <td>3</td>\n",
       "      <td>2</td>\n",
       "      <td>Y</td>\n",
       "      <td>2.0</td>\n",
       "      <td>1971.0</td>\n",
       "      <td>NaN</td>\n",
       "      <td>NaN</td>\n",
       "      <td>2020-12-23</td>\n",
       "      <td>49.0</td>\n",
       "      <td>Blossom Valley</td>\n",
       "      <td>95123</td>\n",
       "    </tr>\n",
       "  </tbody>\n",
       "</table>\n",
       "</div>"
      ],
      "text/plain": [
       "   DOM      LP      SP  BT  SqFt  BR  Bth  Gar  GarSp   YrBlt  HOA_Fee Freq  \\\n",
       "0   12  889500  905000  CO  1464   2    2    Y    2.0  2013.0    210.0    M   \n",
       "1    6  799999  935000  DE  1398   4    2    Y    2.0  1971.0      NaN  NaN   \n",
       "2   11  799998  860000  DE  1353   3    2    Y    2.0  1971.0      NaN  NaN   \n",
       "3   25  549000  550000  CO  1094   2    2  NaN    0.0  1991.0    463.0    M   \n",
       "4   10  949000  985000  DE  1065   3    2    Y    2.0  1971.0      NaN  NaN   \n",
       "\n",
       "  Closing_Date   Age            Area    Zip  \n",
       "0   2020-12-22   7.0       Berryessa  95132  \n",
       "1   2020-12-22  49.0       Evergreen  95148  \n",
       "2   2020-12-23  49.0       Alum Rock  95127  \n",
       "3   2020-12-23  29.0  South San Jose  95122  \n",
       "4   2020-12-23  49.0  Blossom Valley  95123  "
      ]
     },
     "execution_count": 13,
     "metadata": {},
     "output_type": "execute_result"
    }
   ],
   "source": [
    "test.head()"
   ]
  },
  {
   "cell_type": "code",
   "execution_count": 14,
   "metadata": {},
   "outputs": [
    {
     "name": "stdout",
     "output_type": "stream",
     "text": [
      "<class 'pandas.core.frame.DataFrame'>\n",
      "Int64Index: 2996 entries, 0 to 2999\n",
      "Data columns (total 16 columns):\n",
      " #   Column        Non-Null Count  Dtype         \n",
      "---  ------        --------------  -----         \n",
      " 0   DOM           2996 non-null   int64         \n",
      " 1   LP            2996 non-null   int64         \n",
      " 2   SP            2996 non-null   int64         \n",
      " 3   BT            2996 non-null   object        \n",
      " 4   SqFt          2996 non-null   int64         \n",
      " 5   BR            2996 non-null   int64         \n",
      " 6   Bth           2996 non-null   int64         \n",
      " 7   Gar           2996 non-null   object        \n",
      " 8   GarSp         2996 non-null   float64       \n",
      " 9   YrBlt         2996 non-null   float64       \n",
      " 10  HOA_Fee       2996 non-null   float64       \n",
      " 11  Freq          2996 non-null   object        \n",
      " 12  Closing_Date  2996 non-null   datetime64[ns]\n",
      " 13  Age           2996 non-null   float64       \n",
      " 14  Area          2996 non-null   object        \n",
      " 15  Zip           2996 non-null   object        \n",
      "dtypes: datetime64[ns](1), float64(4), int64(6), object(5)\n",
      "memory usage: 462.4+ KB\n",
      "None\n"
     ]
    },
    {
     "data": {
      "text/html": [
       "<div>\n",
       "<style scoped>\n",
       "    .dataframe tbody tr th:only-of-type {\n",
       "        vertical-align: middle;\n",
       "    }\n",
       "\n",
       "    .dataframe tbody tr th {\n",
       "        vertical-align: top;\n",
       "    }\n",
       "\n",
       "    .dataframe thead th {\n",
       "        text-align: right;\n",
       "    }\n",
       "</style>\n",
       "<table border=\"1\" class=\"dataframe\">\n",
       "  <thead>\n",
       "    <tr style=\"text-align: right;\">\n",
       "      <th></th>\n",
       "      <th>DOM</th>\n",
       "      <th>LP</th>\n",
       "      <th>SP</th>\n",
       "      <th>BT</th>\n",
       "      <th>SqFt</th>\n",
       "      <th>BR</th>\n",
       "      <th>Bth</th>\n",
       "      <th>Gar</th>\n",
       "      <th>GarSp</th>\n",
       "      <th>YrBlt</th>\n",
       "      <th>HOA_Fee</th>\n",
       "      <th>Freq</th>\n",
       "      <th>Closing_Date</th>\n",
       "      <th>Age</th>\n",
       "      <th>Area</th>\n",
       "      <th>Zip</th>\n",
       "    </tr>\n",
       "  </thead>\n",
       "  <tbody>\n",
       "    <tr>\n",
       "      <th>0</th>\n",
       "      <td>12</td>\n",
       "      <td>889500</td>\n",
       "      <td>905000</td>\n",
       "      <td>CO</td>\n",
       "      <td>1464</td>\n",
       "      <td>2</td>\n",
       "      <td>2</td>\n",
       "      <td>Y</td>\n",
       "      <td>2.0</td>\n",
       "      <td>2013.0</td>\n",
       "      <td>210.0</td>\n",
       "      <td>M</td>\n",
       "      <td>2020-12-22</td>\n",
       "      <td>7.0</td>\n",
       "      <td>Berryessa</td>\n",
       "      <td>95132</td>\n",
       "    </tr>\n",
       "    <tr>\n",
       "      <th>1</th>\n",
       "      <td>6</td>\n",
       "      <td>799999</td>\n",
       "      <td>935000</td>\n",
       "      <td>DE</td>\n",
       "      <td>1398</td>\n",
       "      <td>4</td>\n",
       "      <td>2</td>\n",
       "      <td>Y</td>\n",
       "      <td>2.0</td>\n",
       "      <td>1971.0</td>\n",
       "      <td>0.0</td>\n",
       "      <td>N/A</td>\n",
       "      <td>2020-12-22</td>\n",
       "      <td>49.0</td>\n",
       "      <td>Evergreen</td>\n",
       "      <td>95148</td>\n",
       "    </tr>\n",
       "    <tr>\n",
       "      <th>2</th>\n",
       "      <td>11</td>\n",
       "      <td>799998</td>\n",
       "      <td>860000</td>\n",
       "      <td>DE</td>\n",
       "      <td>1353</td>\n",
       "      <td>3</td>\n",
       "      <td>2</td>\n",
       "      <td>Y</td>\n",
       "      <td>2.0</td>\n",
       "      <td>1971.0</td>\n",
       "      <td>0.0</td>\n",
       "      <td>N/A</td>\n",
       "      <td>2020-12-23</td>\n",
       "      <td>49.0</td>\n",
       "      <td>Alum Rock</td>\n",
       "      <td>95127</td>\n",
       "    </tr>\n",
       "    <tr>\n",
       "      <th>3</th>\n",
       "      <td>25</td>\n",
       "      <td>549000</td>\n",
       "      <td>550000</td>\n",
       "      <td>CO</td>\n",
       "      <td>1094</td>\n",
       "      <td>2</td>\n",
       "      <td>2</td>\n",
       "      <td>N/A</td>\n",
       "      <td>0.0</td>\n",
       "      <td>1991.0</td>\n",
       "      <td>463.0</td>\n",
       "      <td>M</td>\n",
       "      <td>2020-12-23</td>\n",
       "      <td>29.0</td>\n",
       "      <td>South San Jose</td>\n",
       "      <td>95122</td>\n",
       "    </tr>\n",
       "    <tr>\n",
       "      <th>4</th>\n",
       "      <td>10</td>\n",
       "      <td>949000</td>\n",
       "      <td>985000</td>\n",
       "      <td>DE</td>\n",
       "      <td>1065</td>\n",
       "      <td>3</td>\n",
       "      <td>2</td>\n",
       "      <td>Y</td>\n",
       "      <td>2.0</td>\n",
       "      <td>1971.0</td>\n",
       "      <td>0.0</td>\n",
       "      <td>N/A</td>\n",
       "      <td>2020-12-23</td>\n",
       "      <td>49.0</td>\n",
       "      <td>Blossom Valley</td>\n",
       "      <td>95123</td>\n",
       "    </tr>\n",
       "  </tbody>\n",
       "</table>\n",
       "</div>"
      ],
      "text/plain": [
       "   DOM      LP      SP  BT  SqFt  BR  Bth  Gar  GarSp   YrBlt  HOA_Fee Freq  \\\n",
       "0   12  889500  905000  CO  1464   2    2    Y    2.0  2013.0    210.0    M   \n",
       "1    6  799999  935000  DE  1398   4    2    Y    2.0  1971.0      0.0  N/A   \n",
       "2   11  799998  860000  DE  1353   3    2    Y    2.0  1971.0      0.0  N/A   \n",
       "3   25  549000  550000  CO  1094   2    2  N/A    0.0  1991.0    463.0    M   \n",
       "4   10  949000  985000  DE  1065   3    2    Y    2.0  1971.0      0.0  N/A   \n",
       "\n",
       "  Closing_Date   Age            Area    Zip  \n",
       "0   2020-12-22   7.0       Berryessa  95132  \n",
       "1   2020-12-22  49.0       Evergreen  95148  \n",
       "2   2020-12-23  49.0       Alum Rock  95127  \n",
       "3   2020-12-23  29.0  South San Jose  95122  \n",
       "4   2020-12-23  49.0  Blossom Valley  95123  "
      ]
     },
     "execution_count": 14,
     "metadata": {},
     "output_type": "execute_result"
    }
   ],
   "source": [
    "#Test Data\n",
    "#Garage - categorize null as a category\n",
    "test['Gar'] = test['Gar'].fillna('N/A')\n",
    "#Frequency - convert missing as a category\n",
    "test['Freq'] = test['Freq'].fillna('N/A')\n",
    "#Garage Space - drop rows with missing value\n",
    "#Year Built - drop rows with missing value\n",
    "test = test.dropna(subset=['GarSp','YrBlt'])\n",
    "\n",
    "#HOA Fee \n",
    "for i in test.index:\n",
    "    if math.isnan(test.loc[i,'HOA_Fee']):\n",
    "        # impute using means for condo and townhouse\n",
    "        if test.loc[i,'BT'] == 'CO':\n",
    "            test.loc[i,'HOA_Fee'] = train.loc[train['BT']=='CO','HOA_Fee'].mean()\n",
    "        if test.loc[i,'BT'] == 'TH':\n",
    "            test.loc[i,'HOA_Fee'] = train.loc[train['BT']=='TH','HOA_Fee'].mean()\n",
    "        # input 0 to all other building types \n",
    "        else:\n",
    "            test.loc[i,'HOA_Fee'] = 0\n",
    "            \n",
    "#summarize test data set\n",
    "print(test.info())\n",
    "#preview data set\n",
    "test.head()"
   ]
  },
  {
   "cell_type": "markdown",
   "metadata": {},
   "source": [
    "### Step 4 - Data Cleaning"
   ]
  },
  {
   "cell_type": "code",
   "execution_count": 15,
   "metadata": {},
   "outputs": [],
   "source": [
    "# clean zipcode in training set - use the first 5 digits\n",
    "train['Zip'] = train['Zip'].values.astype(str)\n",
    "train['Zip'] = train['Zip'].apply(lambda x: x[0:5])\n",
    "\n",
    "# clean zipcode in testing set - use the first 5 digits\n",
    "test['Zip'] = test['Zip'].values.astype(str)\n",
    "test['Zip'] = test['Zip'].apply(lambda x: x[0:5])"
   ]
  },
  {
   "cell_type": "code",
   "execution_count": 16,
   "metadata": {},
   "outputs": [],
   "source": [
    "# drop testset with zip == 94556 since training set does not contain that zip number\n",
    "test = test.drop(test[test['Zip'] == '94556'].index)"
   ]
  },
  {
   "cell_type": "code",
   "execution_count": 17,
   "metadata": {},
   "outputs": [
    {
     "data": {
      "text/plain": [
       "BT\n",
       "CO    2459\n",
       "DE    3328\n",
       "DU      14\n",
       "PV       1\n",
       "TH    1188\n",
       "dtype: int64"
      ]
     },
     "execution_count": 17,
     "metadata": {},
     "output_type": "execute_result"
    }
   ],
   "source": [
    "# clean BT \n",
    "# count the number of occurence for each building type\n",
    "train.groupby(\"BT\").size()"
   ]
  },
  {
   "cell_type": "code",
   "execution_count": 18,
   "metadata": {},
   "outputs": [
    {
     "data": {
      "text/plain": [
       "BT\n",
       "CO    1418\n",
       "DE     911\n",
       "DU       3\n",
       "TH     663\n",
       "dtype: int64"
      ]
     },
     "execution_count": 18,
     "metadata": {},
     "output_type": "execute_result"
    }
   ],
   "source": [
    "test.groupby(\"BT\").size()"
   ]
  },
  {
   "cell_type": "markdown",
   "metadata": {},
   "source": [
    "Remove the row with type \"PV\" as it only appear once in our dataset and there are not sufficient explanation for what \"PV\" stands for from Google and consultant."
   ]
  },
  {
   "cell_type": "code",
   "execution_count": 19,
   "metadata": {},
   "outputs": [],
   "source": [
    "# drop the row with \"PV\"\n",
    "train = train[train[\"BT\"] != \"PV\"]"
   ]
  },
  {
   "cell_type": "code",
   "execution_count": 20,
   "metadata": {},
   "outputs": [],
   "source": [
    "# combine \"DE\" and \"DU\", label them as \"SFH\"  as they are both single family house\n",
    "train[\"BT\"].replace(\"DE\",\"SFH\",inplace = True)\n",
    "train[\"BT\"].replace(\"DU\",\"SFH\",inplace = True)\n",
    "\n",
    "test[\"BT\"].replace(\"DE\",\"SFH\",inplace = True)\n",
    "test[\"BT\"].replace(\"DU\",\"SFH\",inplace = True)"
   ]
  },
  {
   "cell_type": "code",
   "execution_count": 21,
   "metadata": {},
   "outputs": [],
   "source": [
    "# drop rows in test sets with 'Freq_B', 'Freq_Q', \n",
    "test = test.drop(test[test['Freq'] == 'B'].index)\n",
    "test = test.drop(test[test['Freq'] == 'Q'].index)"
   ]
  },
  {
   "cell_type": "code",
   "execution_count": 22,
   "metadata": {
    "scrolled": true
   },
   "outputs": [
    {
     "data": {
      "text/plain": [
       "array(['Santa Teresa', 'Berryessa', 'Alum Rock', 'Campbell',\n",
       "       'Blossom Valley', 'Evergreen', 'Cambrian', 'Willow Glen',\n",
       "       'Central San Jose', 'South San Jose', 'Santa Clara County',\n",
       "       'Cupertino', 'Almaden Valley', 'Alviso (Santa Clara County)',\n",
       "       'Santa Clara', 'All Other Counties/States'], dtype=object)"
      ]
     },
     "execution_count": 22,
     "metadata": {},
     "output_type": "execute_result"
    }
   ],
   "source": [
    "# check how many unique areas we have in San Jose\n",
    "train['Area'].unique()"
   ]
  },
  {
   "cell_type": "code",
   "execution_count": 23,
   "metadata": {},
   "outputs": [
    {
     "data": {
      "text/plain": [
       "Zip    Area            \n",
       "95110  Central San Jose    222\n",
       "95111  South San Jose      480\n",
       "95112  Central San Jose    382\n",
       "       South San Jose        8\n",
       "95113  Central San Jose     24\n",
       "95116  Central San Jose     68\n",
       "       South San Jose       28\n",
       "95121  South San Jose       97\n",
       "95122  South San Jose      131\n",
       "95125  South San Jose       27\n",
       "95126  Central San Jose    196\n",
       "95128  Central San Jose     93\n",
       "95131  Central San Jose      1\n",
       "95136  South San Jose      180\n",
       "dtype: int64"
      ]
     },
     "execution_count": 23,
     "metadata": {},
     "output_type": "execute_result"
    }
   ],
   "source": [
    "# check the different naming of area (containing San Jose) with same zip code\n",
    "train.loc[train['Area'].str.contains('San Jose')].groupby(['Zip','Area']).size()"
   ]
  },
  {
   "cell_type": "code",
   "execution_count": 24,
   "metadata": {},
   "outputs": [],
   "source": [
    "# drop rows which include San Jose and SJOS - San Jose (train set do not contain)\n",
    "test = test.drop(test[test['Area'] == 'San Jose'].index)\n",
    "test = test.drop(test[test['Area'] == 'SJOS - San Jose'].index)"
   ]
  },
  {
   "cell_type": "code",
   "execution_count": 25,
   "metadata": {},
   "outputs": [
    {
     "data": {
      "text/plain": [
       "Zip    Area                       \n",
       "95002  Alviso (Santa Clara County)     2\n",
       "95110  Santa Clara County             16\n",
       "95111  Santa Clara                     1\n",
       "       Santa Clara County             33\n",
       "95112  Santa Clara County             13\n",
       "95116  Santa Clara County             18\n",
       "95117  Santa Clara County              3\n",
       "95118  Santa Clara County              7\n",
       "95119  Santa Clara County              3\n",
       "95121  Santa Clara                     1\n",
       "       Santa Clara County             11\n",
       "95122  Santa Clara                     3\n",
       "       Santa Clara County             19\n",
       "95123  Santa Clara County             36\n",
       "95124  Santa Clara                     1\n",
       "       Santa Clara County              3\n",
       "95125  Santa Clara County             10\n",
       "95126  Santa Clara                    34\n",
       "       Santa Clara County              5\n",
       "95127  Santa Clara                     1\n",
       "       Santa Clara County             36\n",
       "95128  Santa Clara                    12\n",
       "       Santa Clara County              6\n",
       "95129  Santa Clara County              1\n",
       "95131  Santa Clara County             13\n",
       "95132  Santa Clara                     2\n",
       "       Santa Clara County             10\n",
       "95133  Santa Clara County             21\n",
       "95134  Alviso (Santa Clara County)    38\n",
       "       Santa Clara                     2\n",
       "95135  Santa Clara County              3\n",
       "95136  Santa Clara                     2\n",
       "       Santa Clara County             14\n",
       "95138  Santa Clara County              8\n",
       "95139  Santa Clara County              3\n",
       "95148  Santa Clara County             10\n",
       "95217  Santa Clara County              1\n",
       "dtype: int64"
      ]
     },
     "execution_count": 25,
     "metadata": {},
     "output_type": "execute_result"
    }
   ],
   "source": [
    "# check the different naming of area (containing Santa Clara) with same zip code\n",
    "train.loc[train['Area'].str.contains('Santa Clara')].groupby(['Zip','Area']).size()"
   ]
  },
  {
   "cell_type": "code",
   "execution_count": 26,
   "metadata": {},
   "outputs": [],
   "source": [
    "# Unify all area containing Santa Clara to 'Santa Clara County'\n",
    "train['Area'][train['Area'].str.contains('Santa Clara')] = 'Santa Clara County'\n",
    "test['Area'][test['Area'].str.contains('Santa Clara')] = 'Santa Clara County'"
   ]
  },
  {
   "cell_type": "markdown",
   "metadata": {},
   "source": [
    "### Step 5 - Outlier Detection"
   ]
  },
  {
   "cell_type": "code",
   "execution_count": 27,
   "metadata": {},
   "outputs": [],
   "source": [
    "def outlier_index(array):\n",
    "    upper = array.mean() + 3*array.std()\n",
    "    lower = array.mean() - 3*array.std()\n",
    "    return list(np.where(array > upper)[0]) + list(np.where(array < lower)[0])"
   ]
  },
  {
   "cell_type": "code",
   "execution_count": 28,
   "metadata": {},
   "outputs": [
    {
     "name": "stdout",
     "output_type": "stream",
     "text": [
      "feature DOM has 141 outliers\n",
      "feature LP has 0 outliers\n",
      "feature SP has 1 outliers\n",
      "feature SqFt has 40 outliers\n",
      "feature Age has 108 outliers\n",
      "feature HOA_Fee has 98 outliers\n"
     ]
    }
   ],
   "source": [
    "for feature in num:\n",
    "    print('feature '+ feature +' has '+str(len(outlier_index(train[feature]))) + ' outliers')"
   ]
  },
  {
   "cell_type": "code",
   "execution_count": 29,
   "metadata": {},
   "outputs": [
    {
     "data": {
      "text/plain": [
       "count    6987.000000\n",
       "mean       42.794332\n",
       "std        21.656168\n",
       "min         0.000000\n",
       "25%        31.000000\n",
       "50%        43.000000\n",
       "75%        53.000000\n",
       "max       132.000000\n",
       "Name: Age, dtype: float64"
      ]
     },
     "execution_count": 29,
     "metadata": {},
     "output_type": "execute_result"
    }
   ],
   "source": [
    "train['Age'].describe()"
   ]
  },
  {
   "cell_type": "code",
   "execution_count": 30,
   "metadata": {},
   "outputs": [
    {
     "data": {
      "text/plain": [
       "(array([ 644.,  789., 1583., 2172., 1059.,  385.,   97.,  144.,   83.,\n",
       "          31.]),\n",
       " array([  0. ,  13.2,  26.4,  39.6,  52.8,  66. ,  79.2,  92.4, 105.6,\n",
       "        118.8, 132. ]),\n",
       " <BarContainer object of 10 artists>)"
      ]
     },
     "execution_count": 30,
     "metadata": {},
     "output_type": "execute_result"
    },
    {
     "data": {
      "image/png": "[encoded data removed]",
      "text/plain": [
       "<Figure size 432x288 with 1 Axes>"
      ]
     },
     "metadata": {
      "needs_background": "light"
     },
     "output_type": "display_data"
    }
   ],
   "source": [
    "plt.hist(train['Age'])"
   ]
  },
  {
   "cell_type": "code",
   "execution_count": 31,
   "metadata": {},
   "outputs": [
    {
     "name": "stdout",
     "output_type": "stream",
     "text": [
      "feature DOM has 141 outliers\n",
      "feature LP has 0 outliers\n",
      "feature SP has 1 outliers\n",
      "feature SqFt has 40 outliers\n",
      "feature Age has 108 outliers\n",
      "feature HOA_Fee has 98 outliers\n"
     ]
    }
   ],
   "source": [
    "# move outlier\n",
    "\n",
    "def outlier_index(array):\n",
    "    upper = array.mean() + 3*array.std()\n",
    "    lower = array.mean() - 3*array.std()\n",
    "    return list(np.where(array > upper)[0]) + list(np.where(array < lower)[0])\n",
    "\n",
    "train.reset_index(inplace = True,drop = True)\n",
    "\n",
    "index_set = []\n",
    "for feature in num:\n",
    "    print('feature '+ feature +' has '+str(len(outlier_index(train[feature]))) + ' outliers')\n",
    "    index_set.extend(outlier_index(train[feature]))\n",
    "    \n",
    "train.drop(index_set, inplace = True)\n",
    "train.reset_index(inplace = True,drop = True)"
   ]
  },
  {
   "cell_type": "markdown",
   "metadata": {},
   "source": [
    "# Data Engineering: "
   ]
  },
  {
   "cell_type": "code",
   "execution_count": 32,
   "metadata": {},
   "outputs": [],
   "source": [
    "# Age - fill with the time difference in year between YrBlt and Closing Date\n",
    "train['Age'] = train['Age'].fillna(pd.DatetimeIndex(train['Closing_Date']).year - train['YrBlt'])\n",
    "test['Age'] = test['Age'].fillna(pd.DatetimeIndex(test['Closing_Date']).year - test['YrBlt'])"
   ]
  },
  {
   "cell_type": "code",
   "execution_count": 33,
   "metadata": {},
   "outputs": [],
   "source": [
    "# move closing date to 30 ealier as Accept_date\n",
    "train['Accept_Date'] = train['Closing_Date'] -  pd.to_timedelta(30, unit='d')\n",
    "test['Accept_Date'] = test['Closing_Date'] -  pd.to_timedelta(30, unit='d')"
   ]
  },
  {
   "cell_type": "code",
   "execution_count": 34,
   "metadata": {},
   "outputs": [],
   "source": [
    "# extract month and data from closing data\n",
    "train['Month_Accept_Date'] = train['Accept_Date'].dt.month\n",
    "test['Month_Accept_Date'] = test['Accept_Date'].dt.month\n",
    "\n",
    "# since test set does not have month of accpet date in Oct, add a Oct column in test set equal to 0\n",
    "test[\"Month_Accept_Date_Oct\"] = [0] * len(test)"
   ]
  },
  {
   "cell_type": "code",
   "execution_count": 35,
   "metadata": {},
   "outputs": [],
   "source": [
    "import math\n",
    "\n",
    "# write a function to calculate the week number given feature name\n",
    "def add_week_of_month(df,feature):\n",
    "    df['Week_in_month_'+feature] = pd.to_numeric(df[feature].dt.day/7)\n",
    "    df['Week_in_month_'+feature] = df['Week_in_month_'+feature].apply(lambda x: math.ceil(x))\n",
    "    return df"
   ]
  },
  {
   "cell_type": "code",
   "execution_count": 36,
   "metadata": {},
   "outputs": [],
   "source": [
    "# create week of month for closing date for train set\n",
    "train = add_week_of_month(train,'Accept_Date')"
   ]
  },
  {
   "cell_type": "code",
   "execution_count": 37,
   "metadata": {},
   "outputs": [],
   "source": [
    "# create week of month for closing date for test set\n",
    "test = add_week_of_month(test,'Accept_Date')"
   ]
  },
  {
   "cell_type": "code",
   "execution_count": 38,
   "metadata": {},
   "outputs": [],
   "source": [
    "#create listing date\n",
    "train['Listing_Date'] = train['Closing_Date'] -  pd.to_timedelta(train['DOM'], unit='d')\n",
    "test['Listing_Date'] = test['Closing_Date'] -  pd.to_timedelta(test['DOM'], unit='d')"
   ]
  },
  {
   "cell_type": "code",
   "execution_count": 39,
   "metadata": {},
   "outputs": [],
   "source": [
    "# extract month and data from Listing data\n",
    "train['Month_Listing_Date'] = train['Listing_Date'].dt.month\n",
    "test['Month_Listing_Date'] = test['Listing_Date'].dt.month\n",
    "# create week of month for Listing Date \n",
    "train = add_week_of_month(train,'Listing_Date')\n",
    "test = add_week_of_month(test,'Listing_Date')"
   ]
  },
  {
   "cell_type": "code",
   "execution_count": 40,
   "metadata": {},
   "outputs": [],
   "source": [
    "# change month to abbrieviated month name\n",
    "train['Month_Accept_Date'] = train['Month_Accept_Date'].apply(lambda x: calendar.month_abbr[x])\n",
    "train['Month_Listing_Date'] = train['Month_Listing_Date'].apply(lambda x: calendar.month_abbr[x])\n",
    "test['Month_Accept_Date'] = test['Month_Accept_Date'].apply(lambda x: calendar.month_abbr[x])\n",
    "test['Month_Listing_Date'] = test['Month_Listing_Date'].apply(lambda x: calendar.month_abbr[x])"
   ]
  },
  {
   "cell_type": "code",
   "execution_count": 41,
   "metadata": {},
   "outputs": [
    {
     "data": {
      "text/plain": [
       "Age\n",
       "0.0      53\n",
       "1.0      24\n",
       "2.0      31\n",
       "3.0      66\n",
       "4.0      41\n",
       "         ..\n",
       "103.0     2\n",
       "104.0     3\n",
       "105.0    11\n",
       "106.0     2\n",
       "107.0     4\n",
       "Length: 108, dtype: int64"
      ]
     },
     "execution_count": 41,
     "metadata": {},
     "output_type": "execute_result"
    }
   ],
   "source": [
    "train.groupby('Age').size()"
   ]
  },
  {
   "cell_type": "code",
   "execution_count": 42,
   "metadata": {},
   "outputs": [],
   "source": [
    "# drop columns which information already showen in other freatures\n",
    "train = train.drop(columns = ['YrBlt','Closing_Date','Accept_Date','Listing_Date'])\n",
    "test = test.drop(columns = ['YrBlt','Closing_Date','Accept_Date','Listing_Date'])"
   ]
  },
  {
   "cell_type": "code",
   "execution_count": 43,
   "metadata": {},
   "outputs": [],
   "source": [
    "# export train and test set\n",
    "train.to_csv('train.csv')\n",
    "test.to_csv('test.csv')"
   ]
  },
  {
   "cell_type": "code",
   "execution_count": 44,
   "metadata": {},
   "outputs": [],
   "source": [
    "check = pd.read_csv('train.csv')"
   ]
  },
  {
   "cell_type": "code",
   "execution_count": 45,
   "metadata": {},
   "outputs": [
    {
     "name": "stdout",
     "output_type": "stream",
     "text": [
      "<class 'pandas.core.frame.DataFrame'>\n",
      "RangeIndex: 6616 entries, 0 to 6615\n",
      "Data columns (total 18 columns):\n",
      " #   Column                      Non-Null Count  Dtype  \n",
      "---  ------                      --------------  -----  \n",
      " 0   DOM                         6616 non-null   int64  \n",
      " 1   LP                          6616 non-null   int64  \n",
      " 2   SP                          6616 non-null   int64  \n",
      " 3   BT                          6616 non-null   object \n",
      " 4   SqFt                        6616 non-null   int64  \n",
      " 5   BR                          6616 non-null   int64  \n",
      " 6   Bth                         6616 non-null   int64  \n",
      " 7   Gar                         6616 non-null   object \n",
      " 8   GarSp                       6616 non-null   float64\n",
      " 9   HOA_Fee                     6616 non-null   float64\n",
      " 10  Freq                        6616 non-null   object \n",
      " 11  Age                         6616 non-null   float64\n",
      " 12  Area                        6616 non-null   object \n",
      " 13  Zip                         6616 non-null   object \n",
      " 14  Month_Accept_Date           6616 non-null   object \n",
      " 15  Week_in_month_Accept_Date   6616 non-null   int64  \n",
      " 16  Month_Listing_Date          6616 non-null   object \n",
      " 17  Week_in_month_Listing_Date  6616 non-null   int64  \n",
      "dtypes: float64(3), int64(8), object(7)\n",
      "memory usage: 930.5+ KB\n"
     ]
    }
   ],
   "source": [
    "train.info()"
   ]
  },
  {
   "cell_type": "code",
   "execution_count": 46,
   "metadata": {},
   "outputs": [
    {
     "name": "stdout",
     "output_type": "stream",
     "text": [
      "<class 'pandas.core.frame.DataFrame'>\n",
      "RangeIndex: 6616 entries, 0 to 6615\n",
      "Data columns (total 19 columns):\n",
      " #   Column                      Non-Null Count  Dtype  \n",
      "---  ------                      --------------  -----  \n",
      " 0   Unnamed: 0                  6616 non-null   int64  \n",
      " 1   DOM                         6616 non-null   int64  \n",
      " 2   LP                          6616 non-null   int64  \n",
      " 3   SP                          6616 non-null   int64  \n",
      " 4   BT                          6616 non-null   object \n",
      " 5   SqFt                        6616 non-null   int64  \n",
      " 6   BR                          6616 non-null   int64  \n",
      " 7   Bth                         6616 non-null   int64  \n",
      " 8   Gar                         5493 non-null   object \n",
      " 9   GarSp                       6616 non-null   float64\n",
      " 10  HOA_Fee                     6616 non-null   float64\n",
      " 11  Freq                        899 non-null    object \n",
      " 12  Age                         6616 non-null   float64\n",
      " 13  Area                        6616 non-null   object \n",
      " 14  Zip                         6616 non-null   int64  \n",
      " 15  Month_Accept_Date           6616 non-null   object \n",
      " 16  Week_in_month_Accept_Date   6616 non-null   int64  \n",
      " 17  Month_Listing_Date          6616 non-null   object \n",
      " 18  Week_in_month_Listing_Date  6616 non-null   int64  \n",
      "dtypes: float64(3), int64(10), object(6)\n",
      "memory usage: 982.2+ KB\n"
     ]
    }
   ],
   "source": [
    "check.info()"
   ]
  },
  {
   "cell_type": "markdown",
   "metadata": {},
   "source": [
    "# Data Visualization"
   ]
  },
  {
   "cell_type": "code",
   "execution_count": 47,
   "metadata": {},
   "outputs": [],
   "source": [
    "# import package for linear regression\n",
    "import matplotlib.pyplot as plt\n",
    "from scipy.stats import pearsonr\n",
    "import statsmodels.api as sm\n",
    "import statsmodels.formula.api as smf\n",
    "from statsmodels.stats.outliers_influence import variance_inflation_factor\n",
    "from sklearn.linear_model import Ridge\n",
    "from sklearn.model_selection import GridSearchCV\n",
    "from sklearn.linear_model import Lasso\n",
    "from matplotlib.pyplot import figure\n",
    "import matplotlib"
   ]
  },
  {
   "cell_type": "code",
   "execution_count": 48,
   "metadata": {},
   "outputs": [
    {
     "data": {
      "image/png": "[encoded data removed]",
      "text/plain": [
       "<Figure size 1080x1080 with 42 Axes>"
      ]
     },
     "metadata": {},
     "output_type": "display_data"
    }
   ],
   "source": [
    "plt.rcParams['figure.figsize'] = 10,10\n",
    "\n",
    "# plot heat map for numeric features\n",
    "#https://stackoverflow.com/questions/66108908/how-to-combine-a-pairplot-and-a-triangular-heatmap\n",
    "def corrfunc(x, y, **kwds):\n",
    "    cmap = kwds['cmap']\n",
    "    norm = kwds['norm']\n",
    "    ax = plt.gca()\n",
    "    ax.tick_params(bottom=False, top=False, left=False, right=False)\n",
    "    sns.despine(ax=ax, bottom=True, top=True, left=True, right=True)\n",
    "    r, _ = pearsonr(x, y)\n",
    "    facecolor = cmap(norm(r))\n",
    "    ax.set_facecolor(facecolor)\n",
    "    lightness = (max(facecolor[:3]) + min(facecolor[:3]) ) / 2\n",
    "    ax.annotate(f\"r={r:.2f}\", xy=(.5, .5), xycoords=ax.transAxes,\n",
    "                color='white' if lightness < 0.7 else 'black', size=26, ha='center', va='center')\n",
    "\n",
    "num = ['DOM', 'LP', 'SP', 'SqFt', 'Age', 'HOA_Fee']\n",
    "heatmap = train[num]\n",
    "sns.set(font_scale=1.5)\n",
    "g = sns.PairGrid(heatmap)\n",
    "g.map_lower(plt.scatter, s=10)\n",
    "g.map_diag(sns.histplot, kde=False)\n",
    "g.map_upper(corrfunc, cmap=plt.get_cmap('seismic'), norm=plt.Normalize(vmin=-.5, vmax=.5))\n",
    "g.fig.subplots_adjust(wspace=0.06, hspace=0.06) # equal spacing in both directions\n",
    "#g.fig.suptitle('Relationship of Features')\n",
    "plt.show()\n",
    "g.savefig('heatmap.png') "
   ]
  },
  {
   "cell_type": "markdown",
   "metadata": {},
   "source": [
    "# Model Training and Modeling"
   ]
  },
  {
   "cell_type": "markdown",
   "metadata": {},
   "source": [
    "### Part I - Liner Regression"
   ]
  },
  {
   "cell_type": "code",
   "execution_count": 49,
   "metadata": {},
   "outputs": [],
   "source": [
    "# split between dependent and independent variables\n",
    "train_X = train.drop(columns = ['SP'])\n",
    "train_y = train['SP']\n",
    "test_X = test.drop(columns = ['SP'])\n",
    "test_y = test['SP']"
   ]
  },
  {
   "cell_type": "code",
   "execution_count": 50,
   "metadata": {},
   "outputs": [
    {
     "data": {
      "text/html": [
       "<div>\n",
       "<style scoped>\n",
       "    .dataframe tbody tr th:only-of-type {\n",
       "        vertical-align: middle;\n",
       "    }\n",
       "\n",
       "    .dataframe tbody tr th {\n",
       "        vertical-align: top;\n",
       "    }\n",
       "\n",
       "    .dataframe thead th {\n",
       "        text-align: right;\n",
       "    }\n",
       "</style>\n",
       "<table border=\"1\" class=\"dataframe\">\n",
       "  <thead>\n",
       "    <tr style=\"text-align: right;\">\n",
       "      <th></th>\n",
       "      <th>DOM</th>\n",
       "      <th>LP</th>\n",
       "      <th>BT</th>\n",
       "      <th>SqFt</th>\n",
       "      <th>BR</th>\n",
       "      <th>Bth</th>\n",
       "      <th>Gar</th>\n",
       "      <th>GarSp</th>\n",
       "      <th>HOA_Fee</th>\n",
       "      <th>Freq</th>\n",
       "      <th>Age</th>\n",
       "      <th>Area</th>\n",
       "      <th>Zip</th>\n",
       "      <th>Month_Accept_Date</th>\n",
       "      <th>Week_in_month_Accept_Date</th>\n",
       "      <th>Month_Listing_Date</th>\n",
       "      <th>Week_in_month_Listing_Date</th>\n",
       "    </tr>\n",
       "  </thead>\n",
       "  <tbody>\n",
       "    <tr>\n",
       "      <th>0</th>\n",
       "      <td>17</td>\n",
       "      <td>769000</td>\n",
       "      <td>CO</td>\n",
       "      <td>1257</td>\n",
       "      <td>2</td>\n",
       "      <td>2</td>\n",
       "      <td>Y</td>\n",
       "      <td>2.0</td>\n",
       "      <td>341.0</td>\n",
       "      <td>N/A</td>\n",
       "      <td>19.0</td>\n",
       "      <td>Santa Teresa</td>\n",
       "      <td>95138</td>\n",
       "      <td>Dec</td>\n",
       "      <td>1</td>\n",
       "      <td>Dec</td>\n",
       "      <td>3</td>\n",
       "    </tr>\n",
       "    <tr>\n",
       "      <th>1</th>\n",
       "      <td>0</td>\n",
       "      <td>750000</td>\n",
       "      <td>TH</td>\n",
       "      <td>1444</td>\n",
       "      <td>2</td>\n",
       "      <td>2</td>\n",
       "      <td>Y</td>\n",
       "      <td>2.0</td>\n",
       "      <td>350.0</td>\n",
       "      <td>N/A</td>\n",
       "      <td>39.0</td>\n",
       "      <td>Berryessa</td>\n",
       "      <td>95131</td>\n",
       "      <td>Dec</td>\n",
       "      <td>1</td>\n",
       "      <td>Jan</td>\n",
       "      <td>1</td>\n",
       "    </tr>\n",
       "    <tr>\n",
       "      <th>2</th>\n",
       "      <td>7</td>\n",
       "      <td>750000</td>\n",
       "      <td>TH</td>\n",
       "      <td>1655</td>\n",
       "      <td>3</td>\n",
       "      <td>2</td>\n",
       "      <td>Y</td>\n",
       "      <td>2.0</td>\n",
       "      <td>445.0</td>\n",
       "      <td>N/A</td>\n",
       "      <td>36.0</td>\n",
       "      <td>Santa Teresa</td>\n",
       "      <td>95139</td>\n",
       "      <td>Dec</td>\n",
       "      <td>1</td>\n",
       "      <td>Dec</td>\n",
       "      <td>4</td>\n",
       "    </tr>\n",
       "    <tr>\n",
       "      <th>3</th>\n",
       "      <td>15</td>\n",
       "      <td>674888</td>\n",
       "      <td>SFH</td>\n",
       "      <td>1408</td>\n",
       "      <td>3</td>\n",
       "      <td>3</td>\n",
       "      <td>N/A</td>\n",
       "      <td>0.0</td>\n",
       "      <td>0.0</td>\n",
       "      <td>N/A</td>\n",
       "      <td>65.0</td>\n",
       "      <td>Alum Rock</td>\n",
       "      <td>95127</td>\n",
       "      <td>Dec</td>\n",
       "      <td>1</td>\n",
       "      <td>Dec</td>\n",
       "      <td>3</td>\n",
       "    </tr>\n",
       "    <tr>\n",
       "      <th>4</th>\n",
       "      <td>51</td>\n",
       "      <td>649000</td>\n",
       "      <td>CO</td>\n",
       "      <td>922</td>\n",
       "      <td>2</td>\n",
       "      <td>2</td>\n",
       "      <td>N/A</td>\n",
       "      <td>0.0</td>\n",
       "      <td>460.0</td>\n",
       "      <td>N/A</td>\n",
       "      <td>30.0</td>\n",
       "      <td>Campbell</td>\n",
       "      <td>95128</td>\n",
       "      <td>Dec</td>\n",
       "      <td>1</td>\n",
       "      <td>Nov</td>\n",
       "      <td>2</td>\n",
       "    </tr>\n",
       "    <tr>\n",
       "      <th>...</th>\n",
       "      <td>...</td>\n",
       "      <td>...</td>\n",
       "      <td>...</td>\n",
       "      <td>...</td>\n",
       "      <td>...</td>\n",
       "      <td>...</td>\n",
       "      <td>...</td>\n",
       "      <td>...</td>\n",
       "      <td>...</td>\n",
       "      <td>...</td>\n",
       "      <td>...</td>\n",
       "      <td>...</td>\n",
       "      <td>...</td>\n",
       "      <td>...</td>\n",
       "      <td>...</td>\n",
       "      <td>...</td>\n",
       "      <td>...</td>\n",
       "    </tr>\n",
       "    <tr>\n",
       "      <th>6611</th>\n",
       "      <td>7</td>\n",
       "      <td>985000</td>\n",
       "      <td>SFH</td>\n",
       "      <td>1260</td>\n",
       "      <td>3</td>\n",
       "      <td>2</td>\n",
       "      <td>Y</td>\n",
       "      <td>2.0</td>\n",
       "      <td>0.0</td>\n",
       "      <td>N/A</td>\n",
       "      <td>65.0</td>\n",
       "      <td>Santa Clara County</td>\n",
       "      <td>95124</td>\n",
       "      <td>Nov</td>\n",
       "      <td>4</td>\n",
       "      <td>Dec</td>\n",
       "      <td>3</td>\n",
       "    </tr>\n",
       "    <tr>\n",
       "      <th>6612</th>\n",
       "      <td>4</td>\n",
       "      <td>849000</td>\n",
       "      <td>CO</td>\n",
       "      <td>1622</td>\n",
       "      <td>2</td>\n",
       "      <td>2</td>\n",
       "      <td>Y</td>\n",
       "      <td>2.0</td>\n",
       "      <td>726.0</td>\n",
       "      <td>M</td>\n",
       "      <td>22.0</td>\n",
       "      <td>Central San Jose</td>\n",
       "      <td>95112</td>\n",
       "      <td>Nov</td>\n",
       "      <td>4</td>\n",
       "      <td>Dec</td>\n",
       "      <td>3</td>\n",
       "    </tr>\n",
       "    <tr>\n",
       "      <th>6613</th>\n",
       "      <td>1</td>\n",
       "      <td>715000</td>\n",
       "      <td>CO</td>\n",
       "      <td>1168</td>\n",
       "      <td>2</td>\n",
       "      <td>2</td>\n",
       "      <td>Y</td>\n",
       "      <td>2.0</td>\n",
       "      <td>260.0</td>\n",
       "      <td>M</td>\n",
       "      <td>24.0</td>\n",
       "      <td>South San Jose</td>\n",
       "      <td>95136</td>\n",
       "      <td>Nov</td>\n",
       "      <td>4</td>\n",
       "      <td>Dec</td>\n",
       "      <td>3</td>\n",
       "    </tr>\n",
       "    <tr>\n",
       "      <th>6614</th>\n",
       "      <td>9</td>\n",
       "      <td>887999</td>\n",
       "      <td>SFH</td>\n",
       "      <td>1568</td>\n",
       "      <td>4</td>\n",
       "      <td>2</td>\n",
       "      <td>Y</td>\n",
       "      <td>2.0</td>\n",
       "      <td>50.0</td>\n",
       "      <td>M</td>\n",
       "      <td>22.0</td>\n",
       "      <td>South San Jose</td>\n",
       "      <td>95111</td>\n",
       "      <td>Nov</td>\n",
       "      <td>4</td>\n",
       "      <td>Dec</td>\n",
       "      <td>2</td>\n",
       "    </tr>\n",
       "    <tr>\n",
       "      <th>6615</th>\n",
       "      <td>6</td>\n",
       "      <td>889500</td>\n",
       "      <td>CO</td>\n",
       "      <td>1464</td>\n",
       "      <td>2</td>\n",
       "      <td>2</td>\n",
       "      <td>N/A</td>\n",
       "      <td>0.0</td>\n",
       "      <td>210.0</td>\n",
       "      <td>M</td>\n",
       "      <td>8.0</td>\n",
       "      <td>Berryessa</td>\n",
       "      <td>95132</td>\n",
       "      <td>Nov</td>\n",
       "      <td>4</td>\n",
       "      <td>Dec</td>\n",
       "      <td>3</td>\n",
       "    </tr>\n",
       "  </tbody>\n",
       "</table>\n",
       "<p>6616 rows × 17 columns</p>\n",
       "</div>"
      ],
      "text/plain": [
       "      DOM      LP   BT  SqFt  BR  Bth  Gar  GarSp  HOA_Fee Freq   Age  \\\n",
       "0      17  769000   CO  1257   2    2    Y    2.0    341.0  N/A  19.0   \n",
       "1       0  750000   TH  1444   2    2    Y    2.0    350.0  N/A  39.0   \n",
       "2       7  750000   TH  1655   3    2    Y    2.0    445.0  N/A  36.0   \n",
       "3      15  674888  SFH  1408   3    3  N/A    0.0      0.0  N/A  65.0   \n",
       "4      51  649000   CO   922   2    2  N/A    0.0    460.0  N/A  30.0   \n",
       "...   ...     ...  ...   ...  ..  ...  ...    ...      ...  ...   ...   \n",
       "6611    7  985000  SFH  1260   3    2    Y    2.0      0.0  N/A  65.0   \n",
       "6612    4  849000   CO  1622   2    2    Y    2.0    726.0    M  22.0   \n",
       "6613    1  715000   CO  1168   2    2    Y    2.0    260.0    M  24.0   \n",
       "6614    9  887999  SFH  1568   4    2    Y    2.0     50.0    M  22.0   \n",
       "6615    6  889500   CO  1464   2    2  N/A    0.0    210.0    M   8.0   \n",
       "\n",
       "                    Area    Zip Month_Accept_Date  Week_in_month_Accept_Date  \\\n",
       "0           Santa Teresa  95138               Dec                          1   \n",
       "1              Berryessa  95131               Dec                          1   \n",
       "2           Santa Teresa  95139               Dec                          1   \n",
       "3              Alum Rock  95127               Dec                          1   \n",
       "4               Campbell  95128               Dec                          1   \n",
       "...                  ...    ...               ...                        ...   \n",
       "6611  Santa Clara County  95124               Nov                          4   \n",
       "6612    Central San Jose  95112               Nov                          4   \n",
       "6613      South San Jose  95136               Nov                          4   \n",
       "6614      South San Jose  95111               Nov                          4   \n",
       "6615           Berryessa  95132               Nov                          4   \n",
       "\n",
       "     Month_Listing_Date  Week_in_month_Listing_Date  \n",
       "0                   Dec                           3  \n",
       "1                   Jan                           1  \n",
       "2                   Dec                           4  \n",
       "3                   Dec                           3  \n",
       "4                   Nov                           2  \n",
       "...                 ...                         ...  \n",
       "6611                Dec                           3  \n",
       "6612                Dec                           3  \n",
       "6613                Dec                           3  \n",
       "6614                Dec                           2  \n",
       "6615                Dec                           3  \n",
       "\n",
       "[6616 rows x 17 columns]"
      ]
     },
     "execution_count": 50,
     "metadata": {},
     "output_type": "execute_result"
    }
   ],
   "source": [
    "train_X"
   ]
  },
  {
   "cell_type": "code",
   "execution_count": 51,
   "metadata": {},
   "outputs": [
    {
     "data": {
      "text/plain": [
       "array(['95138', '95131', '95139', '95127', '95128', '95123', '95121',\n",
       "       '95118', '95125', '95136', '95112', '95117', '95122', '95133',\n",
       "       '95132', '95111', '95119', '95116', '95126', '95129', '95124',\n",
       "       '95148', '95110', '95135', '95120', '95134', '95002', '95113',\n",
       "       '95140', '95130'], dtype=object)"
      ]
     },
     "execution_count": 51,
     "metadata": {},
     "output_type": "execute_result"
    }
   ],
   "source": [
    "train_X.Zip.unique()"
   ]
  },
  {
   "cell_type": "code",
   "execution_count": 52,
   "metadata": {},
   "outputs": [
    {
     "data": {
      "text/plain": [
       "DOM                           1.027110\n",
       "LP                            2.550922\n",
       "SqFt                          3.198056\n",
       "BR                            3.009452\n",
       "Bth                           1.985865\n",
       "GarSp                         1.423146\n",
       "HOA_Fee                       2.464837\n",
       "Age                           1.874551\n",
       "Week_in_month_Accept_Date     1.002021\n",
       "Week_in_month_Listing_Date    1.001233\n",
       "dtype: float64"
      ]
     },
     "execution_count": 52,
     "metadata": {},
     "output_type": "execute_result"
    }
   ],
   "source": [
    "#check VIF for numeric features\n",
    "def VIF(df, columns):\n",
    "    \n",
    "    values = sm.add_constant(df[columns]).values  # the dataframe passed to VIF must include the intercept term. We add it the same way we did before.\n",
    "    num_columns = len(columns)+1\n",
    "    vif = [variance_inflation_factor(values, i) for i in range(num_columns)]\n",
    "    \n",
    "    return pd.Series(vif[1:], index=columns)\n",
    "numeric = ['DOM', 'LP', 'SqFt','BR','Bth','GarSp', 'HOA_Fee','Age','Week_in_month_Accept_Date', 'Week_in_month_Listing_Date']\n",
    "VIF(train_X, numeric)"
   ]
  },
  {
   "cell_type": "code",
   "execution_count": 53,
   "metadata": {},
   "outputs": [],
   "source": [
    "# create formula\n",
    "col = train.drop(columns = ['SP'])\n",
    "f = 'SP ~ ' + ' + '.join(col)"
   ]
  },
  {
   "cell_type": "code",
   "execution_count": 54,
   "metadata": {},
   "outputs": [
    {
     "name": "stdout",
     "output_type": "stream",
     "text": [
      "                            OLS Regression Results                            \n",
      "==============================================================================\n",
      "Dep. Variable:                     SP   R-squared:                       0.952\n",
      "Model:                            OLS   Adj. R-squared:                  0.951\n",
      "Method:                 Least Squares   F-statistic:                     1627.\n",
      "Date:                Mon, 06 Dec 2021   Prob (F-statistic):               0.00\n",
      "Time:                        23:37:55   Log-Likelihood:                -78762.\n",
      "No. Observations:                6616   AIC:                         1.577e+05\n",
      "Df Residuals:                    6536   BIC:                         1.582e+05\n",
      "Df Model:                          79                                         \n",
      "Covariance Type:            nonrobust                                         \n",
      "==============================================================================================\n",
      "                                 coef    std err          t      P>|t|      [0.025      0.975]\n",
      "----------------------------------------------------------------------------------------------\n",
      "Intercept                   9.082e+04   4.67e+04      1.945      0.052    -698.939    1.82e+05\n",
      "BT[T.SFH]                   2.335e+04   2843.720      8.212      0.000    1.78e+04    2.89e+04\n",
      "BT[T.TH]                    5190.6429   1546.090      3.357      0.001    2159.802    8221.484\n",
      "Gar[T.N/A]                  3043.6686   5277.181      0.577      0.564   -7301.331    1.34e+04\n",
      "Gar[T.Y]                    6777.8307   5254.716      1.290      0.197   -3523.132    1.71e+04\n",
      "Freq[T.M]                  -2.788e+04    1.2e+04     -2.327      0.020   -5.14e+04   -4393.692\n",
      "Freq[T.N/A]                -2.581e+04   1.19e+04     -2.163      0.031   -4.92e+04   -2413.671\n",
      "Area[T.Almaden Valley]     -6047.8451   2.24e+04     -0.270      0.787      -5e+04    3.79e+04\n",
      "Area[T.Alum Rock]          -1159.2816   2.56e+04     -0.045      0.964   -5.14e+04    4.91e+04\n",
      "Area[T.Berryessa]           6419.5720   2.58e+04      0.249      0.804   -4.42e+04     5.7e+04\n",
      "Area[T.Blossom Valley]      4372.8175   2.57e+04      0.170      0.865   -4.61e+04    5.48e+04\n",
      "Area[T.Cambrian]            5063.5425   2.65e+04      0.191      0.849   -4.69e+04     5.7e+04\n",
      "Area[T.Campbell]            7580.9308    2.6e+04      0.292      0.770   -4.33e+04    5.85e+04\n",
      "Area[T.Central San Jose]     220.4857   2.57e+04      0.009      0.993   -5.03e+04    5.07e+04\n",
      "Area[T.Cupertino]           8208.8760   4.45e+04      0.184      0.854   -7.91e+04    9.55e+04\n",
      "Area[T.Evergreen]           1.177e+04   2.57e+04      0.457      0.647   -3.87e+04    6.22e+04\n",
      "Area[T.Santa Clara County]  3013.1493   2.57e+04      0.117      0.907   -4.73e+04    5.33e+04\n",
      "Area[T.Santa Teresa]        3313.3341   2.58e+04      0.128      0.898   -4.74e+04     5.4e+04\n",
      "Area[T.South San Jose]      3225.5368   2.56e+04      0.126      0.900    -4.7e+04    5.34e+04\n",
      "Area[T.Willow Glen]         1002.7487    2.6e+04      0.039      0.969      -5e+04     5.2e+04\n",
      "Zip[T.95110]                -2.28e+04   3.64e+04     -0.627      0.531   -9.41e+04    4.85e+04\n",
      "Zip[T.95111]               -3.513e+04   3.62e+04     -0.969      0.333   -1.06e+05    3.59e+04\n",
      "Zip[T.95112]                -1.77e+04   3.63e+04     -0.487      0.626   -8.89e+04    5.35e+04\n",
      "Zip[T.95113]               -5045.0347   3.71e+04     -0.136      0.892   -7.79e+04    6.78e+04\n",
      "Zip[T.95116]               -3.424e+04   3.63e+04     -0.944      0.345   -1.05e+05    3.68e+04\n",
      "Zip[T.95117]               -6930.1175   3.66e+04     -0.189      0.850   -7.88e+04    6.49e+04\n",
      "Zip[T.95118]               -1.872e+04   3.69e+04     -0.508      0.612    -9.1e+04    5.35e+04\n",
      "Zip[T.95119]               -1.532e+04   3.65e+04     -0.420      0.675   -8.69e+04    5.62e+04\n",
      "Zip[T.95120]               -6047.8451   2.24e+04     -0.270      0.787      -5e+04    3.79e+04\n",
      "Zip[T.95121]               -3.537e+04   3.63e+04     -0.974      0.330   -1.07e+05    3.58e+04\n",
      "Zip[T.95122]               -3.786e+04   3.62e+04     -1.045      0.296   -1.09e+05    3.32e+04\n",
      "Zip[T.95123]               -2.583e+04   3.63e+04     -0.712      0.477    -9.7e+04    4.53e+04\n",
      "Zip[T.95124]               -1.375e+04   3.67e+04     -0.374      0.708   -8.58e+04    5.83e+04\n",
      "Zip[T.95125]                -1.75e+04   3.64e+04     -0.480      0.631   -8.89e+04    5.39e+04\n",
      "Zip[T.95126]               -1.168e+04   3.63e+04     -0.321      0.748   -8.29e+04    5.96e+04\n",
      "Zip[T.95127]               -2.892e+04   3.62e+04     -0.798      0.425      -1e+05    4.21e+04\n",
      "Zip[T.95128]               -1.655e+04   3.64e+04     -0.455      0.649   -8.78e+04    5.47e+04\n",
      "Zip[T.95129]               -8310.0305   5.12e+04     -0.162      0.871   -1.09e+05     9.2e+04\n",
      "Zip[T.95130]                1.026e+05   4.07e+04      2.523      0.012    2.29e+04    1.82e+05\n",
      "Zip[T.95131]               -1.919e+04   3.64e+04     -0.527      0.598   -9.06e+04    5.22e+04\n",
      "Zip[T.95132]               -1.795e+04   3.64e+04     -0.493      0.622   -8.94e+04    5.35e+04\n",
      "Zip[T.95133]               -3.045e+04   3.64e+04     -0.837      0.403   -1.02e+05    4.09e+04\n",
      "Zip[T.95134]               -1.181e+04   3.66e+04     -0.322      0.747   -8.36e+04       6e+04\n",
      "Zip[T.95135]               -3.643e+04   3.65e+04     -0.998      0.318   -1.08e+05    3.51e+04\n",
      "Zip[T.95136]                -2.58e+04   3.63e+04     -0.711      0.477   -9.69e+04    4.53e+04\n",
      "Zip[T.95138]               -2.237e+04   3.64e+04     -0.614      0.539   -9.38e+04    4.91e+04\n",
      "Zip[T.95139]               -2.281e+04   3.65e+04     -0.625      0.532   -9.43e+04    4.87e+04\n",
      "Zip[T.95140]               -9.086e+04    4.5e+04     -2.021      0.043   -1.79e+05   -2718.424\n",
      "Zip[T.95148]               -2.771e+04   3.63e+04     -0.763      0.446   -9.89e+04    4.35e+04\n",
      "Month_Accept_Date[T.Aug]    8721.7233   3217.452      2.711      0.007    2414.466     1.5e+04\n",
      "Month_Accept_Date[T.Dec]    6808.8089   3655.732      1.863      0.063    -357.621     1.4e+04\n",
      "Month_Accept_Date[T.Feb]    9381.3247   3078.727      3.047      0.002    3346.014    1.54e+04\n",
      "Month_Accept_Date[T.Jan]    1.529e+04   3419.543      4.471      0.000    8586.670     2.2e+04\n",
      "Month_Accept_Date[T.Jul]    7445.5614   3014.465      2.470      0.014    1536.225    1.34e+04\n",
      "Month_Accept_Date[T.Jun]    6476.9489   2832.208      2.287      0.022     924.894     1.2e+04\n",
      "Month_Accept_Date[T.Mar]    5314.9271   2605.852      2.040      0.041     206.604    1.04e+04\n",
      "Month_Accept_Date[T.May]    4659.3156   2484.297      1.876      0.061    -210.720    9529.351\n",
      "Month_Accept_Date[T.Nov]    1.292e+04   3539.237      3.651      0.000    5982.394    1.99e+04\n",
      "Month_Accept_Date[T.Oct]    1.021e+04   3398.854      3.005      0.003    3551.596    1.69e+04\n",
      "Month_Accept_Date[T.Sep]    9703.9357   3311.210      2.931      0.003    3212.881    1.62e+04\n",
      "Month_Listing_Date[T.Aug]  -5974.6727   3147.264     -1.898      0.058   -1.21e+04     194.995\n",
      "Month_Listing_Date[T.Dec]  -9048.8382   3477.926     -2.602      0.009   -1.59e+04   -2230.966\n",
      "Month_Listing_Date[T.Feb]  -3314.9806   3096.502     -1.071      0.284   -9385.138    2755.177\n",
      "Month_Listing_Date[T.Jan]   -1.07e+04   3608.689     -2.966      0.003   -1.78e+04   -3628.795\n",
      "Month_Listing_Date[T.Jul]  -6223.0601   3006.804     -2.070      0.039   -1.21e+04    -328.742\n",
      "Month_Listing_Date[T.Jun]  -5250.9281   2805.034     -1.872      0.061   -1.07e+04     247.856\n",
      "Month_Listing_Date[T.Mar]     -8.8313   2541.185     -0.003      0.997   -4990.386    4972.723\n",
      "Month_Listing_Date[T.May]  -2221.3688   2507.422     -0.886      0.376   -7136.737    2693.999\n",
      "Month_Listing_Date[T.Nov]  -7508.0417   3349.321     -2.242      0.025   -1.41e+04    -942.278\n",
      "Month_Listing_Date[T.Oct]  -7340.5354   3312.976     -2.216      0.027   -1.38e+04    -846.018\n",
      "Month_Listing_Date[T.Sep]  -1.038e+04   3276.802     -3.167      0.002   -1.68e+04   -3952.972\n",
      "DOM                         -478.7178     17.063    -28.056      0.000    -512.166    -445.269\n",
      "LP                             0.9064      0.006    140.849      0.000       0.894       0.919\n",
      "SqFt                          24.4881      2.662      9.200      0.000      19.270      29.706\n",
      "BR                          -230.1128    942.238     -0.244      0.807   -2077.208    1616.983\n",
      "Bth                         4131.5203   1161.170      3.558      0.000    1855.247    6407.794\n",
      "GarSp                       1660.0362    840.291      1.976      0.048      12.790    3307.282\n",
      "HOA_Fee                      -21.5458      5.806     -3.711      0.000     -32.928     -10.163\n",
      "Age                          -36.7545     38.564     -0.953      0.341    -112.352      38.843\n",
      "Week_in_month_Accept_Date   -582.1435    352.513     -1.651      0.099   -1273.184     108.897\n",
      "Week_in_month_Listing_Date  -837.6491    353.863     -2.367      0.018   -1531.337    -143.961\n",
      "==============================================================================\n",
      "Omnibus:                     1926.738   Durbin-Watson:                   1.945\n",
      "Prob(Omnibus):                  0.000   Jarque-Bera (JB):            13262.606\n",
      "Skew:                           1.215   Prob(JB):                         0.00\n",
      "Kurtosis:                       9.497   Cond. No.                     1.02e+16\n",
      "==============================================================================\n",
      "\n",
      "Notes:\n",
      "[1] Standard Errors assume that the covariance matrix of the errors is correctly specified.\n",
      "[2] The smallest eigenvalue is 3.74e-17. This might indicate that there are\n",
      "strong multicollinearity problems or that the design matrix is singular.\n"
     ]
    }
   ],
   "source": [
    "#model building\n",
    "model = smf.ols(formula = f,data = train).fit()\n",
    "print(model.summary())"
   ]
  },
  {
   "cell_type": "code",
   "execution_count": 55,
   "metadata": {},
   "outputs": [
    {
     "data": {
      "text/plain": [
       "([<matplotlib.axis.YTick at 0x12abd9fd0>,\n",
       "  <matplotlib.axis.YTick at 0x12abd9be0>,\n",
       "  <matplotlib.axis.YTick at 0x12abcda60>,\n",
       "  <matplotlib.axis.YTick at 0x12642c460>,\n",
       "  <matplotlib.axis.YTick at 0x12642c970>,\n",
       "  <matplotlib.axis.YTick at 0x12642ce80>,\n",
       "  <matplotlib.axis.YTick at 0x1264333d0>,\n",
       "  <matplotlib.axis.YTick at 0x1264338e0>,\n",
       "  <matplotlib.axis.YTick at 0x12642ca00>,\n",
       "  <matplotlib.axis.YTick at 0x126433cd0>,\n",
       "  <matplotlib.axis.YTick at 0x126433fa0>,\n",
       "  <matplotlib.axis.YTick at 0x12643a4f0>,\n",
       "  <matplotlib.axis.YTick at 0x12643aa00>,\n",
       "  <matplotlib.axis.YTick at 0x12643af10>,\n",
       "  <matplotlib.axis.YTick at 0x126440460>,\n",
       "  <matplotlib.axis.YTick at 0x126440970>,\n",
       "  <matplotlib.axis.YTick at 0x126440e80>,\n",
       "  <matplotlib.axis.YTick at 0x1264405b0>,\n",
       "  <matplotlib.axis.YTick at 0x12643a640>,\n",
       "  <matplotlib.axis.YTick at 0x126433550>,\n",
       "  <matplotlib.axis.YTick at 0x1264463d0>,\n",
       "  <matplotlib.axis.YTick at 0x1264468e0>,\n",
       "  <matplotlib.axis.YTick at 0x126446df0>,\n",
       "  <matplotlib.axis.YTick at 0x126450340>,\n",
       "  <matplotlib.axis.YTick at 0x126450850>,\n",
       "  <matplotlib.axis.YTick at 0x126450d60>,\n",
       "  <matplotlib.axis.YTick at 0x126450580>,\n",
       "  <matplotlib.axis.YTick at 0x126446610>,\n",
       "  <matplotlib.axis.YTick at 0x1264400d0>,\n",
       "  <matplotlib.axis.YTick at 0x126455460>,\n",
       "  <matplotlib.axis.YTick at 0x126455970>,\n",
       "  <matplotlib.axis.YTick at 0x126455e80>,\n",
       "  <matplotlib.axis.YTick at 0x12645d3d0>,\n",
       "  <matplotlib.axis.YTick at 0x12645d8e0>,\n",
       "  <matplotlib.axis.YTick at 0x12645ddf0>,\n",
       "  <matplotlib.axis.YTick at 0x12645d610>,\n",
       "  <matplotlib.axis.YTick at 0x1264556a0>,\n",
       "  <matplotlib.axis.YTick at 0x126446f70>,\n",
       "  <matplotlib.axis.YTick at 0x1264634f0>,\n",
       "  <matplotlib.axis.YTick at 0x126463a00>,\n",
       "  <matplotlib.axis.YTick at 0x126463f10>,\n",
       "  <matplotlib.axis.YTick at 0x12646a460>,\n",
       "  <matplotlib.axis.YTick at 0x12646a970>,\n",
       "  <matplotlib.axis.YTick at 0x12646ae80>,\n",
       "  <matplotlib.axis.YTick at 0x12646a6a0>,\n",
       "  <matplotlib.axis.YTick at 0x126463730>,\n",
       "  <matplotlib.axis.YTick at 0x12645d040>,\n",
       "  <matplotlib.axis.YTick at 0x12646f580>,\n",
       "  <matplotlib.axis.YTick at 0x12646fa90>,\n",
       "  <matplotlib.axis.YTick at 0x12646ffa0>,\n",
       "  <matplotlib.axis.YTick at 0x1264744f0>,\n",
       "  <matplotlib.axis.YTick at 0x126474a00>,\n",
       "  <matplotlib.axis.YTick at 0x126474f10>,\n",
       "  <matplotlib.axis.YTick at 0x126474730>,\n",
       "  <matplotlib.axis.YTick at 0x12646f7c0>,\n",
       "  <matplotlib.axis.YTick at 0x12646a0d0>,\n",
       "  <matplotlib.axis.YTick at 0x12647e610>,\n",
       "  <matplotlib.axis.YTick at 0x12647eb20>,\n",
       "  <matplotlib.axis.YTick at 0x126483070>,\n",
       "  <matplotlib.axis.YTick at 0x126483580>,\n",
       "  <matplotlib.axis.YTick at 0x126483a90>,\n",
       "  <matplotlib.axis.YTick at 0x126483fa0>,\n",
       "  <matplotlib.axis.YTick at 0x1264837c0>,\n",
       "  <matplotlib.axis.YTick at 0x12647e850>,\n",
       "  <matplotlib.axis.YTick at 0x126474160>,\n",
       "  <matplotlib.axis.YTick at 0x12648c6a0>,\n",
       "  <matplotlib.axis.YTick at 0x12648cbb0>,\n",
       "  <matplotlib.axis.YTick at 0x126493100>,\n",
       "  <matplotlib.axis.YTick at 0x126493610>,\n",
       "  <matplotlib.axis.YTick at 0x126493b20>,\n",
       "  <matplotlib.axis.YTick at 0x126497070>,\n",
       "  <matplotlib.axis.YTick at 0x126493850>,\n",
       "  <matplotlib.axis.YTick at 0x12648c8e0>,\n",
       "  <matplotlib.axis.YTick at 0x1264831f0>,\n",
       "  <matplotlib.axis.YTick at 0x126497730>,\n",
       "  <matplotlib.axis.YTick at 0x126497c40>,\n",
       "  <matplotlib.axis.YTick at 0x1264a3190>,\n",
       "  <matplotlib.axis.YTick at 0x1264a36a0>,\n",
       "  <matplotlib.axis.YTick at 0x1264a3bb0>,\n",
       "  <matplotlib.axis.YTick at 0x1264a7100>],\n",
       " [Text(0, 0, 'BT[T.SFH]'),\n",
       "  Text(0, 1, 'BT[T.TH]'),\n",
       "  Text(0, 2, 'Gar[T.N/A]'),\n",
       "  Text(0, 3, 'Gar[T.Y]'),\n",
       "  Text(0, 4, 'Freq[T.M]'),\n",
       "  Text(0, 5, 'Freq[T.N/A]'),\n",
       "  Text(0, 6, 'Area[T.Almaden Valley]'),\n",
       "  Text(0, 7, 'Area[T.Alum Rock]'),\n",
       "  Text(0, 8, 'Area[T.Berryessa]'),\n",
       "  Text(0, 9, 'Area[T.Blossom Valley]'),\n",
       "  Text(0, 10, 'Area[T.Cambrian]'),\n",
       "  Text(0, 11, 'Area[T.Campbell]'),\n",
       "  Text(0, 12, 'Area[T.Central San Jose]'),\n",
       "  Text(0, 13, 'Area[T.Cupertino]'),\n",
       "  Text(0, 14, 'Area[T.Evergreen]'),\n",
       "  Text(0, 15, 'Area[T.Santa Clara County]'),\n",
       "  Text(0, 16, 'Area[T.Santa Teresa]'),\n",
       "  Text(0, 17, 'Area[T.South San Jose]'),\n",
       "  Text(0, 18, 'Area[T.Willow Glen]'),\n",
       "  Text(0, 19, 'Zip[T.95110]'),\n",
       "  Text(0, 20, 'Zip[T.95111]'),\n",
       "  Text(0, 21, 'Zip[T.95112]'),\n",
       "  Text(0, 22, 'Zip[T.95113]'),\n",
       "  Text(0, 23, 'Zip[T.95116]'),\n",
       "  Text(0, 24, 'Zip[T.95117]'),\n",
       "  Text(0, 25, 'Zip[T.95118]'),\n",
       "  Text(0, 26, 'Zip[T.95119]'),\n",
       "  Text(0, 27, 'Zip[T.95120]'),\n",
       "  Text(0, 28, 'Zip[T.95121]'),\n",
       "  Text(0, 29, 'Zip[T.95122]'),\n",
       "  Text(0, 30, 'Zip[T.95123]'),\n",
       "  Text(0, 31, 'Zip[T.95124]'),\n",
       "  Text(0, 32, 'Zip[T.95125]'),\n",
       "  Text(0, 33, 'Zip[T.95126]'),\n",
       "  Text(0, 34, 'Zip[T.95127]'),\n",
       "  Text(0, 35, 'Zip[T.95128]'),\n",
       "  Text(0, 36, 'Zip[T.95129]'),\n",
       "  Text(0, 37, 'Zip[T.95130]'),\n",
       "  Text(0, 38, 'Zip[T.95131]'),\n",
       "  Text(0, 39, 'Zip[T.95132]'),\n",
       "  Text(0, 40, 'Zip[T.95133]'),\n",
       "  Text(0, 41, 'Zip[T.95134]'),\n",
       "  Text(0, 42, 'Zip[T.95135]'),\n",
       "  Text(0, 43, 'Zip[T.95136]'),\n",
       "  Text(0, 44, 'Zip[T.95138]'),\n",
       "  Text(0, 45, 'Zip[T.95139]'),\n",
       "  Text(0, 46, 'Zip[T.95140]'),\n",
       "  Text(0, 47, 'Zip[T.95148]'),\n",
       "  Text(0, 48, 'Month_Accept_Date[T.Aug]'),\n",
       "  Text(0, 49, 'Month_Accept_Date[T.Dec]'),\n",
       "  Text(0, 50, 'Month_Accept_Date[T.Feb]'),\n",
       "  Text(0, 51, 'Month_Accept_Date[T.Jan]'),\n",
       "  Text(0, 52, 'Month_Accept_Date[T.Jul]'),\n",
       "  Text(0, 53, 'Month_Accept_Date[T.Jun]'),\n",
       "  Text(0, 54, 'Month_Accept_Date[T.Mar]'),\n",
       "  Text(0, 55, 'Month_Accept_Date[T.May]'),\n",
       "  Text(0, 56, 'Month_Accept_Date[T.Nov]'),\n",
       "  Text(0, 57, 'Month_Accept_Date[T.Oct]'),\n",
       "  Text(0, 58, 'Month_Accept_Date[T.Sep]'),\n",
       "  Text(0, 59, 'Month_Listing_Date[T.Aug]'),\n",
       "  Text(0, 60, 'Month_Listing_Date[T.Dec]'),\n",
       "  Text(0, 61, 'Month_Listing_Date[T.Feb]'),\n",
       "  Text(0, 62, 'Month_Listing_Date[T.Jan]'),\n",
       "  Text(0, 63, 'Month_Listing_Date[T.Jul]'),\n",
       "  Text(0, 64, 'Month_Listing_Date[T.Jun]'),\n",
       "  Text(0, 65, 'Month_Listing_Date[T.Mar]'),\n",
       "  Text(0, 66, 'Month_Listing_Date[T.May]'),\n",
       "  Text(0, 67, 'Month_Listing_Date[T.Nov]'),\n",
       "  Text(0, 68, 'Month_Listing_Date[T.Oct]'),\n",
       "  Text(0, 69, 'Month_Listing_Date[T.Sep]'),\n",
       "  Text(0, 70, 'DOM'),\n",
       "  Text(0, 71, 'LP'),\n",
       "  Text(0, 72, 'SqFt'),\n",
       "  Text(0, 73, 'BR'),\n",
       "  Text(0, 74, 'Bth'),\n",
       "  Text(0, 75, 'GarSp'),\n",
       "  Text(0, 76, 'HOA_Fee'),\n",
       "  Text(0, 77, 'Age'),\n",
       "  Text(0, 78, 'Week_in_month_Accept_Date'),\n",
       "  Text(0, 79, 'Week_in_month_Listing_Date')])"
      ]
     },
     "execution_count": 55,
     "metadata": {},
     "output_type": "execute_result"
    },
    {
     "data": {
      "image/png": "[encoded data removed]",
      "text/plain": [
       "<Figure size 720x720 with 1 Axes>"
      ]
     },
     "metadata": {},
     "output_type": "display_data"
    }
   ],
   "source": [
    "# plot feature significant\n",
    "data_dict = {}\n",
    "data_dict['category'] = list(model.params.to_dict().keys())[1:]\n",
    "data_dict['lower'] = model.conf_int()[0][1:]\n",
    "data_dict['upper'] = model.conf_int()[1][1:]\n",
    "data_dict['coef'] = model.params[1:]\n",
    "dataset = pd.DataFrame(data_dict)\n",
    "\n",
    "figure(figsize=(10, 10))\n",
    "matplotlib.rc('xtick', labelsize=10) \n",
    "matplotlib.rc('ytick', labelsize=10)\n",
    "for lower,upper,coef,y in zip(dataset['lower'],dataset['upper'], dataset['coef'],range(len(dataset))):\n",
    "    plt.plot((lower,upper),(y,y),'ro-',color='orange')\n",
    "\n",
    "plt.plot(dataset['coef'], range(len(dataset)), 'ro',color = 'black')\n",
    "plt.axvline(x = 0, color = 'red')\n",
    "plt.yticks(range(len(dataset)),list(dataset['category']))"
   ]
  },
  {
   "cell_type": "code",
   "execution_count": 56,
   "metadata": {},
   "outputs": [
    {
     "name": "stdout",
     "output_type": "stream",
     "text": [
      "                            OLS Regression Results                            \n",
      "==============================================================================\n",
      "Dep. Variable:                     SP   R-squared:                       0.951\n",
      "Model:                            OLS   Adj. R-squared:                  0.951\n",
      "Method:                 Least Squares   F-statistic:                     1801.\n",
      "Date:                Mon, 06 Dec 2021   Prob (F-statistic):               0.00\n",
      "Time:                        23:37:56   Log-Likelihood:                -78781.\n",
      "No. Observations:                6616   AIC:                         1.577e+05\n",
      "Df Residuals:                    6544   BIC:                         1.582e+05\n",
      "Df Model:                          71                                         \n",
      "Covariance Type:            nonrobust                                         \n",
      "==============================================================================================\n",
      "                                 coef    std err          t      P>|t|      [0.025      0.975]\n",
      "----------------------------------------------------------------------------------------------\n",
      "Intercept                   6.448e+04   4.46e+04      1.446      0.148   -2.29e+04    1.52e+05\n",
      "BT[T.SFH]                     2.3e+04   2522.679      9.119      0.000    1.81e+04    2.79e+04\n",
      "BT[T.TH]                    5288.8565   1507.791      3.508      0.000    2333.094    8244.619\n",
      "Area[T.Almaden Valley]     -8049.8787   2.25e+04     -0.359      0.720   -5.21e+04     3.6e+04\n",
      "Area[T.Alum Rock]          -2777.8626   2.57e+04     -0.108      0.914   -5.31e+04    4.75e+04\n",
      "Area[T.Berryessa]           5053.5317   2.59e+04      0.195      0.845   -4.56e+04    5.58e+04\n",
      "Area[T.Blossom Valley]      2157.5328   2.58e+04      0.084      0.933   -4.84e+04    5.27e+04\n",
      "Area[T.Cambrian]            1819.3952   2.66e+04      0.069      0.945   -5.02e+04    5.39e+04\n",
      "Area[T.Campbell]            5701.3684    2.6e+04      0.219      0.826   -4.53e+04    5.67e+04\n",
      "Area[T.Central San Jose]   -1913.6632   2.58e+04     -0.074      0.941   -5.25e+04    4.87e+04\n",
      "Area[T.Cupertino]           7078.0842   4.46e+04      0.159      0.874   -8.04e+04    9.45e+04\n",
      "Area[T.Evergreen]           9698.5526   2.58e+04      0.376      0.707   -4.08e+04    6.02e+04\n",
      "Area[T.Santa Clara County]   -83.1023   2.57e+04     -0.003      0.997   -5.05e+04    5.03e+04\n",
      "Area[T.Santa Teresa]        1751.2447   2.59e+04      0.068      0.946    -4.9e+04    5.25e+04\n",
      "Area[T.South San Jose]      1780.6677   2.57e+04      0.069      0.945   -4.85e+04    5.21e+04\n",
      "Area[T.Willow Glen]        -2095.1886   2.61e+04     -0.080      0.936   -5.32e+04     4.9e+04\n",
      "Zip[T.95110]               -2.416e+04   3.64e+04     -0.664      0.507   -9.55e+04    4.72e+04\n",
      "Zip[T.95111]               -3.536e+04   3.63e+04     -0.974      0.330   -1.07e+05    3.58e+04\n",
      "Zip[T.95112]               -1.884e+04   3.64e+04     -0.518      0.605   -9.02e+04    5.25e+04\n",
      "Zip[T.95113]               -6119.6358   3.72e+04     -0.165      0.869    -7.9e+04    6.68e+04\n",
      "Zip[T.95116]               -3.548e+04   3.63e+04     -0.977      0.329   -1.07e+05    3.57e+04\n",
      "Zip[T.95117]               -8759.3955   3.67e+04     -0.239      0.811   -8.07e+04    6.32e+04\n",
      "Zip[T.95118]               -1.881e+04   3.69e+04     -0.510      0.610   -9.12e+04    5.36e+04\n",
      "Zip[T.95119]               -1.622e+04   3.66e+04     -0.444      0.657   -8.79e+04    5.54e+04\n",
      "Zip[T.95120]               -8049.8787   2.25e+04     -0.359      0.720   -5.21e+04     3.6e+04\n",
      "Zip[T.95121]               -3.607e+04   3.64e+04     -0.992      0.321   -1.07e+05    3.52e+04\n",
      "Zip[T.95122]               -3.899e+04   3.63e+04     -1.074      0.283    -1.1e+05    3.22e+04\n",
      "Zip[T.95123]                 -2.7e+04   3.64e+04     -0.743      0.458   -9.83e+04    4.43e+04\n",
      "Zip[T.95124]               -1.458e+04   3.68e+04     -0.396      0.692   -8.67e+04    5.76e+04\n",
      "Zip[T.95125]               -1.912e+04   3.65e+04     -0.524      0.600   -9.06e+04    5.24e+04\n",
      "Zip[T.95126]               -1.277e+04   3.64e+04     -0.351      0.726   -8.41e+04    5.86e+04\n",
      "Zip[T.95127]               -3.063e+04   3.63e+04     -0.844      0.399   -1.02e+05    4.05e+04\n",
      "Zip[T.95128]                -1.93e+04   3.64e+04     -0.530      0.596   -9.07e+04    5.21e+04\n",
      "Zip[T.95129]               -1.226e+04   5.12e+04     -0.239      0.811   -1.13e+05    8.82e+04\n",
      "Zip[T.95130]                1.016e+05   4.07e+04      2.496      0.013    2.18e+04    1.81e+05\n",
      "Zip[T.95131]               -2.093e+04   3.65e+04     -0.574      0.566   -9.24e+04    5.05e+04\n",
      "Zip[T.95132]               -2.055e+04   3.65e+04     -0.563      0.573   -9.21e+04     5.1e+04\n",
      "Zip[T.95133]               -3.158e+04   3.64e+04     -0.867      0.386   -1.03e+05    3.98e+04\n",
      "Zip[T.95134]               -1.181e+04   3.67e+04     -0.322      0.748   -8.37e+04    6.01e+04\n",
      "Zip[T.95135]               -3.903e+04   3.66e+04     -1.068      0.286   -1.11e+05    3.26e+04\n",
      "Zip[T.95136]               -2.627e+04   3.63e+04     -0.723      0.470   -9.75e+04     4.5e+04\n",
      "Zip[T.95138]               -2.276e+04   3.65e+04     -0.624      0.533   -9.43e+04    4.88e+04\n",
      "Zip[T.95139]               -2.374e+04   3.66e+04     -0.649      0.516   -9.54e+04    4.79e+04\n",
      "Zip[T.95140]               -7.593e+04   4.45e+04     -1.706      0.088   -1.63e+05    1.13e+04\n",
      "Zip[T.95148]               -2.795e+04   3.64e+04     -0.768      0.443   -9.93e+04    4.34e+04\n",
      "Month_Accept_Date[T.Aug]    8677.6206   3220.949      2.694      0.007    2363.508     1.5e+04\n",
      "Month_Accept_Date[T.Dec]    7431.6424   3660.817      2.030      0.042     255.245    1.46e+04\n",
      "Month_Accept_Date[T.Feb]    9779.4591   3083.078      3.172      0.002    3735.619    1.58e+04\n",
      "Month_Accept_Date[T.Jan]      1.6e+04   3424.651      4.673      0.000    9289.970    2.27e+04\n",
      "Month_Accept_Date[T.Jul]    7008.5464   3017.306      2.323      0.020    1093.641    1.29e+04\n",
      "Month_Accept_Date[T.Jun]    6316.8636   2836.730      2.227      0.026     755.946    1.19e+04\n",
      "Month_Accept_Date[T.Mar]    5408.0990   2611.537      2.071      0.038     288.634    1.05e+04\n",
      "Month_Accept_Date[T.May]    4282.7107   2486.895      1.722      0.085    -592.416    9157.838\n",
      "Month_Accept_Date[T.Nov]     1.33e+04   3526.655      3.772      0.000    6390.019    2.02e+04\n",
      "Month_Accept_Date[T.Oct]    1.041e+04   3395.255      3.065      0.002    3750.532    1.71e+04\n",
      "Month_Accept_Date[T.Sep]    9393.1257   3308.488      2.839      0.005    2907.409    1.59e+04\n",
      "Month_Listing_Date[T.Aug]  -5659.4644   3148.835     -1.797      0.072   -1.18e+04     513.280\n",
      "Month_Listing_Date[T.Dec]  -9527.9634   3483.289     -2.735      0.006   -1.64e+04   -2699.579\n",
      "Month_Listing_Date[T.Feb]  -3410.2667   3102.112     -1.099      0.272   -9491.420    2670.886\n",
      "Month_Listing_Date[T.Jan]  -1.082e+04   3614.167     -2.994      0.003   -1.79e+04   -3737.068\n",
      "Month_Listing_Date[T.Jul]  -5718.2829   3008.376     -1.901      0.057   -1.16e+04     179.117\n",
      "Month_Listing_Date[T.Jun]  -4931.1408   2809.791     -1.755      0.079   -1.04e+04     576.967\n",
      "Month_Listing_Date[T.Mar]    107.1625   2545.510      0.042      0.966   -4882.869    5097.194\n",
      "Month_Listing_Date[T.May]  -1532.2352   2508.362     -0.611      0.541   -6449.444    3384.973\n",
      "Month_Listing_Date[T.Nov]  -7822.3297   3352.460     -2.333      0.020   -1.44e+04   -1250.413\n",
      "Month_Listing_Date[T.Oct]  -7345.7598   3315.233     -2.216      0.027   -1.38e+04    -846.821\n",
      "Month_Listing_Date[T.Sep]  -1.042e+04   3280.867     -3.175      0.002   -1.68e+04   -3983.572\n",
      "DOM                         -481.1470     17.071    -28.184      0.000    -514.613    -447.682\n",
      "LP                             0.9171      0.006    150.709      0.000       0.905       0.929\n",
      "SqFt                          24.3095      2.406     10.104      0.000      19.593      29.026\n",
      "Bth                         4122.8520   1110.921      3.711      0.000    1945.085    6300.619\n",
      "HOA_Fee                      -18.9963      5.689     -3.339      0.001     -30.148      -7.845\n",
      "Week_in_month_Listing_Date  -884.9434    354.515     -2.496      0.013   -1579.910    -189.977\n",
      "==============================================================================\n",
      "Omnibus:                     1950.597   Durbin-Watson:                   1.947\n",
      "Prob(Omnibus):                  0.000   Jarque-Bera (JB):            13372.694\n",
      "Skew:                           1.233   Prob(JB):                         0.00\n",
      "Kurtosis:                       9.514   Cond. No.                     1.02e+16\n",
      "==============================================================================\n",
      "\n",
      "Notes:\n",
      "[1] Standard Errors assume that the covariance matrix of the errors is correctly specified.\n",
      "[2] The smallest eigenvalue is 3.74e-17. This might indicate that there are\n",
      "strong multicollinearity problems or that the design matrix is singular.\n"
     ]
    }
   ],
   "source": [
    "#drop Gar, Freq, BR, GarSp, GarSp, Age, Week_in_month_Accept_date due to not significant\n",
    "\n",
    "# create formula\n",
    "col = train.drop(columns = ['SP','Gar', 'Freq', 'BR', 'GarSp', 'Age', 'Week_in_month_Accept_Date'])\n",
    "f = 'SP ~ ' + ' + '.join(col)\n",
    "#model building\n",
    "model = smf.ols(formula = f,data = train).fit()\n",
    "print(model.summary())"
   ]
  },
  {
   "cell_type": "code",
   "execution_count": 57,
   "metadata": {},
   "outputs": [],
   "source": [
    "# use our model to predict test set\n",
    "y_pred_ols = model.predict(test_X)"
   ]
  },
  {
   "cell_type": "code",
   "execution_count": 58,
   "metadata": {},
   "outputs": [],
   "source": [
    "# define the function of OSR2\n",
    "def OSR2(y_train, y_test, y_pred):\n",
    "    \n",
    "    SSE = np.sum((y_test - y_pred)**2)\n",
    "    SST = np.sum((y_test - np.mean(y_train))**2)\n",
    "                 \n",
    "    return (1 - SSE/SST)"
   ]
  },
  {
   "cell_type": "code",
   "execution_count": 59,
   "metadata": {},
   "outputs": [],
   "source": [
    "# define the function of MAE\n",
    "def MAE(y_test, y_pred):\n",
    "    \n",
    "    return (np.mean(abs(y_test - y_pred)))"
   ]
  },
  {
   "cell_type": "code",
   "execution_count": 60,
   "metadata": {},
   "outputs": [],
   "source": [
    "# define the function of RMSE\n",
    "def RMSE(y_test, y_pred):\n",
    "    \n",
    "    return np.sqrt(np.mean((y_test - y_pred)**2))"
   ]
  },
  {
   "cell_type": "code",
   "execution_count": 61,
   "metadata": {},
   "outputs": [
    {
     "name": "stdout",
     "output_type": "stream",
     "text": [
      "OSR2 of linear regression 0.8951669341458612\n",
      "RMSE of linear regression 60120.783822144345\n",
      "MAE of linear regression 40174.510453055\n"
     ]
    }
   ],
   "source": [
    "print('OSR2 of linear regression', OSR2(train_y,test_y,y_pred_ols))\n",
    "print('RMSE of linear regression', RMSE(test_y,y_pred_ols))\n",
    "print('MAE of linear regression', MAE(test_y,y_pred_ols))"
   ]
  },
  {
   "cell_type": "markdown",
   "metadata": {},
   "source": [
    "### Part II - Ridge Regression"
   ]
  },
  {
   "cell_type": "code",
   "execution_count": 62,
   "metadata": {},
   "outputs": [],
   "source": [
    "# get dummies\n",
    "train = pd.get_dummies(train, columns = ['BT','Gar','Freq','Area','Zip','Month_Accept_Date','Month_Listing_Date'])\n",
    "test = pd.get_dummies(test, columns = ['BT','Gar','Freq','Area','Zip','Month_Accept_Date','Month_Listing_Date'])\n"
   ]
  },
  {
   "cell_type": "code",
   "execution_count": 63,
   "metadata": {},
   "outputs": [],
   "source": [
    "# split dependent and independent variables\n",
    "train_X = train.drop(columns = ['SP'])\n",
    "train_y = train['SP']\n",
    "test_X = test.drop(columns = ['SP'])\n",
    "test_y = test['SP']\n",
    "test_X['Month_Accept_Date_Oct'] = [0] * len(test_X)\n",
    "# create extra zip code in test set\n",
    "test_X['Zip_95140'] = [0] * len(test_X)"
   ]
  },
  {
   "cell_type": "code",
   "execution_count": 64,
   "metadata": {},
   "outputs": [],
   "source": [
    "# define the funcation to calculate one standard error\n",
    "def one_standard_error_rule(model, results, param_grid, n_splits, neg_mean_squared_error=True):\n",
    "    \n",
    "    assert neg_mean_squared_error == True # function is defined specifically for neg_mean_squared_error\n",
    "    \n",
    "    #find model with minimum error, then select the simplest model\n",
    "    #whose mean falls within 1 standard deviation of the minimum\n",
    "    \n",
    "    range_x = param_grid # results['param_'+list(param_grid.keys())[0]].data\n",
    "    std_vs_x  = pd.Series(results['std_test_score'], index = range_x)\n",
    "    sem_vs_x  = std_vs_x/np.sqrt(n_splits)\n",
    "    \n",
    "    mean_vs_x = pd.Series(results['mean_test_score'], index = range_x)        \n",
    "    mean_vs_x = mean_vs_x*(-1)\n",
    "    \n",
    "    x_min = mean_vs_x.idxmin()\n",
    "    sem = sem_vs_x[x_min]\n",
    "    \n",
    "\n",
    "    if (model=='pcr'):\n",
    "        x_1se = mean_vs_x[mean_vs_x <= min(mean_vs_x) + sem].index.min()\n",
    "    elif (model=='ridge') | (model=='lasso'):\n",
    "        x_1se = mean_vs_x[mean_vs_x <= min(mean_vs_x) + sem].index.max()\n",
    "        \n",
    "    #x_1se_idx = int(np.argwhere(range_x == x_1se)[0])\n",
    "    \n",
    "    return x_min, x_1se"
   ]
  },
  {
   "cell_type": "code",
   "execution_count": 65,
   "metadata": {},
   "outputs": [
    {
     "data": {
      "text/plain": [
       "GridSearchCV(cv=10, estimator=Ridge(random_state=88),\n",
       "             param_grid={'alpha': array([1.00000000e-01, 1.32571137e-01, 1.75751062e-01, 2.32995181e-01,\n",
       "       3.08884360e-01, 4.09491506e-01, 5.42867544e-01, 7.19685673e-01,\n",
       "       9.54095476e-01, 1.26485522e+00, 1.67683294e+00, 2.22299648e+00,\n",
       "       2.94705170e+00, 3.90693994e+00, 5.17947468e+00, 6.86648845e+00,\n",
       "       9.10298178e+00, 1.20679264e+01, 1...\n",
       "       2.68269580e+02, 3.55648031e+02, 4.71486636e+02, 6.25055193e+02,\n",
       "       8.28642773e+02, 1.09854114e+03, 1.45634848e+03, 1.93069773e+03,\n",
       "       2.55954792e+03, 3.39322177e+03, 4.49843267e+03, 5.96362332e+03,\n",
       "       7.90604321e+03, 1.04811313e+04, 1.38949549e+04, 1.84206997e+04,\n",
       "       2.44205309e+04, 3.23745754e+04, 4.29193426e+04, 5.68986603e+04,\n",
       "       7.54312006e+04, 1.00000000e+05])},\n",
       "             scoring='neg_root_mean_squared_error')"
      ]
     },
     "execution_count": 65,
     "metadata": {},
     "output_type": "execute_result"
    }
   ],
   "source": [
    "# grid search for ridge regression\n",
    "alpha_grid = {'alpha': np.logspace(-1, 5, num=50, base=10)}\n",
    "\n",
    "rr = Ridge(random_state=88)\n",
    "rr_cv = GridSearchCV(rr, alpha_grid, scoring='neg_root_mean_squared_error', cv=10)\n",
    "rr_cv.fit(train_X, train_y)"
   ]
  },
  {
   "cell_type": "code",
   "execution_count": 66,
   "metadata": {},
   "outputs": [
    {
     "data": {
      "image/png": "[encoded data removed]",
      "text/plain": [
       "<Figure size 576x432 with 1 Axes>"
      ]
     },
     "metadata": {},
     "output_type": "display_data"
    }
   ],
   "source": [
    "# plot alpha VS RMSE\n",
    "range_alpha = rr_cv.cv_results_['param_alpha'].data\n",
    "MSE_scores = rr_cv.cv_results_['mean_test_score']*(-1)\n",
    "x_min, x_1se = one_standard_error_rule(model='ridge',\n",
    "                                       results=rr_cv.cv_results_,\n",
    "                                       param_grid=range_alpha,\n",
    "                                       n_splits=10,\n",
    "                                       neg_mean_squared_error=True)\n",
    "plt.figure(figsize=(8, 6))\n",
    "ax = plt.gca()\n",
    "ax.set_xscale('log')\n",
    "plt.xlabel('Alpha', fontsize=16)\n",
    "plt.ylabel('CV RMSE', fontsize=16)\n",
    "plt.scatter(range_alpha, MSE_scores, s=30)\n",
    "plt.axvline(x=x_min, color='m')\n",
    "plt.axvline(x=x_1se, color='c')\n",
    "#plt.grid(True, which='both')\n",
    "\n",
    "plt.tight_layout()\n",
    "plt.show()"
   ]
  },
  {
   "cell_type": "code",
   "execution_count": 67,
   "metadata": {},
   "outputs": [
    {
     "name": "stdout",
     "output_type": "stream",
     "text": [
      "{'alpha': 5963.623316594637}\n",
      "-36941.61495150938\n"
     ]
    }
   ],
   "source": [
    "# the best parameter\n",
    "print(rr_cv.best_params_)\n",
    "# the best score\n",
    "print(rr_cv.best_score_)"
   ]
  },
  {
   "cell_type": "code",
   "execution_count": 68,
   "metadata": {},
   "outputs": [
    {
     "data": {
      "text/plain": [
       "Index(['DOM', 'LP', 'SqFt', 'BR', 'Bth', 'GarSp', 'HOA_Fee', 'Age',\n",
       "       'Week_in_month_Accept_Date', 'Week_in_month_Listing_Date', 'BT_CO',\n",
       "       'BT_SFH', 'BT_TH', 'Gar_N', 'Gar_N/A', 'Gar_Y', 'Freq_A', 'Freq_M',\n",
       "       'Freq_N/A', 'Area_All Other Counties/States', 'Area_Almaden Valley',\n",
       "       'Area_Alum Rock', 'Area_Berryessa', 'Area_Blossom Valley',\n",
       "       'Area_Cambrian', 'Area_Campbell', 'Area_Central San Jose',\n",
       "       'Area_Cupertino', 'Area_Evergreen', 'Area_Santa Clara County',\n",
       "       'Area_Santa Teresa', 'Area_South San Jose', 'Area_Willow Glen',\n",
       "       'Zip_95002', 'Zip_95110', 'Zip_95111', 'Zip_95112', 'Zip_95113',\n",
       "       'Zip_95116', 'Zip_95117', 'Zip_95118', 'Zip_95119', 'Zip_95120',\n",
       "       'Zip_95121', 'Zip_95122', 'Zip_95123', 'Zip_95124', 'Zip_95125',\n",
       "       'Zip_95126', 'Zip_95127', 'Zip_95128', 'Zip_95129', 'Zip_95130',\n",
       "       'Zip_95131', 'Zip_95132', 'Zip_95133', 'Zip_95134', 'Zip_95135',\n",
       "       'Zip_95136', 'Zip_95138', 'Zip_95139', 'Zip_95140', 'Zip_95148',\n",
       "       'Month_Accept_Date_Apr', 'Month_Accept_Date_Aug',\n",
       "       'Month_Accept_Date_Dec', 'Month_Accept_Date_Feb',\n",
       "       'Month_Accept_Date_Jan', 'Month_Accept_Date_Jul',\n",
       "       'Month_Accept_Date_Jun', 'Month_Accept_Date_Mar',\n",
       "       'Month_Accept_Date_May', 'Month_Accept_Date_Nov',\n",
       "       'Month_Accept_Date_Oct', 'Month_Accept_Date_Sep',\n",
       "       'Month_Listing_Date_Apr', 'Month_Listing_Date_Aug',\n",
       "       'Month_Listing_Date_Dec', 'Month_Listing_Date_Feb',\n",
       "       'Month_Listing_Date_Jan', 'Month_Listing_Date_Jul',\n",
       "       'Month_Listing_Date_Jun', 'Month_Listing_Date_Mar',\n",
       "       'Month_Listing_Date_May', 'Month_Listing_Date_Nov',\n",
       "       'Month_Listing_Date_Oct', 'Month_Listing_Date_Sep'],\n",
       "      dtype='object')"
      ]
     },
     "execution_count": 68,
     "metadata": {},
     "output_type": "execute_result"
    }
   ],
   "source": [
    "train_X.columns"
   ]
  },
  {
   "cell_type": "code",
   "execution_count": 69,
   "metadata": {},
   "outputs": [
    {
     "name": "stdout",
     "output_type": "stream",
     "text": [
      "OSR2 of ridge regression 0.9003945542804599\n",
      "RMSE of ridge regression 58602.61990882112\n",
      "MAE of ridge regression 38097.741781381854\n"
     ]
    }
   ],
   "source": [
    "#using best ridge to predict\n",
    "predict_y = rr_cv.predict(test_X)\n",
    "print('OSR2 of ridge regression', OSR2(train_y,test_y,predict_y))\n",
    "print('RMSE of ridge regression', RMSE(test_y,predict_y))\n",
    "print('MAE of ridge regression', MAE(test_y,predict_y))"
   ]
  },
  {
   "cell_type": "code",
   "execution_count": 70,
   "metadata": {},
   "outputs": [
    {
     "name": "stdout",
     "output_type": "stream",
     "text": [
      "Alpha one standard error rule: 100000.0\n"
     ]
    }
   ],
   "source": [
    "print('Alpha one standard error rule:', x_1se)"
   ]
  },
  {
   "cell_type": "code",
   "execution_count": 71,
   "metadata": {},
   "outputs": [
    {
     "name": "stdout",
     "output_type": "stream",
     "text": [
      "OSR2 of ridge regression 0.9011930917479474\n",
      "RMSE of ridge regression 58367.23841465742\n",
      "MAE of ridge regression 38007.49694625855\n"
     ]
    }
   ],
   "source": [
    "#using one std rule to predict\n",
    "rr_cv_std = GridSearchCV(rr, {'alpha': [x_1se]}, scoring='neg_root_mean_squared_error', cv=10)\n",
    "rr_cv_std.fit(train_X, train_y)\n",
    "predict_y = rr_cv_std.predict(test_X)\n",
    "print('OSR2 of ridge regression', OSR2(train_y,test_y,predict_y))\n",
    "print('RMSE of ridge regression', RMSE(test_y,predict_y))\n",
    "print('MAE of ridge regression', MAE(test_y,predict_y))"
   ]
  },
  {
   "cell_type": "markdown",
   "metadata": {},
   "source": [
    "### Part III - Lasso"
   ]
  },
  {
   "cell_type": "code",
   "execution_count": 72,
   "metadata": {},
   "outputs": [
    {
     "data": {
      "text/plain": [
       "GridSearchCV(cv=10, estimator=Lasso(random_state=88),\n",
       "             param_grid={'alpha': array([1.00000000e-01, 1.32571137e-01, 1.75751062e-01, 2.32995181e-01,\n",
       "       3.08884360e-01, 4.09491506e-01, 5.42867544e-01, 7.19685673e-01,\n",
       "       9.54095476e-01, 1.26485522e+00, 1.67683294e+00, 2.22299648e+00,\n",
       "       2.94705170e+00, 3.90693994e+00, 5.17947468e+00, 6.86648845e+00,\n",
       "       9.10298178e+00, 1.20679264e+01, 1...\n",
       "       2.68269580e+02, 3.55648031e+02, 4.71486636e+02, 6.25055193e+02,\n",
       "       8.28642773e+02, 1.09854114e+03, 1.45634848e+03, 1.93069773e+03,\n",
       "       2.55954792e+03, 3.39322177e+03, 4.49843267e+03, 5.96362332e+03,\n",
       "       7.90604321e+03, 1.04811313e+04, 1.38949549e+04, 1.84206997e+04,\n",
       "       2.44205309e+04, 3.23745754e+04, 4.29193426e+04, 5.68986603e+04,\n",
       "       7.54312006e+04, 1.00000000e+05])},\n",
       "             scoring='neg_root_mean_squared_error')"
      ]
     },
     "execution_count": 72,
     "metadata": {},
     "output_type": "execute_result"
    }
   ],
   "source": [
    "#grid search for alpha in lasso\n",
    "alpha_grid = {'alpha': np.logspace(-1, 5, num=50, base=10)}\n",
    "lasso = Lasso(random_state=88)\n",
    "lasso_cv = GridSearchCV(lasso, alpha_grid, scoring='neg_root_mean_squared_error', cv=10)\n",
    "lasso_cv.fit(train_X, train_y)"
   ]
  },
  {
   "cell_type": "code",
   "execution_count": 73,
   "metadata": {},
   "outputs": [
    {
     "name": "stdout",
     "output_type": "stream",
     "text": [
      "{'alpha': 471.48663634573944}\n"
     ]
    }
   ],
   "source": [
    "print(lasso_cv.best_params_)"
   ]
  },
  {
   "cell_type": "code",
   "execution_count": 74,
   "metadata": {},
   "outputs": [
    {
     "name": "stdout",
     "output_type": "stream",
     "text": [
      "-36935.38274769798\n"
     ]
    }
   ],
   "source": [
    "print(lasso_cv.best_score_)"
   ]
  },
  {
   "cell_type": "code",
   "execution_count": 75,
   "metadata": {},
   "outputs": [
    {
     "data": {
      "image/png": "[encoded data removed]",
      "text/plain": [
       "<Figure size 576x432 with 1 Axes>"
      ]
     },
     "metadata": {},
     "output_type": "display_data"
    }
   ],
   "source": [
    "#plot\n",
    "range_alpha = lasso_cv.cv_results_['param_alpha'].data\n",
    "MSE_scores = lasso_cv.cv_results_['mean_test_score']*(-1)\n",
    "x_min, x_1se = one_standard_error_rule(model='lasso',\n",
    "                                       results=lasso_cv.cv_results_,\n",
    "                                       param_grid=range_alpha,\n",
    "                                       n_splits=10,\n",
    "                                       neg_mean_squared_error=True)\n",
    "plt.figure(figsize=(8, 6))\n",
    "ax = plt.gca()\n",
    "ax.set_xscale('log')\n",
    "plt.xlabel('Alpha', fontsize=16)\n",
    "plt.ylabel('CV RMSE', fontsize=16)\n",
    "plt.scatter(range_alpha, MSE_scores, s=30)\n",
    "plt.axvline(x=x_min, color='m')\n",
    "plt.axvline(x=x_1se, color='c')\n",
    "#plt.grid(True, which='both')\n",
    "\n",
    "plt.tight_layout()\n",
    "plt.show()"
   ]
  },
  {
   "cell_type": "code",
   "execution_count": 76,
   "metadata": {},
   "outputs": [
    {
     "name": "stdout",
     "output_type": "stream",
     "text": [
      "OSR2 of Lasso 0.9002133859933611\n",
      "RMSE of Lasso 58655.89065571138\n",
      "MAE of Lasso 37841.83098223326\n"
     ]
    }
   ],
   "source": [
    "#using best Lasso to predict\n",
    "predict_y = lasso_cv.predict(test_X)\n",
    "print('OSR2 of Lasso', OSR2(train_y,test_y,predict_y))\n",
    "print('RMSE of Lasso', RMSE(test_y,predict_y))\n",
    "print('MAE of Lasso', MAE(test_y,predict_y))"
   ]
  },
  {
   "cell_type": "code",
   "execution_count": 77,
   "metadata": {},
   "outputs": [
    {
     "name": "stdout",
     "output_type": "stream",
     "text": [
      "Alpha one standard error rule: 100000.0\n",
      "OSR2 of Lasso 0.899157513248575\n",
      "RMSE of Lasso 58965.402029297155\n",
      "MAE of Lasso 38258.43291216023\n"
     ]
    }
   ],
   "source": [
    "print('Alpha one standard error rule:', x_1se)\n",
    "#using one std rule to predict\n",
    "lasso_cv = GridSearchCV(lasso, {'alpha': [x_1se]}, scoring='neg_root_mean_squared_error', cv=10)\n",
    "lasso_cv.fit(train_X, train_y)\n",
    "predict_y = lasso_cv.predict(test_X)\n",
    "print('OSR2 of Lasso', OSR2(train_y,test_y,predict_y))\n",
    "print('RMSE of Lasso', RMSE(test_y,predict_y))\n",
    "print('MAE of Lasso', MAE(test_y,predict_y))"
   ]
  },
  {
   "cell_type": "markdown",
   "metadata": {},
   "source": [
    "### Part IV - CART"
   ]
  },
  {
   "cell_type": "code",
   "execution_count": 78,
   "metadata": {},
   "outputs": [],
   "source": [
    "# import package of CART\n",
    "from sklearn.tree import DecisionTreeRegressor\n",
    "from sklearn.model_selection import GridSearchCV\n",
    "import matplotlib.pyplot as plt\n",
    "from sklearn.tree import plot_tree"
   ]
  },
  {
   "cell_type": "markdown",
   "metadata": {},
   "source": [
    "We are using CART model to predict the house value by tuning hyper-parameters with cross validation."
   ]
  },
  {
   "cell_type": "code",
   "execution_count": 79,
   "metadata": {},
   "outputs": [],
   "source": [
    "y_test = test_y\n",
    "X_test = test_X\n",
    "y_train = train_y\n",
    "X_train = train_X"
   ]
  },
  {
   "cell_type": "code",
   "execution_count": 80,
   "metadata": {},
   "outputs": [
    {
     "name": "stdout",
     "output_type": "stream",
     "text": [
      "Fitting 10 folds for each of 201 candidates, totalling 2010 fits\n"
     ]
    },
    {
     "data": {
      "text/plain": [
       "GridSearchCV(cv=10, estimator=DecisionTreeRegressor(),\n",
       "             param_grid={'ccp_alpha': array([       0.,    50000.,   100000.,   150000.,   200000.,   250000.,\n",
       "         300000.,   350000.,   400000.,   450000.,   500000.,   550000.,\n",
       "         600000.,   650000.,   700000.,   750000.,   800000.,   850000.,\n",
       "         900000.,   950000.,  1000000.,  1050000.,  1100000.,  1150000.,\n",
       "        1200000.,  1250000.,  1300000.,  1350000.,  1400000.,  1450000.,\n",
       "        1500000.,  1550000.,  1600...\n",
       "        8700000.,  8750000.,  8800000.,  8850000.,  8900000.,  8950000.,\n",
       "        9000000.,  9050000.,  9100000.,  9150000.,  9200000.,  9250000.,\n",
       "        9300000.,  9350000.,  9400000.,  9450000.,  9500000.,  9550000.,\n",
       "        9600000.,  9650000.,  9700000.,  9750000.,  9800000.,  9850000.,\n",
       "        9900000.,  9950000., 10000000.]),\n",
       "                         'max_depth': [100], 'min_samples_leaf': [5],\n",
       "                         'min_samples_split': [20], 'random_state': [88]},\n",
       "             scoring='neg_root_mean_squared_error', verbose=1)"
      ]
     },
     "execution_count": 80,
     "metadata": {},
     "output_type": "execute_result"
    }
   ],
   "source": [
    "#Exhaustive search over specified parameter values for an estimator.\n",
    "\n",
    "grid_values = {'ccp_alpha': np.linspace(0.0, 10000000, 201),\n",
    "               'min_samples_leaf': [5],\n",
    "               'min_samples_split': [20],\n",
    "               'max_depth': [100],\n",
    "               'random_state': [88]} \n",
    "            \n",
    "dtr = DecisionTreeRegressor()\n",
    "dtr_cv_rmse = GridSearchCV(dtr, param_grid = grid_values, scoring =  'neg_root_mean_squared_error', cv=10, verbose=1) \n",
    "\n",
    "dtr_cv_rmse.fit(X_train, y_train)"
   ]
  },
  {
   "cell_type": "code",
   "execution_count": 81,
   "metadata": {},
   "outputs": [
    {
     "data": {
      "text/html": [
       "<div>\n",
       "<style scoped>\n",
       "    .dataframe tbody tr th:only-of-type {\n",
       "        vertical-align: middle;\n",
       "    }\n",
       "\n",
       "    .dataframe tbody tr th {\n",
       "        vertical-align: top;\n",
       "    }\n",
       "\n",
       "    .dataframe thead th {\n",
       "        text-align: right;\n",
       "    }\n",
       "</style>\n",
       "<table border=\"1\" class=\"dataframe\">\n",
       "  <thead>\n",
       "    <tr style=\"text-align: right;\">\n",
       "      <th></th>\n",
       "      <th>ccp alpha</th>\n",
       "      <th>Validation RMSE</th>\n",
       "    </tr>\n",
       "  </thead>\n",
       "  <tbody>\n",
       "    <tr>\n",
       "      <th>0</th>\n",
       "      <td>0.0</td>\n",
       "      <td>40183.683245</td>\n",
       "    </tr>\n",
       "    <tr>\n",
       "      <th>1</th>\n",
       "      <td>50000.0</td>\n",
       "      <td>40183.405185</td>\n",
       "    </tr>\n",
       "    <tr>\n",
       "      <th>2</th>\n",
       "      <td>100000.0</td>\n",
       "      <td>40173.963669</td>\n",
       "    </tr>\n",
       "    <tr>\n",
       "      <th>3</th>\n",
       "      <td>150000.0</td>\n",
       "      <td>40137.195073</td>\n",
       "    </tr>\n",
       "    <tr>\n",
       "      <th>4</th>\n",
       "      <td>200000.0</td>\n",
       "      <td>40083.557985</td>\n",
       "    </tr>\n",
       "    <tr>\n",
       "      <th>5</th>\n",
       "      <td>250000.0</td>\n",
       "      <td>39994.701606</td>\n",
       "    </tr>\n",
       "    <tr>\n",
       "      <th>6</th>\n",
       "      <td>300000.0</td>\n",
       "      <td>39915.814673</td>\n",
       "    </tr>\n",
       "    <tr>\n",
       "      <th>7</th>\n",
       "      <td>350000.0</td>\n",
       "      <td>39879.426900</td>\n",
       "    </tr>\n",
       "    <tr>\n",
       "      <th>8</th>\n",
       "      <td>400000.0</td>\n",
       "      <td>39840.926969</td>\n",
       "    </tr>\n",
       "    <tr>\n",
       "      <th>9</th>\n",
       "      <td>450000.0</td>\n",
       "      <td>39752.593486</td>\n",
       "    </tr>\n",
       "    <tr>\n",
       "      <th>10</th>\n",
       "      <td>500000.0</td>\n",
       "      <td>39673.412873</td>\n",
       "    </tr>\n",
       "    <tr>\n",
       "      <th>11</th>\n",
       "      <td>550000.0</td>\n",
       "      <td>39590.638841</td>\n",
       "    </tr>\n",
       "    <tr>\n",
       "      <th>12</th>\n",
       "      <td>600000.0</td>\n",
       "      <td>39628.442380</td>\n",
       "    </tr>\n",
       "    <tr>\n",
       "      <th>13</th>\n",
       "      <td>650000.0</td>\n",
       "      <td>39620.282936</td>\n",
       "    </tr>\n",
       "    <tr>\n",
       "      <th>14</th>\n",
       "      <td>700000.0</td>\n",
       "      <td>39580.139363</td>\n",
       "    </tr>\n",
       "    <tr>\n",
       "      <th>15</th>\n",
       "      <td>750000.0</td>\n",
       "      <td>39546.216287</td>\n",
       "    </tr>\n",
       "    <tr>\n",
       "      <th>16</th>\n",
       "      <td>800000.0</td>\n",
       "      <td>39463.564145</td>\n",
       "    </tr>\n",
       "    <tr>\n",
       "      <th>17</th>\n",
       "      <td>850000.0</td>\n",
       "      <td>39383.784175</td>\n",
       "    </tr>\n",
       "    <tr>\n",
       "      <th>18</th>\n",
       "      <td>900000.0</td>\n",
       "      <td>39299.993798</td>\n",
       "    </tr>\n",
       "    <tr>\n",
       "      <th>19</th>\n",
       "      <td>950000.0</td>\n",
       "      <td>39263.026852</td>\n",
       "    </tr>\n",
       "  </tbody>\n",
       "</table>\n",
       "</div>"
      ],
      "text/plain": [
       "   ccp alpha  Validation RMSE\n",
       "0        0.0     40183.683245\n",
       "1    50000.0     40183.405185\n",
       "2   100000.0     40173.963669\n",
       "3   150000.0     40137.195073\n",
       "4   200000.0     40083.557985\n",
       "5   250000.0     39994.701606\n",
       "6   300000.0     39915.814673\n",
       "7   350000.0     39879.426900\n",
       "8   400000.0     39840.926969\n",
       "9   450000.0     39752.593486\n",
       "10  500000.0     39673.412873\n",
       "11  550000.0     39590.638841\n",
       "12  600000.0     39628.442380\n",
       "13  650000.0     39620.282936\n",
       "14  700000.0     39580.139363\n",
       "15  750000.0     39546.216287\n",
       "16  800000.0     39463.564145\n",
       "17  850000.0     39383.784175\n",
       "18  900000.0     39299.993798\n",
       "19  950000.0     39263.026852"
      ]
     },
     "execution_count": 81,
     "metadata": {},
     "output_type": "execute_result"
    }
   ],
   "source": [
    "rmse = (-1) *dtr_cv_rmse.cv_results_['mean_test_score'] \n",
    "ccp = dtr_cv_rmse.cv_results_['param_ccp_alpha'].data\n",
    "\n",
    "pd.DataFrame({'ccp alpha' : ccp, 'Validation RMSE': rmse}).head(20)"
   ]
  },
  {
   "cell_type": "code",
   "execution_count": 82,
   "metadata": {},
   "outputs": [
    {
     "data": {
      "image/png": "[encoded data removed]",
      "text/plain": [
       "<Figure size 576x432 with 1 Axes>"
      ]
     },
     "metadata": {},
     "output_type": "display_data"
    }
   ],
   "source": [
    "plt.figure(figsize=(8, 6))\n",
    "plt.xlabel('ccp alpha', fontsize=16)\n",
    "plt.ylabel('mean validation mse', fontsize=16)\n",
    "plt.scatter(ccp, rmse, s=2)\n",
    "plt.plot(ccp, rmse, linewidth=3)\n",
    "plt.grid(True, which='both')\n",
    "plt.show()"
   ]
  },
  {
   "cell_type": "code",
   "execution_count": 83,
   "metadata": {},
   "outputs": [
    {
     "name": "stdout",
     "output_type": "stream",
     "text": [
      "Grid best parameter ccp_alpha (min RMSE):  3650000.0\n",
      "Grid best score (RMSE):  -37088.39114388564\n"
     ]
    }
   ],
   "source": [
    "print('Grid best parameter ccp_alpha (min RMSE): ', dtr_cv_rmse.best_params_['ccp_alpha'])\n",
    "print('Grid best score (RMSE): ', dtr_cv_rmse.best_score_)"
   ]
  },
  {
   "cell_type": "code",
   "execution_count": 84,
   "metadata": {},
   "outputs": [
    {
     "name": "stdout",
     "output_type": "stream",
     "text": [
      "Node count = 111\n"
     ]
    },
    {
     "data": {
      "image/png": "[encoded data removed]",
      "text/plain": [
       "<Figure size 1440x720 with 1 Axes>"
      ]
     },
     "metadata": {},
     "output_type": "display_data"
    }
   ],
   "source": [
    "print('Node count =', dtr_cv_rmse.best_estimator_.tree_.node_count)\n",
    "\n",
    "plt.figure(figsize=(20,10))\n",
    "plot_tree(dtr_cv_rmse.best_estimator_, \n",
    "          feature_names=X_train.columns, \n",
    "          class_names=['0','1'],\n",
    "          filled=True,\n",
    "          impurity=False,\n",
    "          rounded=True,\n",
    "          fontsize=12,\n",
    "          max_depth=3)\n",
    "plt.show()"
   ]
  },
  {
   "cell_type": "code",
   "execution_count": 85,
   "metadata": {},
   "outputs": [
    {
     "name": "stdout",
     "output_type": "stream",
     "text": [
      "{'ccp_alpha': 3650000.0, 'max_depth': 100, 'min_samples_leaf': 5, 'min_samples_split': 20, 'random_state': 88}\n"
     ]
    },
    {
     "data": {
      "text/html": [
       "<div>\n",
       "<style scoped>\n",
       "    .dataframe tbody tr th:only-of-type {\n",
       "        vertical-align: middle;\n",
       "    }\n",
       "\n",
       "    .dataframe tbody tr th {\n",
       "        vertical-align: top;\n",
       "    }\n",
       "\n",
       "    .dataframe thead th {\n",
       "        text-align: right;\n",
       "    }\n",
       "</style>\n",
       "<table border=\"1\" class=\"dataframe\">\n",
       "  <thead>\n",
       "    <tr style=\"text-align: right;\">\n",
       "      <th></th>\n",
       "      <th>Feature</th>\n",
       "      <th>Importance score</th>\n",
       "    </tr>\n",
       "  </thead>\n",
       "  <tbody>\n",
       "    <tr>\n",
       "      <th>0</th>\n",
       "      <td>DOM</td>\n",
       "      <td>1.29</td>\n",
       "    </tr>\n",
       "    <tr>\n",
       "      <th>1</th>\n",
       "      <td>LP</td>\n",
       "      <td>98.36</td>\n",
       "    </tr>\n",
       "    <tr>\n",
       "      <th>2</th>\n",
       "      <td>SqFt</td>\n",
       "      <td>0.09</td>\n",
       "    </tr>\n",
       "    <tr>\n",
       "      <th>3</th>\n",
       "      <td>BR</td>\n",
       "      <td>0.02</td>\n",
       "    </tr>\n",
       "    <tr>\n",
       "      <th>4</th>\n",
       "      <td>Bth</td>\n",
       "      <td>0.00</td>\n",
       "    </tr>\n",
       "  </tbody>\n",
       "</table>\n",
       "</div>"
      ],
      "text/plain": [
       "  Feature  Importance score\n",
       "0     DOM              1.29\n",
       "1      LP             98.36\n",
       "2    SqFt              0.09\n",
       "3      BR              0.02\n",
       "4     Bth              0.00"
      ]
     },
     "execution_count": 85,
     "metadata": {},
     "output_type": "execute_result"
    }
   ],
   "source": [
    "# print the best parameter\n",
    "print(dtr_cv_rmse.best_params_)\n",
    "\n",
    "# print feature importance\n",
    "pd.DataFrame({'Feature' : X_train.columns, \n",
    "              'Importance score': 100 * dtr_cv_rmse.best_estimator_.feature_importances_}).round(2).head()"
   ]
  },
  {
   "cell_type": "code",
   "execution_count": 86,
   "metadata": {},
   "outputs": [],
   "source": [
    "# predict test set using best model we get\n",
    "y_pred = dtr_cv_rmse.best_estimator_.predict(X_test)"
   ]
  },
  {
   "cell_type": "code",
   "execution_count": 87,
   "metadata": {},
   "outputs": [
    {
     "name": "stdout",
     "output_type": "stream",
     "text": [
      "OSR2 of CART 0.9063061771344793\n",
      "RMSE of CART 56836.9768993388\n",
      "MAE of CART 37761.23364563633\n"
     ]
    }
   ],
   "source": [
    "# calculate OSR2, RMSE, and MAE for random forest\n",
    "print('OSR2 of CART', OSR2(y_train, y_test,y_pred))\n",
    "print('RMSE of CART', RMSE(y_test, y_pred))\n",
    "print('MAE of CART', MAE(y_test, y_pred))"
   ]
  },
  {
   "cell_type": "code",
   "execution_count": 88,
   "metadata": {},
   "outputs": [],
   "source": [
    "import pickle\n",
    "filename = 'CART.sav'\n",
    "pickle.dump(dtr_cv_rmse.best_estimator_,open(filename,'wb'))"
   ]
  },
  {
   "cell_type": "markdown",
   "metadata": {},
   "source": [
    "### Part V - Random Forest"
   ]
  },
  {
   "cell_type": "code",
   "execution_count": 89,
   "metadata": {},
   "outputs": [],
   "source": [
    "# import package for random forest\n",
    "from sklearn.model_selection import GridSearchCV\n",
    "from sklearn.ensemble import RandomForestRegressor"
   ]
  },
  {
   "cell_type": "code",
   "execution_count": 90,
   "metadata": {},
   "outputs": [],
   "source": [
    "x_train = X_train\n",
    "x_test = X_test"
   ]
  },
  {
   "cell_type": "code",
   "execution_count": 91,
   "metadata": {},
   "outputs": [],
   "source": [
    "# grid search for best parameter\n",
    "grid_values = {'max_features': np.linspace(1,56,56, dtype='int32'),\n",
    "              'min_samples_leaf': [5],\n",
    "              'n_estimators': [500],\n",
    "              'random_state': [88]} "
   ]
  },
  {
   "cell_type": "code",
   "execution_count": 92,
   "metadata": {},
   "outputs": [
    {
     "data": {
      "text/plain": [
       "GridSearchCV(cv=5, estimator=RandomForestRegressor(),\n",
       "             param_grid={'max_features': array([ 1,  2,  3,  4,  5,  6,  7,  8,  9, 10, 11, 12, 13, 14, 15, 16, 17,\n",
       "       18, 19, 20, 21, 22, 23, 24, 25, 26, 27, 28, 29, 30, 31, 32, 33, 34,\n",
       "       35, 36, 37, 38, 39, 40, 41, 42, 43, 44, 45, 46, 47, 48, 49, 50, 51,\n",
       "       52, 53, 54, 55, 56], dtype=int32),\n",
       "                         'min_samples_leaf': [5], 'n_estimators': [500],\n",
       "                         'random_state': [88]},\n",
       "             scoring='neg_root_mean_squared_error')"
      ]
     },
     "execution_count": 92,
     "metadata": {},
     "output_type": "execute_result"
    }
   ],
   "source": [
    "# build random forest model\n",
    "rf = RandomForestRegressor() \n",
    "rf_cv = GridSearchCV(rf, param_grid = grid_values, scoring='neg_root_mean_squared_error', cv=5)\n",
    "rf_cv.fit(x_train, y_train)"
   ]
  },
  {
   "cell_type": "code",
   "execution_count": 93,
   "metadata": {},
   "outputs": [
    {
     "data": {
      "text/plain": [
       "(1.0, 56.0)"
      ]
     },
     "execution_count": 93,
     "metadata": {},
     "output_type": "execute_result"
    },
    {
     "data": {
      "image/png": "[encoded data removed]",
      "text/plain": [
       "<Figure size 720x720 with 1 Axes>"
      ]
     },
     "metadata": {},
     "output_type": "display_data"
    }
   ],
   "source": [
    "# plot mrse coressonding to different max features\n",
    "max_features = rf_cv.cv_results_['param_max_features'].data\n",
    "mrse = (-1) * rf_cv.cv_results_['mean_test_score']\n",
    "\n",
    "plt.xlabel('max features', fontsize=16)\n",
    "plt.ylabel('root_mean_squared_error', fontsize=16)\n",
    "plt.scatter(max_features, mrse, s=30)\n",
    "plt.plot(max_features, mrse, linewidth=3)\n",
    "plt.grid(True, which='both')\n",
    "plt.xlim([1, 56])"
   ]
  },
  {
   "cell_type": "code",
   "execution_count": 94,
   "metadata": {},
   "outputs": [
    {
     "name": "stdout",
     "output_type": "stream",
     "text": [
      "{'max_features': 52, 'min_samples_leaf': 5, 'n_estimators': 500, 'random_state': 88}\n",
      "-34812.836420547836\n"
     ]
    }
   ],
   "source": [
    "# print the best parameter\n",
    "print(rf_cv.best_params_)\n",
    "print(rf_cv.best_score_)"
   ]
  },
  {
   "cell_type": "code",
   "execution_count": 95,
   "metadata": {},
   "outputs": [],
   "source": [
    "# print feature importance\n",
    "imp = pd.DataFrame({'Feature' : x_train.columns, \n",
    "              'Importance score': 100 * rf_cv.best_estimator_.feature_importances_}).round(1)\n",
    "\n",
    "# print 10 highest inportance score of features\n",
    "imp = imp.sort_values(by = 'Importance score', ascending = False).reset_index(drop = True).loc[0:10,:]"
   ]
  },
  {
   "cell_type": "code",
   "execution_count": 96,
   "metadata": {},
   "outputs": [
    {
     "data": {
      "image/png": "[encoded data removed]",
      "text/plain": [
       "<Figure size 720x720 with 1 Axes>"
      ]
     },
     "metadata": {},
     "output_type": "display_data"
    }
   ],
   "source": [
    "# plot a barplot of feature importance\n",
    "import seaborn as sns\n",
    "sns.set_theme(style = \"whitegrid\")\n",
    "ax = sns.barplot(x = \"Importance score\", y = \"Feature\", data = imp)"
   ]
  },
  {
   "cell_type": "code",
   "execution_count": 97,
   "metadata": {},
   "outputs": [
    {
     "data": {
      "text/plain": [
       "array([910811.07977557, 846407.30654092, 830997.2388509 , ...,\n",
       "       727291.85803034, 673588.68184025, 700598.56139206])"
      ]
     },
     "execution_count": 97,
     "metadata": {},
     "output_type": "execute_result"
    }
   ],
   "source": [
    "# predict test set using best model we get\n",
    "y_test = test['SP']\n",
    "y_pred = rf_cv.best_estimator_.predict(x_test)\n",
    "y_pred"
   ]
  },
  {
   "cell_type": "code",
   "execution_count": 98,
   "metadata": {},
   "outputs": [
    {
     "name": "stdout",
     "output_type": "stream",
     "text": [
      "OSR2 0.9044135960886053\n",
      "RMSE 57408.15004823853\n",
      "MAE 37285.038752232584\n"
     ]
    }
   ],
   "source": [
    "# calculate OSR2, RMSE, and MAE for random forest\n",
    "print('OSR2', OSR2(y_train, y_test,y_pred))\n",
    "print('RMSE', RMSE(y_test, y_pred))\n",
    "print('MAE', MAE(y_test, y_pred))"
   ]
  },
  {
   "cell_type": "code",
   "execution_count": 99,
   "metadata": {},
   "outputs": [],
   "source": [
    "import pickle\n",
    "filename = 'RF.sav'\n",
    "pickle.dump(rf_cv.best_estimator_,open(filename,'wb'))"
   ]
  },
  {
   "cell_type": "markdown",
   "metadata": {},
   "source": [
    "### Part VI - Boosting"
   ]
  },
  {
   "cell_type": "code",
   "execution_count": 100,
   "metadata": {},
   "outputs": [],
   "source": [
    "from sklearn.model_selection import GridSearchCV\n",
    "from sklearn.ensemble import GradientBoostingRegressor\n",
    "import time"
   ]
  },
  {
   "cell_type": "code",
   "execution_count": 101,
   "metadata": {},
   "outputs": [
    {
     "name": "stdout",
     "output_type": "stream",
     "text": [
      "time: 236.16 s\n"
     ]
    }
   ],
   "source": [
    "# grid search for max_leaf_nodes and n_estimators\n",
    "grid_values = {'max_leaf_nodes': [3,6,9],\n",
    "               'min_samples_leaf': [10],\n",
    "               'n_estimators': [500,1000,1500,2000,2500],\n",
    "               'learning_rate': [0.01],\n",
    "               'random_state': [88]}\n",
    "\n",
    "tic = time.time()\n",
    "\n",
    "gbr = GradientBoostingRegressor()\n",
    "gbr_cv = GridSearchCV(gbr, param_grid=grid_values, scoring = 'neg_root_mean_squared_error', cv=5, n_jobs = -1)\n",
    "gbr_cv.fit(x_train, y_train)\n",
    "\n",
    "toc = time.time()\n",
    "print('time:', round(toc-tic, 2),'s')"
   ]
  },
  {
   "cell_type": "code",
   "execution_count": 102,
   "metadata": {},
   "outputs": [
    {
     "name": "stdout",
     "output_type": "stream",
     "text": [
      "{'learning_rate': 0.01, 'max_leaf_nodes': 3, 'min_samples_leaf': 10, 'n_estimators': 1000, 'random_state': 88}\n"
     ]
    }
   ],
   "source": [
    "# print best estimator\n",
    "print(gbr_cv.best_params_)"
   ]
  },
  {
   "cell_type": "code",
   "execution_count": 112,
   "metadata": {},
   "outputs": [
    {
     "name": "stdout",
     "output_type": "stream",
     "text": [
      "-34690.748875021214\n"
     ]
    }
   ],
   "source": [
    "# print best estimator\n",
    "print(gbr_cv.best_score_)"
   ]
  },
  {
   "cell_type": "code",
   "execution_count": 103,
   "metadata": {},
   "outputs": [
    {
     "name": "stdout",
     "output_type": "stream",
     "text": [
      "OSR2 of boosting 0.8972932909139157\n",
      "RMSE of boosting 59507.93740051498\n",
      "MAE of boosting 38369.47010657604\n"
     ]
    }
   ],
   "source": [
    "# predict model\n",
    "predict_y = gbr_cv.predict(x_test)\n",
    "test_y = y_test\n",
    "\n",
    "# print data performance\n",
    "print('OSR2 of boosting', OSR2(y_train,test_y,predict_y))\n",
    "print('RMSE of boosting', RMSE(test_y,predict_y))\n",
    "print('MAE of boosting', MAE(test_y,predict_y))"
   ]
  },
  {
   "cell_type": "code",
   "execution_count": 104,
   "metadata": {},
   "outputs": [],
   "source": [
    "import pickle\n",
    "filename = 'boosting.sav'\n",
    "pickle.dump(gbr_cv.best_estimator_,open(filename,'wb'))"
   ]
  },
  {
   "cell_type": "markdown",
   "metadata": {},
   "source": [
    "# Model Evaluation"
   ]
  },
  {
   "cell_type": "code",
   "execution_count": 105,
   "metadata": {},
   "outputs": [],
   "source": [
    "# define function of MAE and Wrapper\n",
    "def MAE_percent(y_test, y_pred):\n",
    "    \n",
    "    return np.mean(abs(y_test - y_pred)/y_test)\n",
    "\n",
    "def wrapper(y_train, y_test, y_pred, metric):\n",
    "    if metric == 'OSR':\n",
    "        return OSR2(y_train, y_test, y_pred)\n",
    "    if metric == 'RMSE':\n",
    "        return RMSE(y_test, y_pred)\n",
    "    if metric == 'MAE':\n",
    "        return MAE(y_test, y_pred)\n",
    "    if metric == 'MAE%':\n",
    "        return MAE_percent(y_test, y_pred)"
   ]
  },
  {
   "cell_type": "code",
   "execution_count": 106,
   "metadata": {},
   "outputs": [],
   "source": [
    "# predict each model using test set\n",
    "#y_pre_ols is already define in the model building section\n",
    "y_pred_ridge = rr_cv_std.predict(test_X)\n",
    "y_pred_lasso = lasso_cv.predict(test_X)\n",
    "y_pred_dtr = dtr_cv_rmse.predict(X_test)\n",
    "y_pred_rf = rf_cv.predict(x_test)\n",
    "y_pred_gbr = gbr_cv.predict(x_test)"
   ]
  },
  {
   "cell_type": "code",
   "execution_count": 107,
   "metadata": {},
   "outputs": [],
   "source": [
    "# baseline model: use mean SP in trainset to predict y in testset\n",
    "y_pred_base = [y_train.mean()]*len(test)"
   ]
  },
  {
   "cell_type": "code",
   "execution_count": 108,
   "metadata": {},
   "outputs": [],
   "source": [
    "# compile predictions across all models into one dataframe\n",
    "models = ['baseline','OLS Regression','Ridge Regression','Lasso Regression','CART','Random Forest','Gradient Boosting']\n",
    "pred_df = pd.DataFrame(np.transpose([y_pred_base, y_pred_ols,y_pred_ridge,y_pred_lasso, y_pred_dtr, y_pred_rf, y_pred_gbr]))\n",
    "pred_df.columns = models"
   ]
  },
  {
   "cell_type": "code",
   "execution_count": 109,
   "metadata": {},
   "outputs": [
    {
     "data": {
      "text/html": [
       "<div>\n",
       "<style scoped>\n",
       "    .dataframe tbody tr th:only-of-type {\n",
       "        vertical-align: middle;\n",
       "    }\n",
       "\n",
       "    .dataframe tbody tr th {\n",
       "        vertical-align: top;\n",
       "    }\n",
       "\n",
       "    .dataframe thead th {\n",
       "        text-align: right;\n",
       "    }\n",
       "</style>\n",
       "<table border=\"1\" class=\"dataframe\">\n",
       "  <thead>\n",
       "    <tr style=\"text-align: right;\">\n",
       "      <th></th>\n",
       "      <th>OSR</th>\n",
       "      <th>RMSE</th>\n",
       "      <th>MAE</th>\n",
       "      <th>MAE%</th>\n",
       "    </tr>\n",
       "  </thead>\n",
       "  <tbody>\n",
       "    <tr>\n",
       "      <th>baseline</th>\n",
       "      <td>0.0</td>\n",
       "      <td>185684.43074</td>\n",
       "      <td>157477.378599</td>\n",
       "      <td>0.223894</td>\n",
       "    </tr>\n",
       "    <tr>\n",
       "      <th>OLS Regression</th>\n",
       "      <td>0.895167</td>\n",
       "      <td>60120.783822</td>\n",
       "      <td>40174.510453</td>\n",
       "      <td>0.047599</td>\n",
       "    </tr>\n",
       "    <tr>\n",
       "      <th>Ridge Regression</th>\n",
       "      <td>0.901193</td>\n",
       "      <td>58367.238415</td>\n",
       "      <td>38007.496946</td>\n",
       "      <td>0.044727</td>\n",
       "    </tr>\n",
       "    <tr>\n",
       "      <th>Lasso Regression</th>\n",
       "      <td>0.899158</td>\n",
       "      <td>58965.402029</td>\n",
       "      <td>38258.432912</td>\n",
       "      <td>0.044752</td>\n",
       "    </tr>\n",
       "    <tr>\n",
       "      <th>CART</th>\n",
       "      <td>0.906306</td>\n",
       "      <td>56836.976899</td>\n",
       "      <td>37761.233646</td>\n",
       "      <td>0.045042</td>\n",
       "    </tr>\n",
       "    <tr>\n",
       "      <th>Random Forest</th>\n",
       "      <td>0.904414</td>\n",
       "      <td>57408.150048</td>\n",
       "      <td>37285.038752</td>\n",
       "      <td>0.044053</td>\n",
       "    </tr>\n",
       "    <tr>\n",
       "      <th>Gradient Boosting</th>\n",
       "      <td>0.897293</td>\n",
       "      <td>59507.937401</td>\n",
       "      <td>38369.470107</td>\n",
       "      <td>0.044852</td>\n",
       "    </tr>\n",
       "  </tbody>\n",
       "</table>\n",
       "</div>"
      ],
      "text/plain": [
       "                        OSR          RMSE            MAE      MAE%\n",
       "baseline                0.0  185684.43074  157477.378599  0.223894\n",
       "OLS Regression     0.895167  60120.783822   40174.510453  0.047599\n",
       "Ridge Regression   0.901193  58367.238415   38007.496946  0.044727\n",
       "Lasso Regression   0.899158  58965.402029   38258.432912  0.044752\n",
       "CART               0.906306  56836.976899   37761.233646  0.045042\n",
       "Random Forest      0.904414  57408.150048   37285.038752  0.044053\n",
       "Gradient Boosting  0.897293  59507.937401   38369.470107  0.044852"
      ]
     },
     "execution_count": 109,
     "metadata": {},
     "output_type": "execute_result"
    }
   ],
   "source": [
    "# generate metrics table\n",
    "\n",
    "metric_lst = ['OSR','RMSE','MAE','MAE%']\n",
    "\n",
    "metric_df = pd.DataFrame(columns = metric_lst)\n",
    "\n",
    "for model in models:\n",
    "    for metric in metric_lst:\n",
    "        metric_df.loc[model, metric] = wrapper(train_y, test_y, pred_df[model].values, metric)\n",
    "\n",
    "metric_df"
   ]
  },
  {
   "cell_type": "code",
   "execution_count": 110,
   "metadata": {},
   "outputs": [
    {
     "name": "stdout",
     "output_type": "stream",
     "text": [
      "OSR: 0.8672017403758719\n",
      "RMSE: 67666.1835224605\n",
      "MAE: 44311.6455399061\n",
      "MAE%: 0.05126992172754633\n"
     ]
    }
   ],
   "source": [
    "# taking LP as baseline\n",
    "for metric in metric_lst:\n",
    "    print(metric+': '+str(wrapper(train_y, test_y, test['LP'].values, metric)))"
   ]
  }
 ],
 "metadata": {
  "colab": {
   "collapsed_sections": [],
   "name": "242project",
   "provenance": []
  },
  "kernelspec": {
   "display_name": "Python 3",
   "language": "python",
   "name": "python3"
  },
  "language_info": {
   "codemirror_mode": {
    "name": "ipython",
    "version": 3
   },
   "file_extension": ".py",
   "mimetype": "text/x-python",
   "name": "python",
   "nbconvert_exporter": "python",
   "pygments_lexer": "ipython3",
   "version": "3.8.8"
  }
 },
 "nbformat": 4,
 "nbformat_minor": 1
}
